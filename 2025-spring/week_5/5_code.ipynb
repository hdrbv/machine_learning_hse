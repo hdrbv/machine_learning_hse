{
 "cells": [
  {
   "cell_type": "markdown",
   "metadata": {},
   "source": [
    "# Оценка качества моделей классификации.\n",
    "\n",
    "Будем тренироваться интерпретировать качество моделей классификации."
   ]
  },
  {
   "cell_type": "code",
   "execution_count": 1,
   "metadata": {},
   "outputs": [
    {
     "name": "stdout",
     "output_type": "stream",
     "text": [
      "%pylab is deprecated, use %matplotlib inline and import the required libraries.\n",
      "Populating the interactive namespace from numpy and matplotlib\n"
     ]
    }
   ],
   "source": [
    "import pandas as pd\n",
    "import matplotlib.pyplot as plt\n",
    "\n",
    "%pylab inline"
   ]
  },
  {
   "cell_type": "markdown",
   "metadata": {},
   "source": [
    "### Задача: датасет о кредитном скоринге. \n",
    "* Колонки 0, 1, ..., 13 - анонимизированные характеристики клиентов (некоторые числовые, некоторые категориальные). \n",
    "* Target - целевая переменная: 1 - выдать кредит, 0 - не выдать кредит.\n",
    "\n",
    "На этих данных было обучено три различных алгоритма классификации и получены предсказания:\n",
    "* pred1_probs - предсказанные вероятности положительного класса, полученные алгоритмом 1.\n",
    "* pred1_classes - предсказанные алгоритмом 1 классы\n",
    "* pred2_probs, pred2_classes, pred3_probs, pred3_classes - аналогичные величины для алгоритмов 2 и 3\n",
    "\n",
    "Наша задача - оценить качество каждого из трех алгоритмов и разобраться, какой из алгоритмов лучше всего работает в данной задаче."
   ]
  },
  {
   "cell_type": "code",
   "execution_count": 2,
   "metadata": {},
   "outputs": [
    {
     "data": {
      "text/html": [
       "<div>\n",
       "<style scoped>\n",
       "    .dataframe tbody tr th:only-of-type {\n",
       "        vertical-align: middle;\n",
       "    }\n",
       "\n",
       "    .dataframe tbody tr th {\n",
       "        vertical-align: top;\n",
       "    }\n",
       "\n",
       "    .dataframe thead th {\n",
       "        text-align: right;\n",
       "    }\n",
       "</style>\n",
       "<table border=\"1\" class=\"dataframe\">\n",
       "  <thead>\n",
       "    <tr style=\"text-align: right;\">\n",
       "      <th></th>\n",
       "      <th>0</th>\n",
       "      <th>1</th>\n",
       "      <th>2</th>\n",
       "      <th>3</th>\n",
       "      <th>4</th>\n",
       "      <th>5</th>\n",
       "      <th>6</th>\n",
       "      <th>7</th>\n",
       "      <th>8</th>\n",
       "      <th>9</th>\n",
       "      <th>...</th>\n",
       "      <th>11</th>\n",
       "      <th>12</th>\n",
       "      <th>13</th>\n",
       "      <th>target</th>\n",
       "      <th>pred1_probs</th>\n",
       "      <th>pred1_classes</th>\n",
       "      <th>pred2_probs</th>\n",
       "      <th>pred2_classes</th>\n",
       "      <th>pred3_probs</th>\n",
       "      <th>pred3_classes</th>\n",
       "    </tr>\n",
       "  </thead>\n",
       "  <tbody>\n",
       "    <tr>\n",
       "      <th>0</th>\n",
       "      <td>1</td>\n",
       "      <td>22.08</td>\n",
       "      <td>11.46</td>\n",
       "      <td>2</td>\n",
       "      <td>4</td>\n",
       "      <td>4</td>\n",
       "      <td>1.585</td>\n",
       "      <td>0</td>\n",
       "      <td>0</td>\n",
       "      <td>0</td>\n",
       "      <td>...</td>\n",
       "      <td>2</td>\n",
       "      <td>100</td>\n",
       "      <td>1213</td>\n",
       "      <td>0</td>\n",
       "      <td>0.506772</td>\n",
       "      <td>1</td>\n",
       "      <td>0.610853</td>\n",
       "      <td>1</td>\n",
       "      <td>0.375494</td>\n",
       "      <td>0</td>\n",
       "    </tr>\n",
       "    <tr>\n",
       "      <th>1</th>\n",
       "      <td>0</td>\n",
       "      <td>22.67</td>\n",
       "      <td>7.00</td>\n",
       "      <td>2</td>\n",
       "      <td>8</td>\n",
       "      <td>4</td>\n",
       "      <td>0.165</td>\n",
       "      <td>0</td>\n",
       "      <td>0</td>\n",
       "      <td>0</td>\n",
       "      <td>...</td>\n",
       "      <td>2</td>\n",
       "      <td>160</td>\n",
       "      <td>1</td>\n",
       "      <td>0</td>\n",
       "      <td>0.358519</td>\n",
       "      <td>0</td>\n",
       "      <td>0.185941</td>\n",
       "      <td>0</td>\n",
       "      <td>0.200975</td>\n",
       "      <td>0</td>\n",
       "    </tr>\n",
       "    <tr>\n",
       "      <th>2</th>\n",
       "      <td>0</td>\n",
       "      <td>29.58</td>\n",
       "      <td>1.75</td>\n",
       "      <td>1</td>\n",
       "      <td>4</td>\n",
       "      <td>4</td>\n",
       "      <td>1.250</td>\n",
       "      <td>0</td>\n",
       "      <td>0</td>\n",
       "      <td>0</td>\n",
       "      <td>...</td>\n",
       "      <td>2</td>\n",
       "      <td>280</td>\n",
       "      <td>1</td>\n",
       "      <td>0</td>\n",
       "      <td>0.358753</td>\n",
       "      <td>0</td>\n",
       "      <td>0.523009</td>\n",
       "      <td>1</td>\n",
       "      <td>0.160465</td>\n",
       "      <td>0</td>\n",
       "    </tr>\n",
       "    <tr>\n",
       "      <th>3</th>\n",
       "      <td>0</td>\n",
       "      <td>21.67</td>\n",
       "      <td>11.50</td>\n",
       "      <td>1</td>\n",
       "      <td>5</td>\n",
       "      <td>3</td>\n",
       "      <td>0.000</td>\n",
       "      <td>1</td>\n",
       "      <td>1</td>\n",
       "      <td>11</td>\n",
       "      <td>...</td>\n",
       "      <td>2</td>\n",
       "      <td>0</td>\n",
       "      <td>1</td>\n",
       "      <td>1</td>\n",
       "      <td>0.408729</td>\n",
       "      <td>0</td>\n",
       "      <td>0.185941</td>\n",
       "      <td>0</td>\n",
       "      <td>0.357771</td>\n",
       "      <td>0</td>\n",
       "    </tr>\n",
       "    <tr>\n",
       "      <th>4</th>\n",
       "      <td>1</td>\n",
       "      <td>20.17</td>\n",
       "      <td>8.17</td>\n",
       "      <td>2</td>\n",
       "      <td>6</td>\n",
       "      <td>4</td>\n",
       "      <td>1.960</td>\n",
       "      <td>1</td>\n",
       "      <td>1</td>\n",
       "      <td>14</td>\n",
       "      <td>...</td>\n",
       "      <td>2</td>\n",
       "      <td>60</td>\n",
       "      <td>159</td>\n",
       "      <td>1</td>\n",
       "      <td>0.480904</td>\n",
       "      <td>0</td>\n",
       "      <td>0.526646</td>\n",
       "      <td>1</td>\n",
       "      <td>0.260169</td>\n",
       "      <td>0</td>\n",
       "    </tr>\n",
       "  </tbody>\n",
       "</table>\n",
       "<p>5 rows × 21 columns</p>\n",
       "</div>"
      ],
      "text/plain": [
       "   0      1      2  3  4  5      6  7  8   9  ...  11   12    13  target  \\\n",
       "0  1  22.08  11.46  2  4  4  1.585  0  0   0  ...   2  100  1213       0   \n",
       "1  0  22.67   7.00  2  8  4  0.165  0  0   0  ...   2  160     1       0   \n",
       "2  0  29.58   1.75  1  4  4  1.250  0  0   0  ...   2  280     1       0   \n",
       "3  0  21.67  11.50  1  5  3  0.000  1  1  11  ...   2    0     1       1   \n",
       "4  1  20.17   8.17  2  6  4  1.960  1  1  14  ...   2   60   159       1   \n",
       "\n",
       "   pred1_probs  pred1_classes  pred2_probs  pred2_classes  pred3_probs  \\\n",
       "0     0.506772              1     0.610853              1     0.375494   \n",
       "1     0.358519              0     0.185941              0     0.200975   \n",
       "2     0.358753              0     0.523009              1     0.160465   \n",
       "3     0.408729              0     0.185941              0     0.357771   \n",
       "4     0.480904              0     0.526646              1     0.260169   \n",
       "\n",
       "   pred3_classes  \n",
       "0              0  \n",
       "1              0  \n",
       "2              0  \n",
       "3              0  \n",
       "4              0  \n",
       "\n",
       "[5 rows x 21 columns]"
      ]
     },
     "execution_count": 2,
     "metadata": {},
     "output_type": "execute_result"
    }
   ],
   "source": [
    "df = pd.read_csv(\"credit_scoring_example1.csv\")\n",
    "df.head()"
   ]
  },
  {
   "cell_type": "code",
   "execution_count": 4,
   "metadata": {},
   "outputs": [
    {
     "data": {
      "text/plain": [
       "array([0, 1])"
      ]
     },
     "execution_count": 4,
     "metadata": {},
     "output_type": "execute_result"
    }
   ],
   "source": [
    "df.target.unique()"
   ]
  },
  {
   "cell_type": "code",
   "execution_count": 5,
   "metadata": {},
   "outputs": [
    {
     "data": {
      "text/plain": [
       "(689, 21)"
      ]
     },
     "execution_count": 5,
     "metadata": {},
     "output_type": "execute_result"
    }
   ],
   "source": [
    "df.shape"
   ]
  },
  {
   "cell_type": "markdown",
   "metadata": {},
   "source": [
    "Посмотрим, сбалансированная ли выборка."
   ]
  },
  {
   "cell_type": "code",
   "execution_count": 6,
   "metadata": {},
   "outputs": [
    {
     "data": {
      "text/plain": [
       "(382, 307)"
      ]
     },
     "execution_count": 6,
     "metadata": {},
     "output_type": "execute_result"
    }
   ],
   "source": [
    "len(df[df.target == 0]), len(df[df.target == 1])"
   ]
  },
  {
   "cell_type": "markdown",
   "metadata": {},
   "source": [
    "Оценим **accuracy** - долю правильных ответов каждого из алгоритмов."
   ]
  },
  {
   "cell_type": "code",
   "execution_count": 7,
   "metadata": {},
   "outputs": [],
   "source": [
    "from sklearn.metrics import accuracy_score"
   ]
  },
  {
   "cell_type": "code",
   "execution_count": 8,
   "metadata": {},
   "outputs": [
    {
     "name": "stdout",
     "output_type": "stream",
     "text": [
      "Help on function accuracy_score in module sklearn.metrics._classification:\n",
      "\n",
      "accuracy_score(y_true, y_pred, *, normalize=True, sample_weight=None)\n",
      "    Accuracy classification score.\n",
      "    \n",
      "    In multilabel classification, this function computes subset accuracy:\n",
      "    the set of labels predicted for a sample must *exactly* match the\n",
      "    corresponding set of labels in y_true.\n",
      "    \n",
      "    Read more in the :ref:`User Guide <accuracy_score>`.\n",
      "    \n",
      "    Parameters\n",
      "    ----------\n",
      "    y_true : 1d array-like, or label indicator array / sparse matrix\n",
      "        Ground truth (correct) labels.\n",
      "    \n",
      "    y_pred : 1d array-like, or label indicator array / sparse matrix\n",
      "        Predicted labels, as returned by a classifier.\n",
      "    \n",
      "    normalize : bool, default=True\n",
      "        If ``False``, return the number of correctly classified samples.\n",
      "        Otherwise, return the fraction of correctly classified samples.\n",
      "    \n",
      "    sample_weight : array-like of shape (n_samples,), default=None\n",
      "        Sample weights.\n",
      "    \n",
      "    Returns\n",
      "    -------\n",
      "    score : float\n",
      "        If ``normalize == True``, return the fraction of correctly\n",
      "        classified samples (float), else returns the number of correctly\n",
      "        classified samples (int).\n",
      "    \n",
      "        The best performance is 1 with ``normalize == True`` and the number\n",
      "        of samples with ``normalize == False``.\n",
      "    \n",
      "    See Also\n",
      "    --------\n",
      "    balanced_accuracy_score : Compute the balanced accuracy to deal with\n",
      "        imbalanced datasets.\n",
      "    jaccard_score : Compute the Jaccard similarity coefficient score.\n",
      "    hamming_loss : Compute the average Hamming loss or Hamming distance between\n",
      "        two sets of samples.\n",
      "    zero_one_loss : Compute the Zero-one classification loss. By default, the\n",
      "        function will return the percentage of imperfectly predicted subsets.\n",
      "    \n",
      "    Notes\n",
      "    -----\n",
      "    In binary classification, this function is equal to the `jaccard_score`\n",
      "    function.\n",
      "    \n",
      "    Examples\n",
      "    --------\n",
      "    >>> from sklearn.metrics import accuracy_score\n",
      "    >>> y_pred = [0, 2, 1, 3]\n",
      "    >>> y_true = [0, 1, 2, 3]\n",
      "    >>> accuracy_score(y_true, y_pred)\n",
      "    0.5\n",
      "    >>> accuracy_score(y_true, y_pred, normalize=False)\n",
      "    2\n",
      "    \n",
      "    In the multilabel case with binary label indicators:\n",
      "    \n",
      "    >>> import numpy as np\n",
      "    >>> accuracy_score(np.array([[0, 1], [1, 1]]), np.ones((2, 2)))\n",
      "    0.5\n",
      "\n"
     ]
    }
   ],
   "source": [
    "help(accuracy_score)"
   ]
  },
  {
   "cell_type": "code",
   "execution_count": 9,
   "metadata": {},
   "outputs": [
    {
     "name": "stdout",
     "output_type": "stream",
     "text": [
      "алгоритм 1: 0.6618287373004355\n",
      "алгоритм 2: 0.6719883889695211\n",
      "алгоритм 3: 0.6400580551523948\n"
     ]
    }
   ],
   "source": [
    "print('алгоритм 1:', accuracy_score(df['target'], df['pred1_classes']))\n",
    "print('алгоритм 2:', accuracy_score(df['target'], df['pred2_classes']))\n",
    "print('алгоритм 3:', accuracy_score(df['target'], df['pred3_classes']))"
   ]
  },
  {
   "cell_type": "markdown",
   "metadata": {},
   "source": [
    "***С точки зрения метрики accuracy второй алгоритм работает немного лучше остальных***. Посмотрим на другие метрики.\n",
    "\n",
    "Теперь посмотрим на **precision** и **recall**."
   ]
  },
  {
   "cell_type": "code",
   "execution_count": 10,
   "metadata": {},
   "outputs": [],
   "source": [
    "from sklearn.metrics import precision_score, recall_score"
   ]
  },
  {
   "cell_type": "code",
   "execution_count": 11,
   "metadata": {},
   "outputs": [
    {
     "name": "stdout",
     "output_type": "stream",
     "text": [
      "Help on function precision_score in module sklearn.metrics._classification:\n",
      "\n",
      "precision_score(y_true, y_pred, *, labels=None, pos_label=1, average='binary', sample_weight=None, zero_division='warn')\n",
      "    Compute the precision.\n",
      "    \n",
      "    The precision is the ratio ``tp / (tp + fp)`` where ``tp`` is the number of\n",
      "    true positives and ``fp`` the number of false positives. The precision is\n",
      "    intuitively the ability of the classifier not to label as positive a sample\n",
      "    that is negative.\n",
      "    \n",
      "    The best value is 1 and the worst value is 0.\n",
      "    \n",
      "    Read more in the :ref:`User Guide <precision_recall_f_measure_metrics>`.\n",
      "    \n",
      "    Parameters\n",
      "    ----------\n",
      "    y_true : 1d array-like, or label indicator array / sparse matrix\n",
      "        Ground truth (correct) target values.\n",
      "    \n",
      "    y_pred : 1d array-like, or label indicator array / sparse matrix\n",
      "        Estimated targets as returned by a classifier.\n",
      "    \n",
      "    labels : array-like, default=None\n",
      "        The set of labels to include when ``average != 'binary'``, and their\n",
      "        order if ``average is None``. Labels present in the data can be\n",
      "        excluded, for example to calculate a multiclass average ignoring a\n",
      "        majority negative class, while labels not present in the data will\n",
      "        result in 0 components in a macro average. For multilabel targets,\n",
      "        labels are column indices. By default, all labels in ``y_true`` and\n",
      "        ``y_pred`` are used in sorted order.\n",
      "    \n",
      "        .. versionchanged:: 0.17\n",
      "           Parameter `labels` improved for multiclass problem.\n",
      "    \n",
      "    pos_label : str or int, default=1\n",
      "        The class to report if ``average='binary'`` and the data is binary.\n",
      "        If the data are multiclass or multilabel, this will be ignored;\n",
      "        setting ``labels=[pos_label]`` and ``average != 'binary'`` will report\n",
      "        scores for that label only.\n",
      "    \n",
      "    average : {'micro', 'macro', 'samples', 'weighted', 'binary'} or None,             default='binary'\n",
      "        This parameter is required for multiclass/multilabel targets.\n",
      "        If ``None``, the scores for each class are returned. Otherwise, this\n",
      "        determines the type of averaging performed on the data:\n",
      "    \n",
      "        ``'binary'``:\n",
      "            Only report results for the class specified by ``pos_label``.\n",
      "            This is applicable only if targets (``y_{true,pred}``) are binary.\n",
      "        ``'micro'``:\n",
      "            Calculate metrics globally by counting the total true positives,\n",
      "            false negatives and false positives.\n",
      "        ``'macro'``:\n",
      "            Calculate metrics for each label, and find their unweighted\n",
      "            mean.  This does not take label imbalance into account.\n",
      "        ``'weighted'``:\n",
      "            Calculate metrics for each label, and find their average weighted\n",
      "            by support (the number of true instances for each label). This\n",
      "            alters 'macro' to account for label imbalance; it can result in an\n",
      "            F-score that is not between precision and recall.\n",
      "        ``'samples'``:\n",
      "            Calculate metrics for each instance, and find their average (only\n",
      "            meaningful for multilabel classification where this differs from\n",
      "            :func:`accuracy_score`).\n",
      "    \n",
      "    sample_weight : array-like of shape (n_samples,), default=None\n",
      "        Sample weights.\n",
      "    \n",
      "    zero_division : \"warn\", 0 or 1, default=\"warn\"\n",
      "        Sets the value to return when there is a zero division. If set to\n",
      "        \"warn\", this acts as 0, but warnings are also raised.\n",
      "    \n",
      "    Returns\n",
      "    -------\n",
      "    precision : float (if average is not None) or array of float of shape                 (n_unique_labels,)\n",
      "        Precision of the positive class in binary classification or weighted\n",
      "        average of the precision of each class for the multiclass task.\n",
      "    \n",
      "    See Also\n",
      "    --------\n",
      "    precision_recall_fscore_support : Compute precision, recall, F-measure and\n",
      "        support for each class.\n",
      "    recall_score :  Compute the ratio ``tp / (tp + fn)`` where ``tp`` is the\n",
      "        number of true positives and ``fn`` the number of false negatives.\n",
      "    PrecisionRecallDisplay.from_estimator : Plot precision-recall curve given\n",
      "        an estimator and some data.\n",
      "    PrecisionRecallDisplay.from_predictions : Plot precision-recall curve given\n",
      "        binary class predictions.\n",
      "    multilabel_confusion_matrix : Compute a confusion matrix for each class or\n",
      "        sample.\n",
      "    \n",
      "    Notes\n",
      "    -----\n",
      "    When ``true positive + false positive == 0``, precision returns 0 and\n",
      "    raises ``UndefinedMetricWarning``. This behavior can be\n",
      "    modified with ``zero_division``.\n",
      "    \n",
      "    Examples\n",
      "    --------\n",
      "    >>> from sklearn.metrics import precision_score\n",
      "    >>> y_true = [0, 1, 2, 0, 1, 2]\n",
      "    >>> y_pred = [0, 2, 1, 0, 0, 1]\n",
      "    >>> precision_score(y_true, y_pred, average='macro')\n",
      "    0.22...\n",
      "    >>> precision_score(y_true, y_pred, average='micro')\n",
      "    0.33...\n",
      "    >>> precision_score(y_true, y_pred, average='weighted')\n",
      "    0.22...\n",
      "    >>> precision_score(y_true, y_pred, average=None)\n",
      "    array([0.66..., 0.        , 0.        ])\n",
      "    >>> y_pred = [0, 0, 0, 0, 0, 0]\n",
      "    >>> precision_score(y_true, y_pred, average=None)\n",
      "    array([0.33..., 0.        , 0.        ])\n",
      "    >>> precision_score(y_true, y_pred, average=None, zero_division=1)\n",
      "    array([0.33..., 1.        , 1.        ])\n",
      "    >>> # multilabel classification\n",
      "    >>> y_true = [[0, 0, 0], [1, 1, 1], [0, 1, 1]]\n",
      "    >>> y_pred = [[0, 0, 0], [1, 1, 1], [1, 1, 0]]\n",
      "    >>> precision_score(y_true, y_pred, average=None)\n",
      "    array([0.5, 1. , 1. ])\n",
      "\n"
     ]
    }
   ],
   "source": [
    "help(precision_score)"
   ]
  },
  {
   "cell_type": "code",
   "execution_count": 12,
   "metadata": {},
   "outputs": [
    {
     "name": "stdout",
     "output_type": "stream",
     "text": [
      "Help on function recall_score in module sklearn.metrics._classification:\n",
      "\n",
      "recall_score(y_true, y_pred, *, labels=None, pos_label=1, average='binary', sample_weight=None, zero_division='warn')\n",
      "    Compute the recall.\n",
      "    \n",
      "    The recall is the ratio ``tp / (tp + fn)`` where ``tp`` is the number of\n",
      "    true positives and ``fn`` the number of false negatives. The recall is\n",
      "    intuitively the ability of the classifier to find all the positive samples.\n",
      "    \n",
      "    The best value is 1 and the worst value is 0.\n",
      "    \n",
      "    Read more in the :ref:`User Guide <precision_recall_f_measure_metrics>`.\n",
      "    \n",
      "    Parameters\n",
      "    ----------\n",
      "    y_true : 1d array-like, or label indicator array / sparse matrix\n",
      "        Ground truth (correct) target values.\n",
      "    \n",
      "    y_pred : 1d array-like, or label indicator array / sparse matrix\n",
      "        Estimated targets as returned by a classifier.\n",
      "    \n",
      "    labels : array-like, default=None\n",
      "        The set of labels to include when ``average != 'binary'``, and their\n",
      "        order if ``average is None``. Labels present in the data can be\n",
      "        excluded, for example to calculate a multiclass average ignoring a\n",
      "        majority negative class, while labels not present in the data will\n",
      "        result in 0 components in a macro average. For multilabel targets,\n",
      "        labels are column indices. By default, all labels in ``y_true`` and\n",
      "        ``y_pred`` are used in sorted order.\n",
      "    \n",
      "        .. versionchanged:: 0.17\n",
      "           Parameter `labels` improved for multiclass problem.\n",
      "    \n",
      "    pos_label : str or int, default=1\n",
      "        The class to report if ``average='binary'`` and the data is binary.\n",
      "        If the data are multiclass or multilabel, this will be ignored;\n",
      "        setting ``labels=[pos_label]`` and ``average != 'binary'`` will report\n",
      "        scores for that label only.\n",
      "    \n",
      "    average : {'micro', 'macro', 'samples', 'weighted', 'binary'} or None,             default='binary'\n",
      "        This parameter is required for multiclass/multilabel targets.\n",
      "        If ``None``, the scores for each class are returned. Otherwise, this\n",
      "        determines the type of averaging performed on the data:\n",
      "    \n",
      "        ``'binary'``:\n",
      "            Only report results for the class specified by ``pos_label``.\n",
      "            This is applicable only if targets (``y_{true,pred}``) are binary.\n",
      "        ``'micro'``:\n",
      "            Calculate metrics globally by counting the total true positives,\n",
      "            false negatives and false positives.\n",
      "        ``'macro'``:\n",
      "            Calculate metrics for each label, and find their unweighted\n",
      "            mean.  This does not take label imbalance into account.\n",
      "        ``'weighted'``:\n",
      "            Calculate metrics for each label, and find their average weighted\n",
      "            by support (the number of true instances for each label). This\n",
      "            alters 'macro' to account for label imbalance; it can result in an\n",
      "            F-score that is not between precision and recall. Weighted recall\n",
      "            is equal to accuracy.\n",
      "        ``'samples'``:\n",
      "            Calculate metrics for each instance, and find their average (only\n",
      "            meaningful for multilabel classification where this differs from\n",
      "            :func:`accuracy_score`).\n",
      "    \n",
      "    sample_weight : array-like of shape (n_samples,), default=None\n",
      "        Sample weights.\n",
      "    \n",
      "    zero_division : \"warn\", 0 or 1, default=\"warn\"\n",
      "        Sets the value to return when there is a zero division. If set to\n",
      "        \"warn\", this acts as 0, but warnings are also raised.\n",
      "    \n",
      "    Returns\n",
      "    -------\n",
      "    recall : float (if average is not None) or array of float of shape              (n_unique_labels,)\n",
      "        Recall of the positive class in binary classification or weighted\n",
      "        average of the recall of each class for the multiclass task.\n",
      "    \n",
      "    See Also\n",
      "    --------\n",
      "    precision_recall_fscore_support : Compute precision, recall, F-measure and\n",
      "        support for each class.\n",
      "    precision_score : Compute the ratio ``tp / (tp + fp)`` where ``tp`` is the\n",
      "        number of true positives and ``fp`` the number of false positives.\n",
      "    balanced_accuracy_score : Compute balanced accuracy to deal with imbalanced\n",
      "        datasets.\n",
      "    multilabel_confusion_matrix : Compute a confusion matrix for each class or\n",
      "        sample.\n",
      "    PrecisionRecallDisplay.from_estimator : Plot precision-recall curve given\n",
      "        an estimator and some data.\n",
      "    PrecisionRecallDisplay.from_predictions : Plot precision-recall curve given\n",
      "        binary class predictions.\n",
      "    \n",
      "    Notes\n",
      "    -----\n",
      "    When ``true positive + false negative == 0``, recall returns 0 and raises\n",
      "    ``UndefinedMetricWarning``. This behavior can be modified with\n",
      "    ``zero_division``.\n",
      "    \n",
      "    Examples\n",
      "    --------\n",
      "    >>> from sklearn.metrics import recall_score\n",
      "    >>> y_true = [0, 1, 2, 0, 1, 2]\n",
      "    >>> y_pred = [0, 2, 1, 0, 0, 1]\n",
      "    >>> recall_score(y_true, y_pred, average='macro')\n",
      "    0.33...\n",
      "    >>> recall_score(y_true, y_pred, average='micro')\n",
      "    0.33...\n",
      "    >>> recall_score(y_true, y_pred, average='weighted')\n",
      "    0.33...\n",
      "    >>> recall_score(y_true, y_pred, average=None)\n",
      "    array([1., 0., 0.])\n",
      "    >>> y_true = [0, 0, 0, 0, 0, 0]\n",
      "    >>> recall_score(y_true, y_pred, average=None)\n",
      "    array([0.5, 0. , 0. ])\n",
      "    >>> recall_score(y_true, y_pred, average=None, zero_division=1)\n",
      "    array([0.5, 1. , 1. ])\n",
      "    >>> # multilabel classification\n",
      "    >>> y_true = [[0, 0, 0], [1, 1, 1], [0, 1, 1]]\n",
      "    >>> y_pred = [[0, 0, 0], [1, 1, 1], [1, 1, 0]]\n",
      "    >>> recall_score(y_true, y_pred, average=None)\n",
      "    array([1. , 1. , 0.5])\n",
      "\n"
     ]
    }
   ],
   "source": [
    "help(recall_score)"
   ]
  },
  {
   "cell_type": "code",
   "execution_count": 13,
   "metadata": {},
   "outputs": [
    {
     "name": "stdout",
     "output_type": "stream",
     "text": [
      "алгоритм 1:\n",
      "точность: 0.6907216494845361\n",
      "полнота: 0.4364820846905538\n",
      "алгоритм 2:\n",
      "точность: 0.6103542234332425\n",
      "полнота: 0.7296416938110749\n",
      "алгоритм 3:\n",
      "точность: 0.6903225806451613\n",
      "полнота: 0.3485342019543974\n"
     ]
    }
   ],
   "source": [
    "print('алгоритм 1:')\n",
    "print('точность:', precision_score(df['target'], df['pred1_classes']))\n",
    "print('полнота:',  recall_score(df['target'], df['pred1_classes']))\n",
    "print('алгоритм 2:')\n",
    "print('точность:', precision_score(df['target'], df['pred2_classes']))\n",
    "print('полнота:',  recall_score(df['target'], df['pred2_classes']))\n",
    "print('алгоритм 3:')\n",
    "print('точность:', precision_score(df['target'], df['pred3_classes']))\n",
    "print('полнота:',  recall_score(df['target'], df['pred3_classes']))"
   ]
  },
  {
   "cell_type": "markdown",
   "metadata": {},
   "source": [
    "Самым полезным инструментом в практических задачах является ***матрица ошибок***. Смотря на неё и регулируя порог, определяющий классы, мы можем достичь оптимального решения нашей задачи."
   ]
  },
  {
   "cell_type": "code",
   "execution_count": 14,
   "metadata": {},
   "outputs": [],
   "source": [
    "import itertools\n",
    "from sklearn.metrics import confusion_matrix\n",
    "\n",
    "def plot_confusion_matrix(cm, classes,\n",
    "                          normalize = False,\n",
    "                          title = 'Confusion matrix',\n",
    "                          cmap = plt.cm.Blues):\n",
    " \n",
    "    plt.imshow(cm, interpolation = 'nearest', cmap = cmap)\n",
    "    plt.title(title)\n",
    "    plt.colorbar()\n",
    "    tick_marks = np.arange(len(classes))\n",
    "    plt.xticks(tick_marks, classes, rotation=45)\n",
    "    plt.yticks(tick_marks, classes)\n",
    "    fmt = '.2f' if normalize else 'd'\n",
    "    thresh = cm.max() / 2.\n",
    "    for i, j in itertools.product(range(cm.shape[0]), range(cm.shape[1])):\n",
    "        plt.text(j, i, format(cm[i, j], fmt),\n",
    "                 horizontalalignment=\"center\",\n",
    "                 color=\"white\" if cm[i, j] > thresh else \"black\")\n",
    "    plt.tight_layout()\n",
    "    plt.ylabel('True label')\n",
    "    plt.xlabel('Predicted label')"
   ]
  },
  {
   "cell_type": "code",
   "execution_count": 15,
   "metadata": {},
   "outputs": [
    {
     "name": "stdout",
     "output_type": "stream",
     "text": [
      "алгоритм 1\n"
     ]
    },
    {
     "data": {
      "image/png": "[encoded data removed]",
      "text/plain": [
       "<Figure size 640x480 with 2 Axes>"
      ]
     },
     "metadata": {},
     "output_type": "display_data"
    },
    {
     "name": "stdout",
     "output_type": "stream",
     "text": [
      "алгоритм 2\n"
     ]
    },
    {
     "data": {
      "image/png": "[encoded data removed]",
      "text/plain": [
       "<Figure size 640x480 with 2 Axes>"
      ]
     },
     "metadata": {},
     "output_type": "display_data"
    },
    {
     "name": "stdout",
     "output_type": "stream",
     "text": [
      "алгоритм 3\n"
     ]
    },
    {
     "data": {
      "image/png": "[encoded data removed]",
      "text/plain": [
       "<Figure size 640x480 with 2 Axes>"
      ]
     },
     "metadata": {},
     "output_type": "display_data"
    }
   ],
   "source": [
    "print('алгоритм 1')\n",
    "plot_confusion_matrix(confusion_matrix(df['target'], df['pred1_classes']), classes=['0','1'],\n",
    "                        title='Confusion matrix, without normalization')\n",
    "show()\n",
    "print('алгоритм 2')\n",
    "plot_confusion_matrix(confusion_matrix(df['target'], df['pred2_classes']), classes=['0','1'],\n",
    "                        title='Confusion matrix, without normalization')\n",
    "show()\n",
    "print('алгоритм 3')\n",
    "plot_confusion_matrix(confusion_matrix(df['target'], df['pred3_classes']), classes=['0','1'],\n",
    "                        title='Confusion matrix, without normalization')\n",
    "show()"
   ]
  },
  {
   "cell_type": "markdown",
   "metadata": {},
   "source": [
    "Давайте определимся с целями нашего предсказания:\n",
    "    \n",
    "* **Вариант 1**: хотим выдать кредит максимальному числу людей среди тех, кто мог бы его вернуть. При этом не хотим много ошибаться (общее число ошибок не более 35%).\n",
    "  \n",
    "1) Мы не хотим, чтобы алгоритм много ошибался: accuracy $\\geq$ 0.65.\n",
    "\n",
    "2) Кроме того полнота должна быть как можно больше (число в левом нижнем квадрате матрицы ошибок минимально).\n",
    "\n",
    "Будем изменять порог вероятности в цикле и смотреть на результаты.\n",
    "\n",
    "Смотрим на **модель 1**:"
   ]
  },
  {
   "cell_type": "code",
   "execution_count": 16,
   "metadata": {},
   "outputs": [
    {
     "data": {
      "text/plain": [
       "0      True\n",
       "1      True\n",
       "2      True\n",
       "3      True\n",
       "4      True\n",
       "       ... \n",
       "684    True\n",
       "685    True\n",
       "686    True\n",
       "687    True\n",
       "688    True\n",
       "Name: pred1_probs, Length: 689, dtype: bool"
      ]
     },
     "execution_count": 16,
     "metadata": {},
     "output_type": "execute_result"
    }
   ],
   "source": [
    "df['pred1_probs'] > 0.2"
   ]
  },
  {
   "cell_type": "code",
   "execution_count": 17,
   "metadata": {},
   "outputs": [
    {
     "name": "stdout",
     "output_type": "stream",
     "text": [
      "threshold = 0.1\n",
      "полнота(recall): 1.0\n",
      "accuracy: 0.4455732946298984\n",
      "\n",
      "threshold = 0.2\n",
      "полнота(recall): 1.0\n",
      "accuracy: 0.4455732946298984\n",
      "\n",
      "threshold = 0.30000000000000004\n",
      "полнота(recall): 0.9185667752442996\n",
      "accuracy: 0.5645863570391872\n",
      "\n",
      "threshold = 0.4\n",
      "полнота(recall): 0.6579804560260586\n",
      "accuracy: 0.6676342525399129\n",
      "\n",
      "threshold = 0.5\n",
      "полнота(recall): 0.4364820846905538\n",
      "accuracy: 0.6618287373004355\n",
      "\n",
      "threshold = 0.6\n",
      "полнота(recall): 0.28664495114006516\n",
      "accuracy: 0.6386066763425254\n",
      "\n",
      "threshold = 0.7000000000000001\n",
      "полнота(recall): 0.21172638436482086\n",
      "accuracy: 0.6240928882438317\n",
      "\n",
      "threshold = 0.8\n",
      "полнота(recall): 0.1237785016286645\n",
      "accuracy: 0.5965166908563135\n",
      "\n",
      "threshold = 0.9\n",
      "полнота(recall): 0.06840390879478828\n",
      "accuracy: 0.579100145137881\n",
      "\n"
     ]
    }
   ],
   "source": [
    "for t in np.arange(0.1, 1, 0.1):\n",
    "    pred1_thr = [1 if x >= t else 0 for x in df['pred1_probs']]\n",
    "    print('threshold =', t)\n",
    "    print('полнота(recall):', recall_score(df['target'],pred1_thr))\n",
    "    print('accuracy:', accuracy_score(df['target'],pred1_thr))\n",
    "    print()"
   ]
  },
  {
   "cell_type": "code",
   "execution_count": 18,
   "metadata": {},
   "outputs": [
    {
     "name": "stdout",
     "output_type": "stream",
     "text": [
      "threshold = 0.35\n",
      "полнота(recall): 0.7882736156351792\n",
      "accuracy: 0.6458635703918723\n",
      "\n",
      "threshold = 0.375\n",
      "полнота(recall): 0.7100977198697068\n",
      "accuracy: 0.6502177068214804\n",
      "\n",
      "threshold = 0.4\n",
      "полнота(recall): 0.6579804560260586\n",
      "accuracy: 0.6676342525399129\n",
      "\n",
      "threshold = 0.42500000000000004\n",
      "полнота(recall): 0.5863192182410424\n",
      "accuracy: 0.6618287373004355\n",
      "\n",
      "threshold = 0.45000000000000007\n",
      "полнота(recall): 0.5244299674267101\n",
      "accuracy: 0.6647314949201741\n",
      "\n",
      "threshold = 0.4750000000000001\n",
      "полнота(recall): 0.46905537459283386\n",
      "accuracy: 0.6632801161103048\n",
      "\n",
      "threshold = 0.5000000000000001\n",
      "полнота(recall): 0.4364820846905538\n",
      "accuracy: 0.6618287373004355\n",
      "\n",
      "threshold = 0.5250000000000001\n",
      "полнота(recall): 0.4006514657980456\n",
      "accuracy: 0.6647314949201741\n",
      "\n",
      "threshold = 0.5500000000000002\n",
      "полнота(recall): 0.3485342019543974\n",
      "accuracy: 0.6531204644412192\n",
      "\n",
      "threshold = 0.5750000000000002\n",
      "полнота(recall): 0.3127035830618892\n",
      "accuracy: 0.6458635703918723\n",
      "\n"
     ]
    }
   ],
   "source": [
    "for t in np.arange(0.35, 0.6, 0.025):\n",
    "    pred1_thr = [1 if x >= t else 0 for x in df['pred1_probs']]\n",
    "    print('threshold =', t)\n",
    "    print('полнота(recall):', recall_score(df['target'],pred1_thr))\n",
    "    print('accuracy:', accuracy_score(df['target'],pred1_thr))\n",
    "    print()"
   ]
  },
  {
   "cell_type": "markdown",
   "metadata": {},
   "source": [
    "***Наилучший результат:***\n",
    "\n",
    "threshold = 0.375\n",
    "\n",
    "полнота(recall): 0.71\n",
    "\n",
    "accuracy: 0.65"
   ]
  },
  {
   "cell_type": "code",
   "execution_count": 19,
   "metadata": {},
   "outputs": [
    {
     "data": {
      "image/png": "[encoded data removed]",
      "text/plain": [
       "<Figure size 640x480 with 2 Axes>"
      ]
     },
     "metadata": {},
     "output_type": "display_data"
    }
   ],
   "source": [
    "pred1_thr = [1 if x >= 0.375 else 0 for x in df['pred1_probs']]\n",
    "\n",
    "plot_confusion_matrix(confusion_matrix(df['target'], pred1_thr), classes=['0','1'],\n",
    "                        title='Confusion matrix, without normalization')"
   ]
  },
  {
   "cell_type": "markdown",
   "metadata": {},
   "source": [
    "Теперь посмотрим на **модель 2**:"
   ]
  },
  {
   "cell_type": "code",
   "execution_count": 20,
   "metadata": {},
   "outputs": [
    {
     "name": "stdout",
     "output_type": "stream",
     "text": [
      "threshold = 0.1\n",
      "полнота(recall): 0.990228013029316\n",
      "accuracy: 0.4818577648766328\n",
      "\n",
      "threshold = 0.2\n",
      "полнота(recall): 0.9381107491856677\n",
      "accuracy: 0.555878084179971\n",
      "\n",
      "threshold = 0.30000000000000004\n",
      "полнота(recall): 0.8371335504885994\n",
      "accuracy: 0.6748911465892597\n",
      "\n",
      "threshold = 0.4\n",
      "полнота(recall): 0.7980456026058632\n",
      "accuracy: 0.683599419448476\n",
      "\n",
      "threshold = 0.5\n",
      "полнота(recall): 0.7296416938110749\n",
      "accuracy: 0.6719883889695211\n",
      "\n",
      "threshold = 0.6\n",
      "полнота(recall): 0.5179153094462541\n",
      "accuracy: 0.6734397677793904\n",
      "\n",
      "threshold = 0.7000000000000001\n",
      "полнота(recall): 0.2964169381107492\n",
      "accuracy: 0.6560232220609579\n",
      "\n",
      "threshold = 0.8\n",
      "полнота(recall): 0.26058631921824105\n",
      "accuracy: 0.6473149492017417\n",
      "\n",
      "threshold = 0.9\n",
      "полнота(recall): 0.03908794788273615\n",
      "accuracy: 0.5718432510885341\n",
      "\n"
     ]
    }
   ],
   "source": [
    "for t in np.arange(0.1,1,0.1):\n",
    "    pred2_thr = [1 if x >= t else 0 for x in df['pred2_probs']]\n",
    "    print('threshold =', t)\n",
    "    print('полнота(recall):', recall_score(df['target'],pred2_thr))\n",
    "    print('accuracy:', accuracy_score(df['target'],pred2_thr))\n",
    "    print()"
   ]
  },
  {
   "cell_type": "code",
   "execution_count": 21,
   "metadata": {},
   "outputs": [
    {
     "name": "stdout",
     "output_type": "stream",
     "text": [
      "threshold = 0.25\n",
      "полнота(recall): 0.9348534201954397\n",
      "accuracy: 0.5587808417997098\n",
      "\n",
      "threshold = 0.275\n",
      "полнота(recall): 0.8371335504885994\n",
      "accuracy: 0.6748911465892597\n",
      "\n",
      "threshold = 0.30000000000000004\n",
      "полнота(recall): 0.8371335504885994\n",
      "accuracy: 0.6748911465892597\n",
      "\n",
      "threshold = 0.32500000000000007\n",
      "полнота(recall): 0.8208469055374593\n",
      "accuracy: 0.6850507982583455\n",
      "\n",
      "threshold = 0.3500000000000001\n",
      "полнота(recall): 0.8143322475570033\n",
      "accuracy: 0.6821480406386067\n",
      "\n",
      "threshold = 0.3750000000000001\n",
      "полнота(recall): 0.8045602605863192\n",
      "accuracy: 0.6865021770682148\n",
      "\n",
      "threshold = 0.40000000000000013\n",
      "полнота(recall): 0.7980456026058632\n",
      "accuracy: 0.683599419448476\n",
      "\n",
      "threshold = 0.42500000000000016\n",
      "полнота(recall): 0.7752442996742671\n",
      "accuracy: 0.6821480406386067\n",
      "\n",
      "threshold = 0.4500000000000002\n",
      "полнота(recall): 0.742671009771987\n",
      "accuracy: 0.6777939042089985\n",
      "\n",
      "threshold = 0.4750000000000002\n",
      "полнота(recall): 0.742671009771987\n",
      "accuracy: 0.6777939042089985\n",
      "\n"
     ]
    }
   ],
   "source": [
    "for t in np.arange(0.25,0.5,0.025):\n",
    "    pred2_thr = [1 if x >= t else 0 for x in df['pred2_probs']]\n",
    "    print('threshold =', t)\n",
    "    print('полнота(recall):', recall_score(df['target'],pred2_thr))\n",
    "    print('accuracy:', accuracy_score(df['target'],pred2_thr))\n",
    "    print()"
   ]
  },
  {
   "cell_type": "markdown",
   "metadata": {},
   "source": [
    "***Наилучший результат:***\n",
    "\n",
    "threshold = 0.3\n",
    "\n",
    "полнота(recall): 0.837\n",
    "    \n",
    "accuracy: 0.675"
   ]
  },
  {
   "cell_type": "code",
   "execution_count": 22,
   "metadata": {},
   "outputs": [
    {
     "data": {
      "image/png": "[encoded data removed]",
      "text/plain": [
       "<Figure size 640x480 with 2 Axes>"
      ]
     },
     "metadata": {},
     "output_type": "display_data"
    }
   ],
   "source": [
    "pred2_thr = [1 if x >= 0.3 else 0 for x in df['pred2_probs']]\n",
    "\n",
    "plot_confusion_matrix(confusion_matrix(df['target'], pred2_thr), classes=['0','1'],\n",
    "                        title='Confusion matrix, without normalization')"
   ]
  },
  {
   "cell_type": "markdown",
   "metadata": {},
   "source": [
    "Посмотрим на **модель 3**:"
   ]
  },
  {
   "cell_type": "code",
   "execution_count": 23,
   "metadata": {},
   "outputs": [
    {
     "name": "stdout",
     "output_type": "stream",
     "text": [
      "threshold = 0.1\n",
      "полнота(recall): 1.0\n",
      "accuracy: 0.4455732946298984\n",
      "\n",
      "threshold = 0.2\n",
      "полнота(recall): 0.7068403908794788\n",
      "accuracy: 0.6226415094339622\n",
      "\n",
      "threshold = 0.30000000000000004\n",
      "полнота(recall): 0.5146579804560261\n",
      "accuracy: 0.6313497822931785\n",
      "\n",
      "threshold = 0.4\n",
      "полнота(recall): 0.41368078175895767\n",
      "accuracy: 0.6458635703918723\n",
      "\n",
      "threshold = 0.5\n",
      "полнота(recall): 0.3485342019543974\n",
      "accuracy: 0.6400580551523948\n",
      "\n",
      "threshold = 0.6\n",
      "полнота(recall): 0.30944625407166126\n",
      "accuracy: 0.6386066763425254\n",
      "\n",
      "threshold = 0.7000000000000001\n",
      "полнота(recall): 0.26058631921824105\n",
      "accuracy: 0.6284470246734397\n",
      "\n",
      "threshold = 0.8\n",
      "полнота(recall): 0.23127035830618892\n",
      "accuracy: 0.6168359941944848\n",
      "\n",
      "threshold = 0.9\n",
      "полнота(recall): 0.1986970684039088\n",
      "accuracy: 0.613933236574746\n",
      "\n"
     ]
    }
   ],
   "source": [
    "for t in np.arange(0.1,1,0.1):\n",
    "    pred3_thr = [1 if x >= t else 0 for x in df['pred3_probs']]\n",
    "    print('threshold =', t)\n",
    "    print('полнота(recall):', recall_score(df['target'],pred3_thr))\n",
    "    print('accuracy:', accuracy_score(df['target'],pred3_thr))\n",
    "    print()"
   ]
  },
  {
   "cell_type": "code",
   "execution_count": 24,
   "metadata": {},
   "outputs": [
    {
     "name": "stdout",
     "output_type": "stream",
     "text": [
      "threshold = 0.35\n",
      "полнота(recall): 0.46905537459283386\n",
      "accuracy: 0.6386066763425254\n",
      "\n",
      "threshold = 0.375\n",
      "полнота(recall): 0.4364820846905538\n",
      "accuracy: 0.6386066763425254\n",
      "\n",
      "threshold = 0.4\n",
      "полнота(recall): 0.41368078175895767\n",
      "accuracy: 0.6458635703918723\n",
      "\n",
      "threshold = 0.42500000000000004\n",
      "полнота(recall): 0.3941368078175896\n",
      "accuracy: 0.6444121915820029\n",
      "\n",
      "threshold = 0.45000000000000007\n",
      "полнота(recall): 0.36482084690553745\n",
      "accuracy: 0.637155297532656\n",
      "\n",
      "threshold = 0.4750000000000001\n",
      "полнота(recall): 0.3550488599348534\n",
      "accuracy: 0.6386066763425254\n",
      "\n",
      "threshold = 0.5000000000000001\n",
      "полнота(recall): 0.3485342019543974\n",
      "accuracy: 0.6400580551523948\n",
      "\n",
      "threshold = 0.5250000000000001\n",
      "полнота(recall): 0.34201954397394135\n",
      "accuracy: 0.6415094339622641\n",
      "\n",
      "threshold = 0.5500000000000002\n",
      "полнота(recall): 0.3257328990228013\n",
      "accuracy: 0.6357039187227866\n",
      "\n",
      "threshold = 0.5750000000000002\n",
      "полнота(recall): 0.3257328990228013\n",
      "accuracy: 0.6415094339622641\n",
      "\n"
     ]
    }
   ],
   "source": [
    "for t in np.arange(0.35,0.6,0.025):\n",
    "    pred3_thr = [1 if x >= t else 0 for x in df['pred3_probs']]\n",
    "    print('threshold =', t)\n",
    "    print('полнота(recall):', recall_score(df['target'],pred3_thr))\n",
    "    print('accuracy:', accuracy_score(df['target'],pred3_thr))\n",
    "    print()"
   ]
  },
  {
   "cell_type": "markdown",
   "metadata": {},
   "source": [
    "***Наилучший результат:***\n",
    "\n",
    "threshold = 0.4\n",
    "\n",
    "полнота(recall): 0.414\n",
    "    \n",
    "accuracy: 0.646 (наибольшая доля правильных ответов)\n",
    "\n",
    "***Модель не проходит по критериям (доля правильных ответов меньше 0.65)!***"
   ]
  },
  {
   "cell_type": "code",
   "execution_count": 25,
   "metadata": {},
   "outputs": [
    {
     "data": {
      "image/png": "[encoded data removed]",
      "text/plain": [
       "<Figure size 640x480 with 2 Axes>"
      ]
     },
     "metadata": {},
     "output_type": "display_data"
    }
   ],
   "source": [
    "pred3_thr = [1 if x >= 0.4 else 0 for x in df['pred3_probs']]\n",
    "\n",
    "plot_confusion_matrix(confusion_matrix(df['target'], pred3_thr), classes=['0','1'],\n",
    "                        title='Confusion matrix, without normalization')"
   ]
  },
  {
   "cell_type": "markdown",
   "metadata": {},
   "source": [
    "**Выводы:** с поставленной задачей лучше всего справляется модель 2 (полнота: 0.837,\n",
    "accuracy: 0.675). "
   ]
  },
  {
   "cell_type": "markdown",
   "metadata": {},
   "source": [
    "Наша цель может звучать и по-другому:\n",
    "    \n",
    "* **Вариант 2**: среди тех, кому модель выдает кредит, должно быть меньше всего ошибок (мало людей, кто его на самом деле не вернет - на них будем терять деньги). \n",
    "    При этом не хотим много ошибаться (общее число ошибок не более 35%).\n",
    "  \n",
    "1) Мы не хотим, чтобы алгоритм много ошибался: accuracy $\\geq$ 0.65.\n",
    "\n",
    "2) Кроме того точность должна быть как можно больше (число в правом верхнем квадрате матрицы ошибок минимально).\n",
    "\n",
    "Будем изменять порог вероятности в цикле и смотреть на результаты.\n",
    "\n",
    "Смотрим на **модель 1**:"
   ]
  },
  {
   "cell_type": "code",
   "execution_count": 26,
   "metadata": {},
   "outputs": [
    {
     "data": {
      "image/png": "[encoded data removed]",
      "text/plain": [
       "<Figure size 640x480 with 2 Axes>"
      ]
     },
     "metadata": {},
     "output_type": "display_data"
    }
   ],
   "source": [
    "pred1_thr = [1 if x >= 0.55\n",
    "             else 0 for x in df['pred1_probs']]\n",
    "\n",
    "plot_confusion_matrix(confusion_matrix(df['target'], pred1_thr), classes=['0','1'],\n",
    "                        title='Confusion matrix, without normalization')"
   ]
  },
  {
   "cell_type": "code",
   "execution_count": 27,
   "metadata": {},
   "outputs": [
    {
     "data": {
      "text/plain": [
       "0.7328767123287672"
      ]
     },
     "execution_count": 27,
     "metadata": {},
     "output_type": "execute_result"
    }
   ],
   "source": [
    "precision_score(df['target'], pred1_thr)"
   ]
  },
  {
   "cell_type": "code",
   "execution_count": 28,
   "metadata": {},
   "outputs": [
    {
     "data": {
      "text/plain": [
       "0.6531204644412192"
      ]
     },
     "execution_count": 28,
     "metadata": {},
     "output_type": "execute_result"
    }
   ],
   "source": [
    "accuracy_score(df['target'], pred1_thr)"
   ]
  },
  {
   "cell_type": "markdown",
   "metadata": {},
   "source": [
    "Смотрим на **модель 2**:"
   ]
  },
  {
   "cell_type": "code",
   "execution_count": 29,
   "metadata": {},
   "outputs": [
    {
     "name": "stdout",
     "output_type": "stream",
     "text": [
      "threshold = 0.25\n",
      "точность(precision): 0.5026269702276708\n",
      "accuracy: 0.5587808417997098\n",
      "\n",
      "threshold = 0.275\n",
      "точность(precision): 0.5962877030162413\n",
      "accuracy: 0.6748911465892597\n",
      "\n",
      "threshold = 0.30000000000000004\n",
      "точность(precision): 0.5962877030162413\n",
      "accuracy: 0.6748911465892597\n",
      "\n",
      "threshold = 0.32500000000000007\n",
      "точность(precision): 0.6086956521739131\n",
      "accuracy: 0.6850507982583455\n",
      "\n",
      "threshold = 0.3500000000000001\n",
      "точность(precision): 0.6067961165048543\n",
      "accuracy: 0.6821480406386067\n",
      "\n",
      "threshold = 0.3750000000000001\n",
      "точность(precision): 0.6129032258064516\n",
      "accuracy: 0.6865021770682148\n",
      "\n",
      "threshold = 0.40000000000000013\n",
      "точность(precision): 0.6109725685785536\n",
      "accuracy: 0.683599419448476\n",
      "\n",
      "threshold = 0.42500000000000016\n",
      "точность(precision): 0.6134020618556701\n",
      "accuracy: 0.6821480406386067\n",
      "\n",
      "threshold = 0.4500000000000002\n",
      "точность(precision): 0.6145552560646901\n",
      "accuracy: 0.6777939042089985\n",
      "\n",
      "threshold = 0.4750000000000002\n",
      "точность(precision): 0.6145552560646901\n",
      "accuracy: 0.6777939042089985\n",
      "\n",
      "threshold = 0.5000000000000002\n",
      "точность(precision): 0.6103542234332425\n",
      "accuracy: 0.6719883889695211\n",
      "\n",
      "threshold = 0.5250000000000002\n",
      "точность(precision): 0.6736401673640168\n",
      "accuracy: 0.6748911465892597\n",
      "\n",
      "threshold = 0.5500000000000003\n",
      "точность(precision): 0.673728813559322\n",
      "accuracy: 0.6734397677793904\n",
      "\n",
      "threshold = 0.5750000000000003\n",
      "точность(precision): 0.673728813559322\n",
      "accuracy: 0.6734397677793904\n",
      "\n",
      "threshold = 0.6000000000000003\n",
      "точность(precision): 0.673728813559322\n",
      "accuracy: 0.6734397677793904\n",
      "\n",
      "threshold = 0.6250000000000003\n",
      "точность(precision): 0.7936507936507936\n",
      "accuracy: 0.6618287373004355\n",
      "\n",
      "threshold = 0.6500000000000004\n",
      "точность(precision): 0.8099173553719008\n",
      "accuracy: 0.6632801161103048\n",
      "\n",
      "threshold = 0.6750000000000004\n",
      "точность(precision): 0.8099173553719008\n",
      "accuracy: 0.6632801161103048\n",
      "\n",
      "threshold = 0.7000000000000004\n",
      "точность(precision): 0.8125\n",
      "accuracy: 0.6560232220609579\n",
      "\n",
      "threshold = 0.7250000000000004\n",
      "точность(precision): 0.8367346938775511\n",
      "accuracy: 0.6502177068214804\n",
      "\n",
      "threshold = 0.7500000000000004\n",
      "точность(precision): 0.8367346938775511\n",
      "accuracy: 0.6502177068214804\n",
      "\n",
      "threshold = 0.7750000000000005\n",
      "точность(precision): 0.8333333333333334\n",
      "accuracy: 0.6473149492017417\n",
      "\n"
     ]
    }
   ],
   "source": [
    "for t in np.arange(0.25,0.8,0.025):\n",
    "    pred2_thr = [1 if x >= t else 0 for x in df['pred2_probs']]\n",
    "    print('threshold =', t)\n",
    "    print('точность(precision):', precision_score(df['target'],pred2_thr))\n",
    "    print('accuracy:', accuracy_score(df['target'],pred2_thr))\n",
    "    print()"
   ]
  },
  {
   "cell_type": "markdown",
   "metadata": {},
   "source": [
    "***Наилучший результат:***\n",
    "\n",
    "threshold = 0.725\n",
    "\n",
    "точность(precision): 0.837\n",
    "    \n",
    "accuracy: 0.65"
   ]
  },
  {
   "cell_type": "code",
   "execution_count": 30,
   "metadata": {},
   "outputs": [
    {
     "data": {
      "image/png": "[encoded data removed]",
      "text/plain": [
       "<Figure size 640x480 with 2 Axes>"
      ]
     },
     "metadata": {},
     "output_type": "display_data"
    }
   ],
   "source": [
    "pred2_thr = [1 if x >= 0.725 else 0 for x in df['pred2_probs']]\n",
    "\n",
    "plot_confusion_matrix(confusion_matrix(df['target'], pred2_thr), classes=['0','1'],\n",
    "                        title='Confusion matrix, without normalization')"
   ]
  },
  {
   "cell_type": "code",
   "execution_count": 31,
   "metadata": {},
   "outputs": [
    {
     "data": {
      "text/plain": [
       "0.8367346938775511"
      ]
     },
     "execution_count": 31,
     "metadata": {},
     "output_type": "execute_result"
    }
   ],
   "source": [
    "precision_score(df['target'], pred2_thr)"
   ]
  },
  {
   "cell_type": "code",
   "execution_count": 32,
   "metadata": {},
   "outputs": [
    {
     "data": {
      "text/plain": [
       "0.6502177068214804"
      ]
     },
     "execution_count": 32,
     "metadata": {},
     "output_type": "execute_result"
    }
   ],
   "source": [
    "accuracy_score(df['target'], pred2_thr)"
   ]
  },
  {
   "cell_type": "markdown",
   "metadata": {},
   "source": [
    "Смотрим на **модель 3**:"
   ]
  },
  {
   "cell_type": "code",
   "execution_count": 33,
   "metadata": {},
   "outputs": [
    {
     "name": "stdout",
     "output_type": "stream",
     "text": [
      "threshold = 0.1\n",
      "точность(precision): 0.4455732946298984\n",
      "accuracy: 0.4455732946298984\n",
      "\n",
      "threshold = 0.2\n",
      "точность(precision): 0.5607235142118863\n",
      "accuracy: 0.6226415094339622\n",
      "\n",
      "threshold = 0.30000000000000004\n",
      "точность(precision): 0.6007604562737643\n",
      "accuracy: 0.6313497822931785\n",
      "\n",
      "threshold = 0.4\n",
      "точность(precision): 0.6649214659685864\n",
      "accuracy: 0.6458635703918723\n",
      "\n",
      "threshold = 0.5\n",
      "точность(precision): 0.6903225806451613\n",
      "accuracy: 0.6400580551523948\n",
      "\n",
      "threshold = 0.6\n",
      "точность(precision): 0.7196969696969697\n",
      "accuracy: 0.6386066763425254\n",
      "\n",
      "threshold = 0.7000000000000001\n",
      "точность(precision): 0.7339449541284404\n",
      "accuracy: 0.6284470246734397\n",
      "\n",
      "threshold = 0.8\n",
      "точность(precision): 0.7171717171717171\n",
      "accuracy: 0.6168359941944848\n",
      "\n",
      "threshold = 0.9\n",
      "точность(precision): 0.7530864197530864\n",
      "accuracy: 0.613933236574746\n",
      "\n"
     ]
    }
   ],
   "source": [
    "for t in np.arange(0.1,1,0.1):\n",
    "    pred3_thr = [1 if x >= t else 0 for x in df['pred3_probs']]\n",
    "    print('threshold =', t)\n",
    "    print('точность(precision):', precision_score(df['target'],pred3_thr))\n",
    "    print('accuracy:', accuracy_score(df['target'],pred3_thr))\n",
    "    print()"
   ]
  },
  {
   "cell_type": "code",
   "execution_count": 34,
   "metadata": {},
   "outputs": [
    {
     "name": "stdout",
     "output_type": "stream",
     "text": [
      "threshold = 0.4\n",
      "точность(precision): 0.6649214659685864\n",
      "accuracy: 0.6458635703918723\n",
      "\n",
      "threshold = 0.42500000000000004\n",
      "точность(precision): 0.6722222222222223\n",
      "accuracy: 0.6444121915820029\n",
      "\n",
      "threshold = 0.45000000000000007\n",
      "точность(precision): 0.6706586826347305\n",
      "accuracy: 0.637155297532656\n",
      "\n",
      "threshold = 0.4750000000000001\n",
      "точность(precision): 0.68125\n",
      "accuracy: 0.6386066763425254\n",
      "\n",
      "threshold = 0.5000000000000001\n",
      "точность(precision): 0.6903225806451613\n",
      "accuracy: 0.6400580551523948\n",
      "\n",
      "threshold = 0.5250000000000001\n",
      "точность(precision): 0.7\n",
      "accuracy: 0.6415094339622641\n",
      "\n",
      "threshold = 0.5500000000000002\n",
      "точность(precision): 0.6944444444444444\n",
      "accuracy: 0.6357039187227866\n",
      "\n",
      "threshold = 0.5750000000000002\n",
      "точность(precision): 0.7142857142857143\n",
      "accuracy: 0.6415094339622641\n",
      "\n",
      "threshold = 0.6000000000000002\n",
      "точность(precision): 0.7196969696969697\n",
      "accuracy: 0.6386066763425254\n",
      "\n",
      "threshold = 0.6250000000000002\n",
      "точность(precision): 0.72\n",
      "accuracy: 0.6342525399129173\n",
      "\n"
     ]
    }
   ],
   "source": [
    "for t in np.arange(0.4,0.65,0.025):\n",
    "    pred3_thr = [1 if x >= t else 0 for x in df['pred3_probs']]\n",
    "    print('threshold =', t)\n",
    "    print('точность(precision):', precision_score(df['target'],pred3_thr))\n",
    "    print('accuracy:', accuracy_score(df['target'],pred3_thr))\n",
    "    print()"
   ]
  },
  {
   "cell_type": "markdown",
   "metadata": {},
   "source": [
    "***Наилучший результат:***\n",
    "\n",
    "threshold = 0.575\n",
    "\n",
    "точность(precision): 0.714\n",
    "    \n",
    "accuracy: 0.642\n",
    "    \n",
    "***Модель не проходит по критериям (точность меньше 0.65)!***"
   ]
  },
  {
   "cell_type": "code",
   "execution_count": 36,
   "metadata": {},
   "outputs": [
    {
     "data": {
      "image/png": "[encoded data removed]",
      "text/plain": [
       "<Figure size 640x480 with 2 Axes>"
      ]
     },
     "metadata": {},
     "output_type": "display_data"
    }
   ],
   "source": [
    "pred3_thr = [1 if x >= 0.575 else 0 for x in df['pred3_probs']]\n",
    "\n",
    "plot_confusion_matrix(confusion_matrix(df['target'], pred3_thr), classes=['0','1'],\n",
    "                        title='Confusion matrix, without normalization')"
   ]
  },
  {
   "cell_type": "markdown",
   "metadata": {},
   "source": [
    "Также (**Вариант 3**) можно потребовать, чтобы и точность, и полнота были высокими, то есть обе ошибки в матрице ошибок были маленькие. Как вариант - можно максимизировать F1-score (среднее гармоническое между точностью и полнотой).\n",
    "\n",
    "Найдем порог для достижения максимального F1-score для наилучшей модели (вторая модель) и построим матрицу ошибок (***проверьте, что F1-score у двух оставшихся моделей ниже!***)."
   ]
  },
  {
   "cell_type": "code",
   "execution_count": 37,
   "metadata": {},
   "outputs": [
    {
     "name": "stdout",
     "output_type": "stream",
     "text": [
      "threshold = 0.1\n",
      "f1-score: 0.6164658634538153\n",
      "accuracy: 0.4455732946298984\n",
      "\n",
      "threshold = 0.2\n",
      "f1-score: 0.6164658634538153\n",
      "accuracy: 0.4455732946298984\n",
      "\n",
      "threshold = 0.30000000000000004\n",
      "f1-score: 0.6527777777777777\n",
      "accuracy: 0.5645863570391872\n",
      "\n",
      "threshold = 0.4\n",
      "f1-score: 0.6382306477093207\n",
      "accuracy: 0.6676342525399129\n",
      "\n",
      "threshold = 0.5\n",
      "f1-score: 0.5349301397205589\n",
      "accuracy: 0.6618287373004355\n",
      "\n",
      "threshold = 0.6\n",
      "f1-score: 0.4141176470588236\n",
      "accuracy: 0.6386066763425254\n",
      "\n",
      "threshold = 0.7000000000000001\n",
      "f1-score: 0.3341902313624679\n",
      "accuracy: 0.6240928882438317\n",
      "\n",
      "threshold = 0.8\n",
      "f1-score: 0.21468926553672318\n",
      "accuracy: 0.5965166908563135\n",
      "\n",
      "threshold = 0.9\n",
      "f1-score: 0.12650602409638553\n",
      "accuracy: 0.579100145137881\n",
      "\n"
     ]
    }
   ],
   "source": [
    "from sklearn.metrics import f1_score\n",
    "\n",
    "for t in np.arange(0.1,1,0.1):\n",
    "    pred1_thr = [1 if x >= t else 0 for x in df['pred1_probs']]\n",
    "    print('threshold =', t)\n",
    "    print('f1-score:', f1_score(df['target'],pred1_thr))\n",
    "    print('accuracy:', accuracy_score(df['target'],pred1_thr))\n",
    "    print()"
   ]
  },
  {
   "cell_type": "code",
   "execution_count": 38,
   "metadata": {},
   "outputs": [
    {
     "name": "stdout",
     "output_type": "stream",
     "text": [
      "threshold = 0.35\n",
      "f1-score: 0.6648351648351648\n",
      "accuracy: 0.6458635703918723\n",
      "\n",
      "threshold = 0.375\n",
      "f1-score: 0.6440177252584932\n",
      "accuracy: 0.6502177068214804\n",
      "\n",
      "threshold = 0.4\n",
      "f1-score: 0.6382306477093207\n",
      "accuracy: 0.6676342525399129\n",
      "\n",
      "threshold = 0.42500000000000004\n",
      "f1-score: 0.6070826306913997\n",
      "accuracy: 0.6618287373004355\n",
      "\n",
      "threshold = 0.45000000000000007\n",
      "f1-score: 0.5822784810126582\n",
      "accuracy: 0.6647314949201741\n",
      "\n",
      "threshold = 0.4750000000000001\n",
      "f1-score: 0.5538461538461538\n",
      "accuracy: 0.6632801161103048\n",
      "\n",
      "threshold = 0.5000000000000001\n",
      "f1-score: 0.5349301397205589\n",
      "accuracy: 0.6618287373004355\n",
      "\n",
      "threshold = 0.5250000000000001\n",
      "f1-score: 0.5157232704402516\n",
      "accuracy: 0.6647314949201741\n",
      "\n",
      "threshold = 0.5500000000000002\n",
      "f1-score: 0.47240618101545256\n",
      "accuracy: 0.6531204644412192\n",
      "\n",
      "threshold = 0.5750000000000002\n",
      "f1-score: 0.44036697247706424\n",
      "accuracy: 0.6458635703918723\n",
      "\n"
     ]
    }
   ],
   "source": [
    "from sklearn.metrics import f1_score\n",
    "\n",
    "for t in np.arange(0.35,0.6,0.025):\n",
    "    pred1_thr = [1 if x >= t else 0 for x in df['pred1_probs']]\n",
    "    print('threshold =', t)\n",
    "    print('f1-score:', f1_score(df['target'],pred1_thr))\n",
    "    print('accuracy:', accuracy_score(df['target'],pred1_thr))\n",
    "    print()"
   ]
  },
  {
   "cell_type": "markdown",
   "metadata": {},
   "source": [
    "***Наилучший результат:***\n",
    "\n",
    "threshold = 0.375\n",
    "\n",
    "f1-score: 0.644\n",
    "    \n",
    "accuracy: 0.65"
   ]
  },
  {
   "cell_type": "code",
   "execution_count": 39,
   "metadata": {},
   "outputs": [
    {
     "data": {
      "image/png": "[encoded data removed]",
      "text/plain": [
       "<Figure size 640x480 with 2 Axes>"
      ]
     },
     "metadata": {},
     "output_type": "display_data"
    }
   ],
   "source": [
    "pred1_thr = [1 if x >= 0.375 else 0 for x in df['pred1_probs']]\n",
    "\n",
    "plot_confusion_matrix(confusion_matrix(df['target'], pred1_thr), classes=['0','1'],\n",
    "                        title='Confusion matrix, without normalization')"
   ]
  },
  {
   "cell_type": "markdown",
   "metadata": {},
   "source": [
    "Посмотрим на roc-auc."
   ]
  },
  {
   "cell_type": "code",
   "execution_count": 40,
   "metadata": {},
   "outputs": [
    {
     "name": "stdout",
     "output_type": "stream",
     "text": [
      "алгоритм 1: 0.7207224107645342\n",
      "алгоритм 2: 0.7506864266589355\n",
      "алгоритм 3: 0.6867677405051418\n"
     ]
    }
   ],
   "source": [
    "from sklearn.metrics import roc_auc_score\n",
    "\n",
    "print('алгоритм 1:', roc_auc_score(df['target'], df['pred1_probs']))\n",
    "print('алгоритм 2:', roc_auc_score(df['target'], df['pred2_probs']))\n",
    "print('алгоритм 3:', roc_auc_score(df['target'], df['pred3_probs']))"
   ]
  },
  {
   "cell_type": "markdown",
   "metadata": {},
   "source": [
    "Построим roc-кривую для каждой модели и отметим на графике roc-auc."
   ]
  },
  {
   "cell_type": "code",
   "execution_count": 41,
   "metadata": {},
   "outputs": [],
   "source": [
    "from sklearn.metrics import roc_curve, auc"
   ]
  },
  {
   "cell_type": "code",
   "execution_count": 42,
   "metadata": {},
   "outputs": [
    {
     "name": "stdout",
     "output_type": "stream",
     "text": [
      "Help on function roc_curve in module sklearn.metrics._ranking:\n",
      "\n",
      "roc_curve(y_true, y_score, *, pos_label=None, sample_weight=None, drop_intermediate=True)\n",
      "    Compute Receiver operating characteristic (ROC).\n",
      "    \n",
      "    Note: this implementation is restricted to the binary classification task.\n",
      "    \n",
      "    Read more in the :ref:`User Guide <roc_metrics>`.\n",
      "    \n",
      "    Parameters\n",
      "    ----------\n",
      "    y_true : ndarray of shape (n_samples,)\n",
      "        True binary labels. If labels are not either {-1, 1} or {0, 1}, then\n",
      "        pos_label should be explicitly given.\n",
      "    \n",
      "    y_score : ndarray of shape (n_samples,)\n",
      "        Target scores, can either be probability estimates of the positive\n",
      "        class, confidence values, or non-thresholded measure of decisions\n",
      "        (as returned by \"decision_function\" on some classifiers).\n",
      "    \n",
      "    pos_label : int or str, default=None\n",
      "        The label of the positive class.\n",
      "        When ``pos_label=None``, if `y_true` is in {-1, 1} or {0, 1},\n",
      "        ``pos_label`` is set to 1, otherwise an error will be raised.\n",
      "    \n",
      "    sample_weight : array-like of shape (n_samples,), default=None\n",
      "        Sample weights.\n",
      "    \n",
      "    drop_intermediate : bool, default=True\n",
      "        Whether to drop some suboptimal thresholds which would not appear\n",
      "        on a plotted ROC curve. This is useful in order to create lighter\n",
      "        ROC curves.\n",
      "    \n",
      "        .. versionadded:: 0.17\n",
      "           parameter *drop_intermediate*.\n",
      "    \n",
      "    Returns\n",
      "    -------\n",
      "    fpr : ndarray of shape (>2,)\n",
      "        Increasing false positive rates such that element i is the false\n",
      "        positive rate of predictions with score >= `thresholds[i]`.\n",
      "    \n",
      "    tpr : ndarray of shape (>2,)\n",
      "        Increasing true positive rates such that element `i` is the true\n",
      "        positive rate of predictions with score >= `thresholds[i]`.\n",
      "    \n",
      "    thresholds : ndarray of shape = (n_thresholds,)\n",
      "        Decreasing thresholds on the decision function used to compute\n",
      "        fpr and tpr. `thresholds[0]` represents no instances being predicted\n",
      "        and is arbitrarily set to `max(y_score) + 1`.\n",
      "    \n",
      "    See Also\n",
      "    --------\n",
      "    RocCurveDisplay.from_estimator : Plot Receiver Operating Characteristic\n",
      "        (ROC) curve given an estimator and some data.\n",
      "    RocCurveDisplay.from_predictions : Plot Receiver Operating Characteristic\n",
      "        (ROC) curve given the true and predicted values.\n",
      "    det_curve: Compute error rates for different probability thresholds.\n",
      "    roc_auc_score : Compute the area under the ROC curve.\n",
      "    \n",
      "    Notes\n",
      "    -----\n",
      "    Since the thresholds are sorted from low to high values, they\n",
      "    are reversed upon returning them to ensure they correspond to both ``fpr``\n",
      "    and ``tpr``, which are sorted in reversed order during their calculation.\n",
      "    \n",
      "    References\n",
      "    ----------\n",
      "    .. [1] `Wikipedia entry for the Receiver operating characteristic\n",
      "            <https://en.wikipedia.org/wiki/Receiver_operating_characteristic>`_\n",
      "    \n",
      "    .. [2] Fawcett T. An introduction to ROC analysis[J]. Pattern Recognition\n",
      "           Letters, 2006, 27(8):861-874.\n",
      "    \n",
      "    Examples\n",
      "    --------\n",
      "    >>> import numpy as np\n",
      "    >>> from sklearn import metrics\n",
      "    >>> y = np.array([1, 1, 2, 2])\n",
      "    >>> scores = np.array([0.1, 0.4, 0.35, 0.8])\n",
      "    >>> fpr, tpr, thresholds = metrics.roc_curve(y, scores, pos_label=2)\n",
      "    >>> fpr\n",
      "    array([0. , 0. , 0.5, 0.5, 1. ])\n",
      "    >>> tpr\n",
      "    array([0. , 0.5, 0.5, 1. , 1. ])\n",
      "    >>> thresholds\n",
      "    array([1.8 , 0.8 , 0.4 , 0.35, 0.1 ])\n",
      "\n"
     ]
    }
   ],
   "source": [
    "help(roc_curve)"
   ]
  },
  {
   "cell_type": "code",
   "execution_count": 43,
   "metadata": {},
   "outputs": [
    {
     "name": "stdout",
     "output_type": "stream",
     "text": [
      "Help on function auc in module sklearn.metrics._ranking:\n",
      "\n",
      "auc(x, y)\n",
      "    Compute Area Under the Curve (AUC) using the trapezoidal rule.\n",
      "    \n",
      "    This is a general function, given points on a curve.  For computing the\n",
      "    area under the ROC-curve, see :func:`roc_auc_score`.  For an alternative\n",
      "    way to summarize a precision-recall curve, see\n",
      "    :func:`average_precision_score`.\n",
      "    \n",
      "    Parameters\n",
      "    ----------\n",
      "    x : ndarray of shape (n,)\n",
      "        X coordinates. These must be either monotonic increasing or monotonic\n",
      "        decreasing.\n",
      "    y : ndarray of shape, (n,)\n",
      "        Y coordinates.\n",
      "    \n",
      "    Returns\n",
      "    -------\n",
      "    auc : float\n",
      "        Area Under the Curve.\n",
      "    \n",
      "    See Also\n",
      "    --------\n",
      "    roc_auc_score : Compute the area under the ROC curve.\n",
      "    average_precision_score : Compute average precision from prediction scores.\n",
      "    precision_recall_curve : Compute precision-recall pairs for different\n",
      "        probability thresholds.\n",
      "    \n",
      "    Examples\n",
      "    --------\n",
      "    >>> import numpy as np\n",
      "    >>> from sklearn import metrics\n",
      "    >>> y = np.array([1, 1, 2, 2])\n",
      "    >>> pred = np.array([0.1, 0.4, 0.35, 0.8])\n",
      "    >>> fpr, tpr, thresholds = metrics.roc_curve(y, pred, pos_label=2)\n",
      "    >>> metrics.auc(fpr, tpr)\n",
      "    0.75\n",
      "\n"
     ]
    }
   ],
   "source": [
    "help(auc)"
   ]
  },
  {
   "cell_type": "code",
   "execution_count": 44,
   "metadata": {},
   "outputs": [
    {
     "name": "stdout",
     "output_type": "stream",
     "text": [
      "Модель 1:\n"
     ]
    },
    {
     "data": {
      "image/png": "[encoded data removed]",
      "text/plain": [
       "<Figure size 640x480 with 1 Axes>"
      ]
     },
     "metadata": {},
     "output_type": "display_data"
    },
    {
     "name": "stdout",
     "output_type": "stream",
     "text": [
      "Модель 2:\n"
     ]
    },
    {
     "data": {
      "image/png": "[encoded data removed]",
      "text/plain": [
       "<Figure size 640x480 with 1 Axes>"
      ]
     },
     "metadata": {},
     "output_type": "display_data"
    },
    {
     "name": "stdout",
     "output_type": "stream",
     "text": [
      "Модель 3:\n"
     ]
    },
    {
     "data": {
      "image/png": "[encoded data removed]",
      "text/plain": [
       "<Figure size 640x480 with 1 Axes>"
      ]
     },
     "metadata": {},
     "output_type": "display_data"
    }
   ],
   "source": [
    "for n in range(3):\n",
    "    print('Модель ' + str(n + 1) + ':')\n",
    "    fpr, tpr, threshold = roc_curve(df['target'], df['pred' + str(n+1) + '_probs'])\n",
    "    roc_auc = auc(fpr, tpr)\n",
    "    plt.title('Receiver Operating Characteristic')\n",
    "    plt.plot(fpr, tpr, 'b', label = 'AUC = %0.2f' % roc_auc)\n",
    "    plt.legend(loc = 'lower right')\n",
    "    plt.plot([0, 1], [0, 1],'r--')\n",
    "    plt.xlim([0, 1])\n",
    "    plt.ylim([0, 1])\n",
    "    plt.ylabel('True Positive Rate')\n",
    "    plt.xlabel('False Positive Rate')\n",
    "    plt.show()"
   ]
  },
  {
   "cell_type": "markdown",
   "metadata": {},
   "source": [
    "### Выводы\n",
    "\n",
    "**1. В данной задаче модель 2 выигрывает по всем метрикам. Однако не во всех задачах одна и та же модель будет лучшей относительно всех метрик!** \n",
    "\n",
    "**2. Качество решения задачи нельзя улучшить с помощью выбора метрики или настройки порога, но с помощью настройки порога можно добиться наилучшего результата в рамках поставленной задачи. Чтобы улучшить качество решения - необходимо изменять саму модель.**"
   ]
  },
  {
   "cell_type": "markdown",
   "metadata": {},
   "source": [
    "#### Что ещё можно сделать\n",
    "\n",
    "В python есть удобная функция classification_report, которая выводит значения нескольких метрик."
   ]
  },
  {
   "cell_type": "code",
   "execution_count": 45,
   "metadata": {},
   "outputs": [
    {
     "name": "stdout",
     "output_type": "stream",
     "text": [
      "              precision    recall  f1-score   support\n",
      "\n",
      "           0       0.65      0.84      0.73       382\n",
      "           1       0.69      0.44      0.53       307\n",
      "\n",
      "    accuracy                           0.66       689\n",
      "   macro avg       0.67      0.64      0.63       689\n",
      "weighted avg       0.67      0.66      0.65       689\n",
      "\n"
     ]
    }
   ],
   "source": [
    "from sklearn.metrics import classification_report\n",
    "\n",
    "print(classification_report(df['target'], df['pred1_classes']))"
   ]
  },
  {
   "cell_type": "code",
   "execution_count": 46,
   "metadata": {},
   "outputs": [
    {
     "name": "stdout",
     "output_type": "stream",
     "text": [
      "              precision    recall  f1-score   support\n",
      "\n",
      "           0       0.74      0.63      0.68       382\n",
      "           1       0.61      0.73      0.66       307\n",
      "\n",
      "    accuracy                           0.67       689\n",
      "   macro avg       0.68      0.68      0.67       689\n",
      "weighted avg       0.68      0.67      0.67       689\n",
      "\n"
     ]
    }
   ],
   "source": [
    "from sklearn.metrics import classification_report\n",
    "\n",
    "print(classification_report(df['target'], df['pred2_classes']))"
   ]
  },
  {
   "cell_type": "code",
   "execution_count": 49,
   "metadata": {},
   "outputs": [
    {
     "data": {
      "text/plain": [
       "array([1, 0])"
      ]
     },
     "execution_count": 49,
     "metadata": {},
     "output_type": "execute_result"
    }
   ],
   "source": [
    "df['pred2_classes'].unique()"
   ]
  },
  {
   "cell_type": "code",
   "execution_count": 50,
   "metadata": {},
   "outputs": [
    {
     "data": {
      "text/html": [
       "<div>\n",
       "<style scoped>\n",
       "    .dataframe tbody tr th:only-of-type {\n",
       "        vertical-align: middle;\n",
       "    }\n",
       "\n",
       "    .dataframe tbody tr th {\n",
       "        vertical-align: top;\n",
       "    }\n",
       "\n",
       "    .dataframe thead th {\n",
       "        text-align: right;\n",
       "    }\n",
       "</style>\n",
       "<table border=\"1\" class=\"dataframe\">\n",
       "  <thead>\n",
       "    <tr style=\"text-align: right;\">\n",
       "      <th></th>\n",
       "      <th>0</th>\n",
       "      <th>1</th>\n",
       "      <th>2</th>\n",
       "      <th>3</th>\n",
       "      <th>4</th>\n",
       "      <th>5</th>\n",
       "      <th>6</th>\n",
       "      <th>7</th>\n",
       "      <th>8</th>\n",
       "      <th>9</th>\n",
       "      <th>...</th>\n",
       "      <th>11</th>\n",
       "      <th>12</th>\n",
       "      <th>13</th>\n",
       "      <th>target</th>\n",
       "      <th>pred1_probs</th>\n",
       "      <th>pred1_classes</th>\n",
       "      <th>pred2_probs</th>\n",
       "      <th>pred2_classes</th>\n",
       "      <th>pred3_probs</th>\n",
       "      <th>pred3_classes</th>\n",
       "    </tr>\n",
       "  </thead>\n",
       "  <tbody>\n",
       "    <tr>\n",
       "      <th>0</th>\n",
       "      <td>1</td>\n",
       "      <td>22.08</td>\n",
       "      <td>11.46</td>\n",
       "      <td>2</td>\n",
       "      <td>4</td>\n",
       "      <td>4</td>\n",
       "      <td>1.585</td>\n",
       "      <td>0</td>\n",
       "      <td>0</td>\n",
       "      <td>0</td>\n",
       "      <td>...</td>\n",
       "      <td>2</td>\n",
       "      <td>100</td>\n",
       "      <td>1213</td>\n",
       "      <td>0</td>\n",
       "      <td>0.506772</td>\n",
       "      <td>1</td>\n",
       "      <td>0.610853</td>\n",
       "      <td>1</td>\n",
       "      <td>0.375494</td>\n",
       "      <td>0</td>\n",
       "    </tr>\n",
       "    <tr>\n",
       "      <th>1</th>\n",
       "      <td>0</td>\n",
       "      <td>22.67</td>\n",
       "      <td>7.00</td>\n",
       "      <td>2</td>\n",
       "      <td>8</td>\n",
       "      <td>4</td>\n",
       "      <td>0.165</td>\n",
       "      <td>0</td>\n",
       "      <td>0</td>\n",
       "      <td>0</td>\n",
       "      <td>...</td>\n",
       "      <td>2</td>\n",
       "      <td>160</td>\n",
       "      <td>1</td>\n",
       "      <td>0</td>\n",
       "      <td>0.358519</td>\n",
       "      <td>0</td>\n",
       "      <td>0.185941</td>\n",
       "      <td>0</td>\n",
       "      <td>0.200975</td>\n",
       "      <td>0</td>\n",
       "    </tr>\n",
       "    <tr>\n",
       "      <th>2</th>\n",
       "      <td>0</td>\n",
       "      <td>29.58</td>\n",
       "      <td>1.75</td>\n",
       "      <td>1</td>\n",
       "      <td>4</td>\n",
       "      <td>4</td>\n",
       "      <td>1.250</td>\n",
       "      <td>0</td>\n",
       "      <td>0</td>\n",
       "      <td>0</td>\n",
       "      <td>...</td>\n",
       "      <td>2</td>\n",
       "      <td>280</td>\n",
       "      <td>1</td>\n",
       "      <td>0</td>\n",
       "      <td>0.358753</td>\n",
       "      <td>0</td>\n",
       "      <td>0.523009</td>\n",
       "      <td>1</td>\n",
       "      <td>0.160465</td>\n",
       "      <td>0</td>\n",
       "    </tr>\n",
       "    <tr>\n",
       "      <th>3</th>\n",
       "      <td>0</td>\n",
       "      <td>21.67</td>\n",
       "      <td>11.50</td>\n",
       "      <td>1</td>\n",
       "      <td>5</td>\n",
       "      <td>3</td>\n",
       "      <td>0.000</td>\n",
       "      <td>1</td>\n",
       "      <td>1</td>\n",
       "      <td>11</td>\n",
       "      <td>...</td>\n",
       "      <td>2</td>\n",
       "      <td>0</td>\n",
       "      <td>1</td>\n",
       "      <td>1</td>\n",
       "      <td>0.408729</td>\n",
       "      <td>0</td>\n",
       "      <td>0.185941</td>\n",
       "      <td>0</td>\n",
       "      <td>0.357771</td>\n",
       "      <td>0</td>\n",
       "    </tr>\n",
       "    <tr>\n",
       "      <th>4</th>\n",
       "      <td>1</td>\n",
       "      <td>20.17</td>\n",
       "      <td>8.17</td>\n",
       "      <td>2</td>\n",
       "      <td>6</td>\n",
       "      <td>4</td>\n",
       "      <td>1.960</td>\n",
       "      <td>1</td>\n",
       "      <td>1</td>\n",
       "      <td>14</td>\n",
       "      <td>...</td>\n",
       "      <td>2</td>\n",
       "      <td>60</td>\n",
       "      <td>159</td>\n",
       "      <td>1</td>\n",
       "      <td>0.480904</td>\n",
       "      <td>0</td>\n",
       "      <td>0.526646</td>\n",
       "      <td>1</td>\n",
       "      <td>0.260169</td>\n",
       "      <td>0</td>\n",
       "    </tr>\n",
       "  </tbody>\n",
       "</table>\n",
       "<p>5 rows × 21 columns</p>\n",
       "</div>"
      ],
      "text/plain": [
       "   0      1      2  3  4  5      6  7  8   9  ...  11   12    13  target  \\\n",
       "0  1  22.08  11.46  2  4  4  1.585  0  0   0  ...   2  100  1213       0   \n",
       "1  0  22.67   7.00  2  8  4  0.165  0  0   0  ...   2  160     1       0   \n",
       "2  0  29.58   1.75  1  4  4  1.250  0  0   0  ...   2  280     1       0   \n",
       "3  0  21.67  11.50  1  5  3  0.000  1  1  11  ...   2    0     1       1   \n",
       "4  1  20.17   8.17  2  6  4  1.960  1  1  14  ...   2   60   159       1   \n",
       "\n",
       "   pred1_probs  pred1_classes  pred2_probs  pred2_classes  pred3_probs  \\\n",
       "0     0.506772              1     0.610853              1     0.375494   \n",
       "1     0.358519              0     0.185941              0     0.200975   \n",
       "2     0.358753              0     0.523009              1     0.160465   \n",
       "3     0.408729              0     0.185941              0     0.357771   \n",
       "4     0.480904              0     0.526646              1     0.260169   \n",
       "\n",
       "   pred3_classes  \n",
       "0              0  \n",
       "1              0  \n",
       "2              0  \n",
       "3              0  \n",
       "4              0  \n",
       "\n",
       "[5 rows x 21 columns]"
      ]
     },
     "execution_count": 50,
     "metadata": {},
     "output_type": "execute_result"
    }
   ],
   "source": [
    "df.head()"
   ]
  },
  {
   "cell_type": "code",
   "execution_count": 47,
   "metadata": {},
   "outputs": [
    {
     "name": "stdout",
     "output_type": "stream",
     "text": [
      "Help on function classification_report in module sklearn.metrics._classification:\n",
      "\n",
      "classification_report(y_true, y_pred, *, labels=None, target_names=None, sample_weight=None, digits=2, output_dict=False, zero_division='warn')\n",
      "    Build a text report showing the main classification metrics.\n",
      "    \n",
      "    Read more in the :ref:`User Guide <classification_report>`.\n",
      "    \n",
      "    Parameters\n",
      "    ----------\n",
      "    y_true : 1d array-like, or label indicator array / sparse matrix\n",
      "        Ground truth (correct) target values.\n",
      "    \n",
      "    y_pred : 1d array-like, or label indicator array / sparse matrix\n",
      "        Estimated targets as returned by a classifier.\n",
      "    \n",
      "    labels : array-like of shape (n_labels,), default=None\n",
      "        Optional list of label indices to include in the report.\n",
      "    \n",
      "    target_names : list of str of shape (n_labels,), default=None\n",
      "        Optional display names matching the labels (same order).\n",
      "    \n",
      "    sample_weight : array-like of shape (n_samples,), default=None\n",
      "        Sample weights.\n",
      "    \n",
      "    digits : int, default=2\n",
      "        Number of digits for formatting output floating point values.\n",
      "        When ``output_dict`` is ``True``, this will be ignored and the\n",
      "        returned values will not be rounded.\n",
      "    \n",
      "    output_dict : bool, default=False\n",
      "        If True, return output as dict.\n",
      "    \n",
      "        .. versionadded:: 0.20\n",
      "    \n",
      "    zero_division : \"warn\", 0 or 1, default=\"warn\"\n",
      "        Sets the value to return when there is a zero division. If set to\n",
      "        \"warn\", this acts as 0, but warnings are also raised.\n",
      "    \n",
      "    Returns\n",
      "    -------\n",
      "    report : str or dict\n",
      "        Text summary of the precision, recall, F1 score for each class.\n",
      "        Dictionary returned if output_dict is True. Dictionary has the\n",
      "        following structure::\n",
      "    \n",
      "            {'label 1': {'precision':0.5,\n",
      "                         'recall':1.0,\n",
      "                         'f1-score':0.67,\n",
      "                         'support':1},\n",
      "             'label 2': { ... },\n",
      "              ...\n",
      "            }\n",
      "    \n",
      "        The reported averages include macro average (averaging the unweighted\n",
      "        mean per label), weighted average (averaging the support-weighted mean\n",
      "        per label), and sample average (only for multilabel classification).\n",
      "        Micro average (averaging the total true positives, false negatives and\n",
      "        false positives) is only shown for multi-label or multi-class\n",
      "        with a subset of classes, because it corresponds to accuracy\n",
      "        otherwise and would be the same for all metrics.\n",
      "        See also :func:`precision_recall_fscore_support` for more details\n",
      "        on averages.\n",
      "    \n",
      "        Note that in binary classification, recall of the positive class\n",
      "        is also known as \"sensitivity\"; recall of the negative class is\n",
      "        \"specificity\".\n",
      "    \n",
      "    See Also\n",
      "    --------\n",
      "    precision_recall_fscore_support: Compute precision, recall, F-measure and\n",
      "        support for each class.\n",
      "    confusion_matrix: Compute confusion matrix to evaluate the accuracy of a\n",
      "        classification.\n",
      "    multilabel_confusion_matrix: Compute a confusion matrix for each class or sample.\n",
      "    \n",
      "    Examples\n",
      "    --------\n",
      "    >>> from sklearn.metrics import classification_report\n",
      "    >>> y_true = [0, 1, 2, 2, 2]\n",
      "    >>> y_pred = [0, 0, 2, 2, 1]\n",
      "    >>> target_names = ['class 0', 'class 1', 'class 2']\n",
      "    >>> print(classification_report(y_true, y_pred, target_names=target_names))\n",
      "                  precision    recall  f1-score   support\n",
      "    <BLANKLINE>\n",
      "         class 0       0.50      1.00      0.67         1\n",
      "         class 1       0.00      0.00      0.00         1\n",
      "         class 2       1.00      0.67      0.80         3\n",
      "    <BLANKLINE>\n",
      "        accuracy                           0.60         5\n",
      "       macro avg       0.50      0.56      0.49         5\n",
      "    weighted avg       0.70      0.60      0.61         5\n",
      "    <BLANKLINE>\n",
      "    >>> y_pred = [1, 1, 0]\n",
      "    >>> y_true = [1, 1, 1]\n",
      "    >>> print(classification_report(y_true, y_pred, labels=[1, 2, 3]))\n",
      "                  precision    recall  f1-score   support\n",
      "    <BLANKLINE>\n",
      "               1       1.00      0.67      0.80         3\n",
      "               2       0.00      0.00      0.00         0\n",
      "               3       0.00      0.00      0.00         0\n",
      "    <BLANKLINE>\n",
      "       micro avg       1.00      0.67      0.80         3\n",
      "       macro avg       0.33      0.22      0.27         3\n",
      "    weighted avg       1.00      0.67      0.80         3\n",
      "    <BLANKLINE>\n",
      "\n"
     ]
    }
   ],
   "source": [
    "help(classification_report)"
   ]
  }
 ],
 "metadata": {
  "kernelspec": {
   "display_name": "Python 3 (ipykernel)",
   "language": "python",
   "name": "python3"
  },
  "language_info": {
   "codemirror_mode": {
    "name": "ipython",
    "version": 3
   },
   "file_extension": ".py",
   "mimetype": "text/x-python",
   "name": "python",
   "nbconvert_exporter": "python",
   "pygments_lexer": "ipython3",
   "version": "3.11.4"
  }
 },
 "nbformat": 4,
 "nbformat_minor": 2
}
