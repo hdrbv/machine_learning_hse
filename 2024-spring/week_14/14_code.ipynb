{
 "cells": [
  {
   "cell_type": "markdown",
   "metadata": {},
   "source": [
    "# NLP"
   ]
  },
  {
   "cell_type": "markdown",
   "metadata": {},
   "source": [
    "## Регулярные выражения"
   ]
  },
  {
   "cell_type": "markdown",
   "metadata": {},
   "source": [
    "https://tproger.ru/translations/regular-expression-python"
   ]
  },
  {
   "cell_type": "markdown",
   "metadata": {},
   "source": [
    "Грубо говоря, у нас есть input-поле, в которое должен вводиться email-адрес. Но пока мы не зададим проверку валидности введённого email-адреса, в этой строке может оказаться совершенно любой набор символов, а нам это не нужно.\n",
    "\n",
    "Чтобы выявить ошибку при вводе некорректного адреса электронной почты, можно использовать следующее регулярное выражение:"
   ]
  },
  {
   "cell_type": "markdown",
   "metadata": {},
   "source": [
    "r'^[a-zA-Z0-9_.+-]+@[a-zA-Z0-9-]+(?:\\.[a-zA-Z0-9-]+)+$'"
   ]
  },
  {
   "cell_type": "code",
   "execution_count": 1,
   "metadata": {},
   "outputs": [],
   "source": [
    "import re"
   ]
  },
  {
   "cell_type": "markdown",
   "metadata": {},
   "source": [
    "# match\n",
    "ищет по заданному шаблону в начале строки"
   ]
  },
  {
   "cell_type": "code",
   "execution_count": 2,
   "metadata": {},
   "outputs": [
    {
     "name": "stdout",
     "output_type": "stream",
     "text": [
      "<re.Match object; span=(0, 4), match='abcd'>\n"
     ]
    }
   ],
   "source": [
    "result = re.match('ab+c.', 'abcdefghijkabcabc') # ищем по шаблону 'ab+c.' \n",
    "print (result) # совпадение найдено:"
   ]
  },
  {
   "cell_type": "code",
   "execution_count": 3,
   "metadata": {},
   "outputs": [
    {
     "name": "stdout",
     "output_type": "stream",
     "text": [
      "abcd\n"
     ]
    }
   ],
   "source": [
    "print(result.group(0)) # выводим найденное совпадение"
   ]
  },
  {
   "cell_type": "code",
   "execution_count": 4,
   "metadata": {},
   "outputs": [
    {
     "name": "stdout",
     "output_type": "stream",
     "text": [
      "None\n"
     ]
    }
   ],
   "source": [
    "result = re.match('abc.', 'abdefghijkabcabc')\n",
    "print(result) # совпадение не найдено"
   ]
  },
  {
   "cell_type": "code",
   "execution_count": 9,
   "metadata": {},
   "outputs": [
    {
     "name": "stdout",
     "output_type": "stream",
     "text": [
      "<re.Match object; span=(0, 5), match='AV An'>\n"
     ]
    }
   ],
   "source": [
    "result = re.match(r'AV An', 'AV Analytics Vidhya AV')\n",
    "print(result)"
   ]
  },
  {
   "cell_type": "code",
   "execution_count": 10,
   "metadata": {},
   "outputs": [
    {
     "name": "stdout",
     "output_type": "stream",
     "text": [
      "AV An\n"
     ]
    }
   ],
   "source": [
    "print(result.group(0))"
   ]
  },
  {
   "cell_type": "markdown",
   "metadata": {},
   "source": [
    "# search\n",
    "ищет по всей строке, возвращает только первое найденное совпадение"
   ]
  },
  {
   "cell_type": "code",
   "execution_count": 19,
   "metadata": {},
   "outputs": [
    {
     "name": "stdout",
     "output_type": "stream",
     "text": [
      "<re.Match object; span=(6, 12), match='chijka'>\n"
     ]
    }
   ],
   "source": [
    "result = re.search('ch+i...', 'aefgabchijkabcabc') \n",
    "print(result) "
   ]
  },
  {
   "cell_type": "code",
   "execution_count": 20,
   "metadata": {},
   "outputs": [
    {
     "name": "stdout",
     "output_type": "stream",
     "text": [
      "chijka\n"
     ]
    }
   ],
   "source": [
    "print(result.group(0)) # выводим найденное совпадение"
   ]
  },
  {
   "cell_type": "markdown",
   "metadata": {},
   "source": [
    "# findall\n",
    "возвращает список всех найденных совпадений"
   ]
  },
  {
   "cell_type": "code",
   "execution_count": 21,
   "metadata": {},
   "outputs": [
    {
     "name": "stdout",
     "output_type": "stream",
     "text": [
      "['abcd', 'abca']\n"
     ]
    }
   ],
   "source": [
    "result = re.findall('ab+c.', 'abcdefghijkabcabcxabc') \n",
    "print(result)"
   ]
  },
  {
   "cell_type": "markdown",
   "metadata": {},
   "source": [
    "Вопросы: \n",
    "1) почему нет последнего abc?\n",
    "2) почему нет abcx?"
   ]
  },
  {
   "cell_type": "markdown",
   "metadata": {},
   "source": [
    "# split\n",
    "разделяет строку по заданному шаблону\n"
   ]
  },
  {
   "cell_type": "code",
   "execution_count": 22,
   "metadata": {},
   "outputs": [
    {
     "name": "stdout",
     "output_type": "stream",
     "text": [
      "['itsy', ' bitsy', ' teenie', ' weenie']\n"
     ]
    }
   ],
   "source": [
    "result = re.split(',', 'itsy, bitsy, teenie, weenie') \n",
    "print(result)"
   ]
  },
  {
   "cell_type": "code",
   "execution_count": 24,
   "metadata": {},
   "outputs": [
    {
     "data": {
      "text/plain": [
       "' weenie'"
      ]
     },
     "execution_count": 24,
     "metadata": {},
     "output_type": "execute_result"
    }
   ],
   "source": [
    "result[3]"
   ]
  },
  {
   "cell_type": "markdown",
   "metadata": {},
   "source": [
    "можно указать максимальное количество разбиений"
   ]
  },
  {
   "cell_type": "code",
   "execution_count": 25,
   "metadata": {},
   "outputs": [
    {
     "name": "stdout",
     "output_type": "stream",
     "text": [
      "['itsy', ' bitsy', ' teenie, weenie']\n"
     ]
    }
   ],
   "source": [
    "result = re.split(',', 'itsy, bitsy, teenie, weenie', maxsplit = 2) \n",
    "print(result)"
   ]
  },
  {
   "cell_type": "markdown",
   "metadata": {},
   "source": [
    "# sub\n",
    "ищет шаблон в строке и заменяет все совпадения на указанную подстроку\n",
    "\n",
    "параметры: (pattern, repl, string)"
   ]
  },
  {
   "cell_type": "code",
   "execution_count": 26,
   "metadata": {},
   "outputs": [
    {
     "name": "stdout",
     "output_type": "stream",
     "text": [
      "bbcbbc\n"
     ]
    }
   ],
   "source": [
    "result = re.sub('a', 'b', 'abcabc')\n",
    "print (result)"
   ]
  },
  {
   "cell_type": "markdown",
   "metadata": {},
   "source": [
    "# compile\n",
    "компилирует регулярное выражение в отдельный объект"
   ]
  },
  {
   "cell_type": "code",
   "execution_count": 27,
   "metadata": {},
   "outputs": [
    {
     "data": {
      "text/plain": [
       "['Слова', 'Да', 'больше', 'ещё', 'больше', 'слов', 'Что-то', 'ещё']"
      ]
     },
     "execution_count": 27,
     "metadata": {},
     "output_type": "execute_result"
    }
   ],
   "source": [
    "# Пример: построение списка всех слов строки:\n",
    "prog = re.compile('[А-Яа-яё\\-]+')\n",
    "prog.findall(\"Слова? Да, больше, ещё больше слов! Что-то ещё.\")"
   ]
  },
  {
   "cell_type": "markdown",
   "metadata": {},
   "source": [
    "### Задача: классификация твитов по тональности\n",
    "\n",
    "У нас есть датасет из твитов, про каждый указано, как он эмоционально окрашен: положительно или отрицательно. Задача: предсказывать эмоциональную окраску.\n",
    "\n",
    "Классификацию по тональности используют в рекомендательных системах, чтобы понять, понравилось ли людям кафе, кино, etc.\n",
    "\n",
    "Скачиваем куски датасета ([источник](http://study.mokoron.com/)): [положительные](https://www.dropbox.com/s/fnpq3z4bcnoktiv/positive.csv?dl=0), [отрицательные](https://www.dropbox.com/s/r6u59ljhhjdg6j0/negative.csv)."
   ]
  },
  {
   "cell_type": "code",
   "execution_count": 28,
   "metadata": {},
   "outputs": [],
   "source": [
    "# если у вас линукс / мак / collab или ещё какая-то среда, в которой работает wget, можно так:\n",
    "#!wget https://www.dropbox.com/s/fnpq3z4bcnoktiv/positive.csv\n",
    "#!wget https://www.dropbox.com/s/r6u59ljhhjdg6j0/negative.csv"
   ]
  },
  {
   "cell_type": "code",
   "execution_count": 29,
   "metadata": {},
   "outputs": [],
   "source": [
    "import pandas as pd\n",
    "import numpy as np\n",
    "from sklearn.metrics import *\n",
    "from sklearn.model_selection import train_test_split\n",
    "from sklearn.pipeline import Pipeline"
   ]
  },
  {
   "cell_type": "code",
   "execution_count": 30,
   "metadata": {},
   "outputs": [],
   "source": [
    "# считываем данные и заполняем общий датасет\n",
    "positive = pd.read_csv('positive.csv', sep=';', usecols=[3], names=['text'])\n",
    "positive['label'] = ['positive'] * len(positive)\n",
    "negative = pd.read_csv('negative.csv', sep=';', usecols=[3], names=['text'])\n",
    "negative['label'] = ['negative'] * len(negative)\n",
    "df = pd.concat([negative, positive])"
   ]
  },
  {
   "cell_type": "code",
   "execution_count": 33,
   "metadata": {},
   "outputs": [
    {
     "data": {
      "text/plain": [
       "(226834, 2)"
      ]
     },
     "execution_count": 33,
     "metadata": {},
     "output_type": "execute_result"
    }
   ],
   "source": [
    "df.shape"
   ]
  },
  {
   "cell_type": "code",
   "execution_count": 31,
   "metadata": {},
   "outputs": [
    {
     "data": {
      "text/html": [
       "<div>\n",
       "<style scoped>\n",
       "    .dataframe tbody tr th:only-of-type {\n",
       "        vertical-align: middle;\n",
       "    }\n",
       "\n",
       "    .dataframe tbody tr th {\n",
       "        vertical-align: top;\n",
       "    }\n",
       "\n",
       "    .dataframe thead th {\n",
       "        text-align: right;\n",
       "    }\n",
       "</style>\n",
       "<table border=\"1\" class=\"dataframe\">\n",
       "  <thead>\n",
       "    <tr style=\"text-align: right;\">\n",
       "      <th></th>\n",
       "      <th>text</th>\n",
       "      <th>label</th>\n",
       "    </tr>\n",
       "  </thead>\n",
       "  <tbody>\n",
       "    <tr>\n",
       "      <th>114906</th>\n",
       "      <td>Спала в родительском доме, на своей кровати......</td>\n",
       "      <td>positive</td>\n",
       "    </tr>\n",
       "    <tr>\n",
       "      <th>114907</th>\n",
       "      <td>RT @jebesilofyt: Эх... Мы немного решили сокра...</td>\n",
       "      <td>positive</td>\n",
       "    </tr>\n",
       "    <tr>\n",
       "      <th>114908</th>\n",
       "      <td>Что происходит со мной, когда в эфире #proacti...</td>\n",
       "      <td>positive</td>\n",
       "    </tr>\n",
       "    <tr>\n",
       "      <th>114909</th>\n",
       "      <td>\"Любимая,я подарю тебе эту звезду...\" Имя како...</td>\n",
       "      <td>positive</td>\n",
       "    </tr>\n",
       "    <tr>\n",
       "      <th>114910</th>\n",
       "      <td>@Ma_che_rie посмотри #непытайтесьпокинутьомск ...</td>\n",
       "      <td>positive</td>\n",
       "    </tr>\n",
       "  </tbody>\n",
       "</table>\n",
       "</div>"
      ],
      "text/plain": [
       "                                                     text     label\n",
       "114906  Спала в родительском доме, на своей кровати......  positive\n",
       "114907  RT @jebesilofyt: Эх... Мы немного решили сокра...  positive\n",
       "114908  Что происходит со мной, когда в эфире #proacti...  positive\n",
       "114909  \"Любимая,я подарю тебе эту звезду...\" Имя како...  positive\n",
       "114910  @Ma_che_rie посмотри #непытайтесьпокинутьомск ...  positive"
      ]
     },
     "execution_count": 31,
     "metadata": {},
     "output_type": "execute_result"
    }
   ],
   "source": [
    "df.tail()"
   ]
  },
  {
   "cell_type": "code",
   "execution_count": 34,
   "metadata": {},
   "outputs": [],
   "source": [
    "x_train, x_test, y_train, y_test = train_test_split(df.text, df.label)"
   ]
  },
  {
   "cell_type": "markdown",
   "metadata": {},
   "source": [
    "## Baseline: классификация необработанных n-грамм\n",
    "\n",
    "### Векторизаторы"
   ]
  },
  {
   "cell_type": "code",
   "execution_count": 35,
   "metadata": {},
   "outputs": [],
   "source": [
    "from sklearn.linear_model import LogisticRegression # можно заменить на любимый классификатор\n",
    "from sklearn.feature_extraction.text import CountVectorizer"
   ]
  },
  {
   "cell_type": "markdown",
   "metadata": {},
   "source": [
    "Что такое n-граммы:"
   ]
  },
  {
   "cell_type": "code",
   "execution_count": 36,
   "metadata": {},
   "outputs": [],
   "source": [
    "from nltk import ngrams"
   ]
  },
  {
   "cell_type": "code",
   "execution_count": 37,
   "metadata": {},
   "outputs": [
    {
     "data": {
      "text/plain": [
       "[('Если',), ('б',), ('мне',), ('платили',), ('каждый',), ('раз',)]"
      ]
     },
     "execution_count": 37,
     "metadata": {},
     "output_type": "execute_result"
    }
   ],
   "source": [
    "sent = 'Если б мне платили каждый раз'.split()\n",
    "list(ngrams(sent, 1)) # униграммы"
   ]
  },
  {
   "cell_type": "code",
   "execution_count": 38,
   "metadata": {},
   "outputs": [
    {
     "data": {
      "text/plain": [
       "[('Если', 'б'),\n",
       " ('б', 'мне'),\n",
       " ('мне', 'платили'),\n",
       " ('платили', 'каждый'),\n",
       " ('каждый', 'раз')]"
      ]
     },
     "execution_count": 38,
     "metadata": {},
     "output_type": "execute_result"
    }
   ],
   "source": [
    "list(ngrams(sent, 2)) # биграммы"
   ]
  },
  {
   "cell_type": "code",
   "execution_count": 39,
   "metadata": {},
   "outputs": [
    {
     "data": {
      "text/plain": [
       "[('Если', 'б', 'мне'),\n",
       " ('б', 'мне', 'платили'),\n",
       " ('мне', 'платили', 'каждый'),\n",
       " ('платили', 'каждый', 'раз')]"
      ]
     },
     "execution_count": 39,
     "metadata": {},
     "output_type": "execute_result"
    }
   ],
   "source": [
    "list(ngrams(sent, 3)) # триграммы"
   ]
  },
  {
   "cell_type": "code",
   "execution_count": 40,
   "metadata": {},
   "outputs": [
    {
     "data": {
      "text/plain": [
       "[('Если', 'б', 'мне', 'платили', 'каждый'),\n",
       " ('б', 'мне', 'платили', 'каждый', 'раз')]"
      ]
     },
     "execution_count": 40,
     "metadata": {},
     "output_type": "execute_result"
    }
   ],
   "source": [
    "list(ngrams(sent, 5)) # ... пентаграммы?"
   ]
  },
  {
   "cell_type": "markdown",
   "metadata": {},
   "source": [
    "Самый простой способ извлечь фичи из текстовых данных -- векторизаторы: `CountVectorizer` и `TfidfVectorizer`\n",
    "\n",
    "Объект `CountVectorizer` делает простую вещь:\n",
    "* строит для каждого документа (каждой пришедшей ему строки) вектор размерности `n`, где `n` -- количество слов или n-грам во всём корпусе\n",
    "* заполняет каждый i-тый элемент количеством вхождений слова в данный документ"
   ]
  },
  {
   "cell_type": "code",
   "execution_count": 41,
   "metadata": {},
   "outputs": [],
   "source": [
    "vec = CountVectorizer(ngram_range = (1, 1))\n",
    "bow = vec.fit_transform(x_train) # bow -- bag of words (мешок слов)"
   ]
  },
  {
   "cell_type": "code",
   "execution_count": 49,
   "metadata": {},
   "outputs": [
    {
     "data": {
      "text/plain": [
       "1000    Дим, ты помогаешь мне, я тебе, все взаимно, вс...\n",
       "1000         И как я встану сегодня утром на Тренеровку:(\n",
       "Name: text, dtype: object"
      ]
     },
     "execution_count": 49,
     "metadata": {},
     "output_type": "execute_result"
    }
   ],
   "source": [
    "x_train[1000]"
   ]
  },
  {
   "cell_type": "code",
   "execution_count": 50,
   "metadata": {},
   "outputs": [
    {
     "data": {
      "text/plain": [
       "<170125x243611 sparse matrix of type '<class 'numpy.int64'>'\n",
       "\twith 1848254 stored elements in Compressed Sparse Row format>"
      ]
     },
     "execution_count": 50,
     "metadata": {},
     "output_type": "execute_result"
    }
   ],
   "source": [
    "bow"
   ]
  },
  {
   "cell_type": "markdown",
   "metadata": {},
   "source": [
    "ngram_range отвечает за то, какие n-граммы мы используем в качестве фичей:<br/>\n",
    "ngram_range=(1, 1) -- униграммы<br/>\n",
    "ngram_range=(3, 3) -- триграммы<br/>\n",
    "ngram_range=(1, 3) -- униграммы, биграммы и триграммы.\n",
    "\n",
    "В vec.vocabulary_ лежит словарь: мэппинг слов к их индексам:"
   ]
  },
  {
   "cell_type": "code",
   "execution_count": 51,
   "metadata": {},
   "outputs": [
    {
     "data": {
      "text/plain": [
       "[('впервые', 114730),\n",
       " ('недовольна', 165666),\n",
       " ('походом', 191059),\n",
       " ('театр', 220526),\n",
       " ('пошлая', 191407),\n",
       " ('постановка', 190165),\n",
       " ('для', 125968),\n",
       " ('тех', 221385),\n",
       " ('кому', 146815),\n",
       " ('за', 132103)]"
      ]
     },
     "execution_count": 51,
     "metadata": {},
     "output_type": "execute_result"
    }
   ],
   "source": [
    "list(vec.vocabulary_.items())[:10]"
   ]
  },
  {
   "cell_type": "code",
   "execution_count": 52,
   "metadata": {},
   "outputs": [
    {
     "name": "stderr",
     "output_type": "stream",
     "text": [
      "/Library/Frameworks/Python.framework/Versions/3.11/lib/python3.11/site-packages/sklearn/linear_model/_logistic.py:469: ConvergenceWarning: lbfgs failed to converge (status=1):\n",
      "STOP: TOTAL NO. of ITERATIONS REACHED LIMIT.\n",
      "\n",
      "Increase the number of iterations (max_iter) or scale the data as shown in:\n",
      "    https://scikit-learn.org/stable/modules/preprocessing.html\n",
      "Please also refer to the documentation for alternative solver options:\n",
      "    https://scikit-learn.org/stable/modules/linear_model.html#logistic-regression\n",
      "  n_iter_i = _check_optimize_result(\n"
     ]
    },
    {
     "data": {
      "text/html": [
       "<style>#sk-container-id-2 {\n",
       "  /* Definition of color scheme common for light and dark mode */\n",
       "  --sklearn-color-text: black;\n",
       "  --sklearn-color-line: gray;\n",
       "  /* Definition of color scheme for unfitted estimators */\n",
       "  --sklearn-color-unfitted-level-0: #fff5e6;\n",
       "  --sklearn-color-unfitted-level-1: #f6e4d2;\n",
       "  --sklearn-color-unfitted-level-2: #ffe0b3;\n",
       "  --sklearn-color-unfitted-level-3: chocolate;\n",
       "  /* Definition of color scheme for fitted estimators */\n",
       "  --sklearn-color-fitted-level-0: #f0f8ff;\n",
       "  --sklearn-color-fitted-level-1: #d4ebff;\n",
       "  --sklearn-color-fitted-level-2: #b3dbfd;\n",
       "  --sklearn-color-fitted-level-3: cornflowerblue;\n",
       "\n",
       "  /* Specific color for light theme */\n",
       "  --sklearn-color-text-on-default-background: var(--sg-text-color, var(--theme-code-foreground, var(--jp-content-font-color1, black)));\n",
       "  --sklearn-color-background: var(--sg-background-color, var(--theme-background, var(--jp-layout-color0, white)));\n",
       "  --sklearn-color-border-box: var(--sg-text-color, var(--theme-code-foreground, var(--jp-content-font-color1, black)));\n",
       "  --sklearn-color-icon: #696969;\n",
       "\n",
       "  @media (prefers-color-scheme: dark) {\n",
       "    /* Redefinition of color scheme for dark theme */\n",
       "    --sklearn-color-text-on-default-background: var(--sg-text-color, var(--theme-code-foreground, var(--jp-content-font-color1, white)));\n",
       "    --sklearn-color-background: var(--sg-background-color, var(--theme-background, var(--jp-layout-color0, #111)));\n",
       "    --sklearn-color-border-box: var(--sg-text-color, var(--theme-code-foreground, var(--jp-content-font-color1, white)));\n",
       "    --sklearn-color-icon: #878787;\n",
       "  }\n",
       "}\n",
       "\n",
       "#sk-container-id-2 {\n",
       "  color: var(--sklearn-color-text);\n",
       "}\n",
       "\n",
       "#sk-container-id-2 pre {\n",
       "  padding: 0;\n",
       "}\n",
       "\n",
       "#sk-container-id-2 input.sk-hidden--visually {\n",
       "  border: 0;\n",
       "  clip: rect(1px 1px 1px 1px);\n",
       "  clip: rect(1px, 1px, 1px, 1px);\n",
       "  height: 1px;\n",
       "  margin: -1px;\n",
       "  overflow: hidden;\n",
       "  padding: 0;\n",
       "  position: absolute;\n",
       "  width: 1px;\n",
       "}\n",
       "\n",
       "#sk-container-id-2 div.sk-dashed-wrapped {\n",
       "  border: 1px dashed var(--sklearn-color-line);\n",
       "  margin: 0 0.4em 0.5em 0.4em;\n",
       "  box-sizing: border-box;\n",
       "  padding-bottom: 0.4em;\n",
       "  background-color: var(--sklearn-color-background);\n",
       "}\n",
       "\n",
       "#sk-container-id-2 div.sk-container {\n",
       "  /* jupyter's `normalize.less` sets `[hidden] { display: none; }`\n",
       "     but bootstrap.min.css set `[hidden] { display: none !important; }`\n",
       "     so we also need the `!important` here to be able to override the\n",
       "     default hidden behavior on the sphinx rendered scikit-learn.org.\n",
       "     See: https://github.com/scikit-learn/scikit-learn/issues/21755 */\n",
       "  display: inline-block !important;\n",
       "  position: relative;\n",
       "}\n",
       "\n",
       "#sk-container-id-2 div.sk-text-repr-fallback {\n",
       "  display: none;\n",
       "}\n",
       "\n",
       "div.sk-parallel-item,\n",
       "div.sk-serial,\n",
       "div.sk-item {\n",
       "  /* draw centered vertical line to link estimators */\n",
       "  background-image: linear-gradient(var(--sklearn-color-text-on-default-background), var(--sklearn-color-text-on-default-background));\n",
       "  background-size: 2px 100%;\n",
       "  background-repeat: no-repeat;\n",
       "  background-position: center center;\n",
       "}\n",
       "\n",
       "/* Parallel-specific style estimator block */\n",
       "\n",
       "#sk-container-id-2 div.sk-parallel-item::after {\n",
       "  content: \"\";\n",
       "  width: 100%;\n",
       "  border-bottom: 2px solid var(--sklearn-color-text-on-default-background);\n",
       "  flex-grow: 1;\n",
       "}\n",
       "\n",
       "#sk-container-id-2 div.sk-parallel {\n",
       "  display: flex;\n",
       "  align-items: stretch;\n",
       "  justify-content: center;\n",
       "  background-color: var(--sklearn-color-background);\n",
       "  position: relative;\n",
       "}\n",
       "\n",
       "#sk-container-id-2 div.sk-parallel-item {\n",
       "  display: flex;\n",
       "  flex-direction: column;\n",
       "}\n",
       "\n",
       "#sk-container-id-2 div.sk-parallel-item:first-child::after {\n",
       "  align-self: flex-end;\n",
       "  width: 50%;\n",
       "}\n",
       "\n",
       "#sk-container-id-2 div.sk-parallel-item:last-child::after {\n",
       "  align-self: flex-start;\n",
       "  width: 50%;\n",
       "}\n",
       "\n",
       "#sk-container-id-2 div.sk-parallel-item:only-child::after {\n",
       "  width: 0;\n",
       "}\n",
       "\n",
       "/* Serial-specific style estimator block */\n",
       "\n",
       "#sk-container-id-2 div.sk-serial {\n",
       "  display: flex;\n",
       "  flex-direction: column;\n",
       "  align-items: center;\n",
       "  background-color: var(--sklearn-color-background);\n",
       "  padding-right: 1em;\n",
       "  padding-left: 1em;\n",
       "}\n",
       "\n",
       "\n",
       "/* Toggleable style: style used for estimator/Pipeline/ColumnTransformer box that is\n",
       "clickable and can be expanded/collapsed.\n",
       "- Pipeline and ColumnTransformer use this feature and define the default style\n",
       "- Estimators will overwrite some part of the style using the `sk-estimator` class\n",
       "*/\n",
       "\n",
       "/* Pipeline and ColumnTransformer style (default) */\n",
       "\n",
       "#sk-container-id-2 div.sk-toggleable {\n",
       "  /* Default theme specific background. It is overwritten whether we have a\n",
       "  specific estimator or a Pipeline/ColumnTransformer */\n",
       "  background-color: var(--sklearn-color-background);\n",
       "}\n",
       "\n",
       "/* Toggleable label */\n",
       "#sk-container-id-2 label.sk-toggleable__label {\n",
       "  cursor: pointer;\n",
       "  display: block;\n",
       "  width: 100%;\n",
       "  margin-bottom: 0;\n",
       "  padding: 0.5em;\n",
       "  box-sizing: border-box;\n",
       "  text-align: center;\n",
       "}\n",
       "\n",
       "#sk-container-id-2 label.sk-toggleable__label-arrow:before {\n",
       "  /* Arrow on the left of the label */\n",
       "  content: \"▸\";\n",
       "  float: left;\n",
       "  margin-right: 0.25em;\n",
       "  color: var(--sklearn-color-icon);\n",
       "}\n",
       "\n",
       "#sk-container-id-2 label.sk-toggleable__label-arrow:hover:before {\n",
       "  color: var(--sklearn-color-text);\n",
       "}\n",
       "\n",
       "/* Toggleable content - dropdown */\n",
       "\n",
       "#sk-container-id-2 div.sk-toggleable__content {\n",
       "  max-height: 0;\n",
       "  max-width: 0;\n",
       "  overflow: hidden;\n",
       "  text-align: left;\n",
       "  /* unfitted */\n",
       "  background-color: var(--sklearn-color-unfitted-level-0);\n",
       "}\n",
       "\n",
       "#sk-container-id-2 div.sk-toggleable__content.fitted {\n",
       "  /* fitted */\n",
       "  background-color: var(--sklearn-color-fitted-level-0);\n",
       "}\n",
       "\n",
       "#sk-container-id-2 div.sk-toggleable__content pre {\n",
       "  margin: 0.2em;\n",
       "  border-radius: 0.25em;\n",
       "  color: var(--sklearn-color-text);\n",
       "  /* unfitted */\n",
       "  background-color: var(--sklearn-color-unfitted-level-0);\n",
       "}\n",
       "\n",
       "#sk-container-id-2 div.sk-toggleable__content.fitted pre {\n",
       "  /* unfitted */\n",
       "  background-color: var(--sklearn-color-fitted-level-0);\n",
       "}\n",
       "\n",
       "#sk-container-id-2 input.sk-toggleable__control:checked~div.sk-toggleable__content {\n",
       "  /* Expand drop-down */\n",
       "  max-height: 200px;\n",
       "  max-width: 100%;\n",
       "  overflow: auto;\n",
       "}\n",
       "\n",
       "#sk-container-id-2 input.sk-toggleable__control:checked~label.sk-toggleable__label-arrow:before {\n",
       "  content: \"▾\";\n",
       "}\n",
       "\n",
       "/* Pipeline/ColumnTransformer-specific style */\n",
       "\n",
       "#sk-container-id-2 div.sk-label input.sk-toggleable__control:checked~label.sk-toggleable__label {\n",
       "  color: var(--sklearn-color-text);\n",
       "  background-color: var(--sklearn-color-unfitted-level-2);\n",
       "}\n",
       "\n",
       "#sk-container-id-2 div.sk-label.fitted input.sk-toggleable__control:checked~label.sk-toggleable__label {\n",
       "  background-color: var(--sklearn-color-fitted-level-2);\n",
       "}\n",
       "\n",
       "/* Estimator-specific style */\n",
       "\n",
       "/* Colorize estimator box */\n",
       "#sk-container-id-2 div.sk-estimator input.sk-toggleable__control:checked~label.sk-toggleable__label {\n",
       "  /* unfitted */\n",
       "  background-color: var(--sklearn-color-unfitted-level-2);\n",
       "}\n",
       "\n",
       "#sk-container-id-2 div.sk-estimator.fitted input.sk-toggleable__control:checked~label.sk-toggleable__label {\n",
       "  /* fitted */\n",
       "  background-color: var(--sklearn-color-fitted-level-2);\n",
       "}\n",
       "\n",
       "#sk-container-id-2 div.sk-label label.sk-toggleable__label,\n",
       "#sk-container-id-2 div.sk-label label {\n",
       "  /* The background is the default theme color */\n",
       "  color: var(--sklearn-color-text-on-default-background);\n",
       "}\n",
       "\n",
       "/* On hover, darken the color of the background */\n",
       "#sk-container-id-2 div.sk-label:hover label.sk-toggleable__label {\n",
       "  color: var(--sklearn-color-text);\n",
       "  background-color: var(--sklearn-color-unfitted-level-2);\n",
       "}\n",
       "\n",
       "/* Label box, darken color on hover, fitted */\n",
       "#sk-container-id-2 div.sk-label.fitted:hover label.sk-toggleable__label.fitted {\n",
       "  color: var(--sklearn-color-text);\n",
       "  background-color: var(--sklearn-color-fitted-level-2);\n",
       "}\n",
       "\n",
       "/* Estimator label */\n",
       "\n",
       "#sk-container-id-2 div.sk-label label {\n",
       "  font-family: monospace;\n",
       "  font-weight: bold;\n",
       "  display: inline-block;\n",
       "  line-height: 1.2em;\n",
       "}\n",
       "\n",
       "#sk-container-id-2 div.sk-label-container {\n",
       "  text-align: center;\n",
       "}\n",
       "\n",
       "/* Estimator-specific */\n",
       "#sk-container-id-2 div.sk-estimator {\n",
       "  font-family: monospace;\n",
       "  border: 1px dotted var(--sklearn-color-border-box);\n",
       "  border-radius: 0.25em;\n",
       "  box-sizing: border-box;\n",
       "  margin-bottom: 0.5em;\n",
       "  /* unfitted */\n",
       "  background-color: var(--sklearn-color-unfitted-level-0);\n",
       "}\n",
       "\n",
       "#sk-container-id-2 div.sk-estimator.fitted {\n",
       "  /* fitted */\n",
       "  background-color: var(--sklearn-color-fitted-level-0);\n",
       "}\n",
       "\n",
       "/* on hover */\n",
       "#sk-container-id-2 div.sk-estimator:hover {\n",
       "  /* unfitted */\n",
       "  background-color: var(--sklearn-color-unfitted-level-2);\n",
       "}\n",
       "\n",
       "#sk-container-id-2 div.sk-estimator.fitted:hover {\n",
       "  /* fitted */\n",
       "  background-color: var(--sklearn-color-fitted-level-2);\n",
       "}\n",
       "\n",
       "/* Specification for estimator info (e.g. \"i\" and \"?\") */\n",
       "\n",
       "/* Common style for \"i\" and \"?\" */\n",
       "\n",
       ".sk-estimator-doc-link,\n",
       "a:link.sk-estimator-doc-link,\n",
       "a:visited.sk-estimator-doc-link {\n",
       "  float: right;\n",
       "  font-size: smaller;\n",
       "  line-height: 1em;\n",
       "  font-family: monospace;\n",
       "  background-color: var(--sklearn-color-background);\n",
       "  border-radius: 1em;\n",
       "  height: 1em;\n",
       "  width: 1em;\n",
       "  text-decoration: none !important;\n",
       "  margin-left: 1ex;\n",
       "  /* unfitted */\n",
       "  border: var(--sklearn-color-unfitted-level-1) 1pt solid;\n",
       "  color: var(--sklearn-color-unfitted-level-1);\n",
       "}\n",
       "\n",
       ".sk-estimator-doc-link.fitted,\n",
       "a:link.sk-estimator-doc-link.fitted,\n",
       "a:visited.sk-estimator-doc-link.fitted {\n",
       "  /* fitted */\n",
       "  border: var(--sklearn-color-fitted-level-1) 1pt solid;\n",
       "  color: var(--sklearn-color-fitted-level-1);\n",
       "}\n",
       "\n",
       "/* On hover */\n",
       "div.sk-estimator:hover .sk-estimator-doc-link:hover,\n",
       ".sk-estimator-doc-link:hover,\n",
       "div.sk-label-container:hover .sk-estimator-doc-link:hover,\n",
       ".sk-estimator-doc-link:hover {\n",
       "  /* unfitted */\n",
       "  background-color: var(--sklearn-color-unfitted-level-3);\n",
       "  color: var(--sklearn-color-background);\n",
       "  text-decoration: none;\n",
       "}\n",
       "\n",
       "div.sk-estimator.fitted:hover .sk-estimator-doc-link.fitted:hover,\n",
       ".sk-estimator-doc-link.fitted:hover,\n",
       "div.sk-label-container:hover .sk-estimator-doc-link.fitted:hover,\n",
       ".sk-estimator-doc-link.fitted:hover {\n",
       "  /* fitted */\n",
       "  background-color: var(--sklearn-color-fitted-level-3);\n",
       "  color: var(--sklearn-color-background);\n",
       "  text-decoration: none;\n",
       "}\n",
       "\n",
       "/* Span, style for the box shown on hovering the info icon */\n",
       ".sk-estimator-doc-link span {\n",
       "  display: none;\n",
       "  z-index: 9999;\n",
       "  position: relative;\n",
       "  font-weight: normal;\n",
       "  right: .2ex;\n",
       "  padding: .5ex;\n",
       "  margin: .5ex;\n",
       "  width: min-content;\n",
       "  min-width: 20ex;\n",
       "  max-width: 50ex;\n",
       "  color: var(--sklearn-color-text);\n",
       "  box-shadow: 2pt 2pt 4pt #999;\n",
       "  /* unfitted */\n",
       "  background: var(--sklearn-color-unfitted-level-0);\n",
       "  border: .5pt solid var(--sklearn-color-unfitted-level-3);\n",
       "}\n",
       "\n",
       ".sk-estimator-doc-link.fitted span {\n",
       "  /* fitted */\n",
       "  background: var(--sklearn-color-fitted-level-0);\n",
       "  border: var(--sklearn-color-fitted-level-3);\n",
       "}\n",
       "\n",
       ".sk-estimator-doc-link:hover span {\n",
       "  display: block;\n",
       "}\n",
       "\n",
       "/* \"?\"-specific style due to the `<a>` HTML tag */\n",
       "\n",
       "#sk-container-id-2 a.estimator_doc_link {\n",
       "  float: right;\n",
       "  font-size: 1rem;\n",
       "  line-height: 1em;\n",
       "  font-family: monospace;\n",
       "  background-color: var(--sklearn-color-background);\n",
       "  border-radius: 1rem;\n",
       "  height: 1rem;\n",
       "  width: 1rem;\n",
       "  text-decoration: none;\n",
       "  /* unfitted */\n",
       "  color: var(--sklearn-color-unfitted-level-1);\n",
       "  border: var(--sklearn-color-unfitted-level-1) 1pt solid;\n",
       "}\n",
       "\n",
       "#sk-container-id-2 a.estimator_doc_link.fitted {\n",
       "  /* fitted */\n",
       "  border: var(--sklearn-color-fitted-level-1) 1pt solid;\n",
       "  color: var(--sklearn-color-fitted-level-1);\n",
       "}\n",
       "\n",
       "/* On hover */\n",
       "#sk-container-id-2 a.estimator_doc_link:hover {\n",
       "  /* unfitted */\n",
       "  background-color: var(--sklearn-color-unfitted-level-3);\n",
       "  color: var(--sklearn-color-background);\n",
       "  text-decoration: none;\n",
       "}\n",
       "\n",
       "#sk-container-id-2 a.estimator_doc_link.fitted:hover {\n",
       "  /* fitted */\n",
       "  background-color: var(--sklearn-color-fitted-level-3);\n",
       "}\n",
       "</style><div id=\"sk-container-id-2\" class=\"sk-top-container\"><div class=\"sk-text-repr-fallback\"><pre>LogisticRegression(random_state=42)</pre><b>In a Jupyter environment, please rerun this cell to show the HTML representation or trust the notebook. <br />On GitHub, the HTML representation is unable to render, please try loading this page with nbviewer.org.</b></div><div class=\"sk-container\" hidden><div class=\"sk-item\"><div class=\"sk-estimator fitted sk-toggleable\"><input class=\"sk-toggleable__control sk-hidden--visually\" id=\"sk-estimator-id-2\" type=\"checkbox\" checked><label for=\"sk-estimator-id-2\" class=\"sk-toggleable__label fitted sk-toggleable__label-arrow fitted\">&nbsp;&nbsp;LogisticRegression<a class=\"sk-estimator-doc-link fitted\" rel=\"noreferrer\" target=\"_blank\" href=\"https://scikit-learn.org/1.5/modules/generated/sklearn.linear_model.LogisticRegression.html\">?<span>Documentation for LogisticRegression</span></a><span class=\"sk-estimator-doc-link fitted\">i<span>Fitted</span></span></label><div class=\"sk-toggleable__content fitted\"><pre>LogisticRegression(random_state=42)</pre></div> </div></div></div></div>"
      ],
      "text/plain": [
       "LogisticRegression(random_state=42)"
      ]
     },
     "execution_count": 52,
     "metadata": {},
     "output_type": "execute_result"
    }
   ],
   "source": [
    "clf = LogisticRegression(random_state = 42)\n",
    "clf.fit(bow, y_train)"
   ]
  },
  {
   "cell_type": "code",
   "execution_count": 53,
   "metadata": {},
   "outputs": [
    {
     "name": "stdout",
     "output_type": "stream",
     "text": [
      "              precision    recall  f1-score   support\n",
      "\n",
      "    negative       0.76      0.76      0.76     27994\n",
      "    positive       0.76      0.76      0.76     28715\n",
      "\n",
      "    accuracy                           0.76     56709\n",
      "   macro avg       0.76      0.76      0.76     56709\n",
      "weighted avg       0.76      0.76      0.76     56709\n",
      "\n"
     ]
    }
   ],
   "source": [
    "pred = clf.predict(vec.transform(x_test))\n",
    "print(classification_report(pred, y_test))"
   ]
  },
  {
   "cell_type": "markdown",
   "metadata": {},
   "source": [
    "Попробуем сделать то же самое для триграмм:"
   ]
  },
  {
   "cell_type": "code",
   "execution_count": 54,
   "metadata": {},
   "outputs": [
    {
     "name": "stdout",
     "output_type": "stream",
     "text": [
      "              precision    recall  f1-score   support\n",
      "\n",
      "    negative       0.47      0.71      0.57     18428\n",
      "    positive       0.82      0.61      0.70     38281\n",
      "\n",
      "    accuracy                           0.65     56709\n",
      "   macro avg       0.64      0.66      0.63     56709\n",
      "weighted avg       0.70      0.65      0.66     56709\n",
      "\n"
     ]
    }
   ],
   "source": [
    "vec = CountVectorizer(ngram_range = (3, 3))\n",
    "bow = vec.fit_transform(x_train)\n",
    "clf = LogisticRegression(random_state = 42)\n",
    "clf.fit(bow, y_train)\n",
    "pred = clf.predict(vec.transform(x_test))\n",
    "print(classification_report(pred, y_test))"
   ]
  },
  {
   "cell_type": "markdown",
   "metadata": {},
   "source": [
    "(как вы думаете, почему в результатах теперь такой разброс по сравнению с униграммами?)"
   ]
  },
  {
   "cell_type": "markdown",
   "metadata": {},
   "source": [
    "## TF-IDF векторизация"
   ]
  },
  {
   "cell_type": "markdown",
   "metadata": {},
   "source": [
    "`TfidfVectorizer` делает то же, что и `CountVectorizer`, но в качестве значений – tf-idf каждого слова.\n",
    "\n",
    "Как считается tf-idf:\n",
    "\n",
    "TF (term frequency) – относительная частотность слова в документе:\n",
    "$$ TF(t,d) = \\frac{n_t}{\\sum_k n_k} $$\n",
    "\n",
    "`t` -- слово (term), `d` -- документ, $n_t$ -- количество вхождений слова, $n_k$ -- количество вхождений остальных слов\n",
    "\n",
    "IDF (inverse document frequency) – обратная частота документов, в которых есть это слово:\n",
    "$$ IDF(t, D) = \\mbox{log} \\frac{|D|}{|{d : t \\in d}|} $$\n",
    "\n",
    "`t` -- слово (term), `D` -- коллекция документов\n",
    "\n",
    "Перемножаем их:\n",
    "$$TFIDF_(t,d,D) = TF(t,d) \\times IDF(i, D)$$\n",
    "\n",
    "Сакральный смысл – если слово часто встречается в одном документе, но в целом по корпусу встречается в небольшом \n",
    "количестве документов, у него высокий TF-IDF."
   ]
  },
  {
   "cell_type": "code",
   "execution_count": 55,
   "metadata": {},
   "outputs": [],
   "source": [
    "from sklearn.feature_extraction.text import TfidfVectorizer"
   ]
  },
  {
   "cell_type": "code",
   "execution_count": 56,
   "metadata": {},
   "outputs": [
    {
     "name": "stdout",
     "output_type": "stream",
     "text": [
      "              precision    recall  f1-score   support\n",
      "\n",
      "    negative       0.73      0.76      0.75     26687\n",
      "    positive       0.78      0.75      0.76     30022\n",
      "\n",
      "    accuracy                           0.75     56709\n",
      "   macro avg       0.75      0.76      0.75     56709\n",
      "weighted avg       0.76      0.75      0.76     56709\n",
      "\n"
     ]
    }
   ],
   "source": [
    "vec = TfidfVectorizer(ngram_range=(1, 1))\n",
    "bow = vec.fit_transform(x_train)\n",
    "clf = LogisticRegression(random_state=42)\n",
    "clf.fit(bow, y_train)\n",
    "pred = clf.predict(vec.transform(x_test))\n",
    "print(classification_report(pred, y_test))"
   ]
  },
  {
   "cell_type": "markdown",
   "metadata": {},
   "source": [
    "В этот раз получилось хуже :( Вернёмся к `CountVectorizer`."
   ]
  },
  {
   "cell_type": "markdown",
   "metadata": {},
   "source": [
    "## Токенизация\n",
    "\n",
    "Токенизировать -- значит, поделить текст на слова, или *токены*.\n",
    "\n",
    "Самый наивный способ токенизировать текст -- разделить с помощью `split`. Но `split` упускает очень много всего, например, банально не отделяет пунктуацию от слов. Кроме этого, есть ещё много менее тривиальных проблем. Поэтому лучше использовать готовые токенизаторы."
   ]
  },
  {
   "cell_type": "code",
   "execution_count": 57,
   "metadata": {},
   "outputs": [],
   "source": [
    "from nltk.tokenize import word_tokenize"
   ]
  },
  {
   "cell_type": "markdown",
   "metadata": {},
   "source": [
    "В nltk вообще есть довольно много токенизаторов:"
   ]
  },
  {
   "cell_type": "code",
   "execution_count": 58,
   "metadata": {},
   "outputs": [
    {
     "data": {
      "text/plain": [
       "['BlanklineTokenizer',\n",
       " 'LegalitySyllableTokenizer',\n",
       " 'LineTokenizer',\n",
       " 'MWETokenizer',\n",
       " 'NLTKWordTokenizer',\n",
       " 'PunktSentenceTokenizer',\n",
       " 'PunktTokenizer',\n",
       " 'RegexpTokenizer',\n",
       " 'ReppTokenizer',\n",
       " 'SExprTokenizer',\n",
       " 'SpaceTokenizer',\n",
       " 'StanfordSegmenter',\n",
       " 'SyllableTokenizer',\n",
       " 'TabTokenizer',\n",
       " 'TextTilingTokenizer',\n",
       " 'ToktokTokenizer']"
      ]
     },
     "execution_count": 58,
     "metadata": {},
     "output_type": "execute_result"
    }
   ],
   "source": [
    "from nltk import tokenize\n",
    "dir(tokenize)[:16]"
   ]
  },
  {
   "cell_type": "markdown",
   "metadata": {},
   "source": [
    "Они умеют выдавать индексы начала и конца каждого токена:"
   ]
  },
  {
   "cell_type": "code",
   "execution_count": 63,
   "metadata": {},
   "outputs": [
    {
     "data": {
      "text/plain": [
       "['do', \"n't\", 'stop', 'me']"
      ]
     },
     "execution_count": 63,
     "metadata": {},
     "output_type": "execute_result"
    }
   ],
   "source": [
    "tokenize.TreebankWordTokenizer().tokenize(\"don't stop me\")"
   ]
  },
  {
   "cell_type": "markdown",
   "metadata": {},
   "source": [
    "А некоторые -- вообще не для текста на естественном языке (не очень понятно, зачем это в nltk :)):"
   ]
  },
  {
   "cell_type": "code",
   "execution_count": 64,
   "metadata": {},
   "outputs": [
    {
     "data": {
      "text/plain": [
       "['(a (b c))', 'd', 'e', '(f)']"
      ]
     },
     "execution_count": 64,
     "metadata": {},
     "output_type": "execute_result"
    }
   ],
   "source": [
    "tokenize.SExprTokenizer().tokenize(\"(a (b c)) d e (f)\")"
   ]
  },
  {
   "cell_type": "markdown",
   "metadata": {},
   "source": [
    "## Стоп-слова и пунктуация\n",
    "\n",
    "*Стоп-слова* -- это слова, которые часто встречаются практически в любом тексте и ничего интересного не говорят о конретном документе, то есть играют роль шума. Поэтому их принято убирать. По той же причине убирают и пунктуацию."
   ]
  },
  {
   "cell_type": "code",
   "execution_count": 65,
   "metadata": {},
   "outputs": [
    {
     "name": "stdout",
     "output_type": "stream",
     "text": [
      "['и', 'в', 'во', 'не', 'что', 'он', 'на', 'я', 'с', 'со', 'как', 'а', 'то', 'все', 'она', 'так', 'его', 'но', 'да', 'ты', 'к', 'у', 'же', 'вы', 'за', 'бы', 'по', 'только', 'ее', 'мне', 'было', 'вот', 'от', 'меня', 'еще', 'нет', 'о', 'из', 'ему', 'теперь', 'когда', 'даже', 'ну', 'вдруг', 'ли', 'если', 'уже', 'или', 'ни', 'быть', 'был', 'него', 'до', 'вас', 'нибудь', 'опять', 'уж', 'вам', 'ведь', 'там', 'потом', 'себя', 'ничего', 'ей', 'может', 'они', 'тут', 'где', 'есть', 'надо', 'ней', 'для', 'мы', 'тебя', 'их', 'чем', 'была', 'сам', 'чтоб', 'без', 'будто', 'чего', 'раз', 'тоже', 'себе', 'под', 'будет', 'ж', 'тогда', 'кто', 'этот', 'того', 'потому', 'этого', 'какой', 'совсем', 'ним', 'здесь', 'этом', 'один', 'почти', 'мой', 'тем', 'чтобы', 'нее', 'сейчас', 'были', 'куда', 'зачем', 'всех', 'никогда', 'можно', 'при', 'наконец', 'два', 'об', 'другой', 'хоть', 'после', 'над', 'больше', 'тот', 'через', 'эти', 'нас', 'про', 'всего', 'них', 'какая', 'много', 'разве', 'три', 'эту', 'моя', 'впрочем', 'хорошо', 'свою', 'этой', 'перед', 'иногда', 'лучше', 'чуть', 'том', 'нельзя', 'такой', 'им', 'более', 'всегда', 'конечно', 'всю', 'между']\n"
     ]
    }
   ],
   "source": [
    "# у вас здесь, вероятно, выскочит ошибка и надо будет загрузить стоп слова (в тексте ошибки написано, как)\n",
    "from nltk.corpus import stopwords\n",
    "print(stopwords.words('russian'))"
   ]
  },
  {
   "cell_type": "code",
   "execution_count": 66,
   "metadata": {},
   "outputs": [
    {
     "name": "stdout",
     "output_type": "stream",
     "text": [
      "['de', 'la', 'que', 'el', 'en', 'y', 'a', 'los', 'del', 'se', 'las', 'por', 'un', 'para', 'con', 'no', 'una', 'su', 'al', 'lo', 'como', 'más', 'pero', 'sus', 'le', 'ya', 'o', 'este', 'sí', 'porque', 'esta', 'entre', 'cuando', 'muy', 'sin', 'sobre', 'también', 'me', 'hasta', 'hay', 'donde', 'quien', 'desde', 'todo', 'nos', 'durante', 'todos', 'uno', 'les', 'ni', 'contra', 'otros', 'ese', 'eso', 'ante', 'ellos', 'e', 'esto', 'mí', 'antes', 'algunos', 'qué', 'unos', 'yo', 'otro', 'otras', 'otra', 'él', 'tanto', 'esa', 'estos', 'mucho', 'quienes', 'nada', 'muchos', 'cual', 'poco', 'ella', 'estar', 'estas', 'algunas', 'algo', 'nosotros', 'mi', 'mis', 'tú', 'te', 'ti', 'tu', 'tus', 'ellas', 'nosotras', 'vosotros', 'vosotras', 'os', 'mío', 'mía', 'míos', 'mías', 'tuyo', 'tuya', 'tuyos', 'tuyas', 'suyo', 'suya', 'suyos', 'suyas', 'nuestro', 'nuestra', 'nuestros', 'nuestras', 'vuestro', 'vuestra', 'vuestros', 'vuestras', 'esos', 'esas', 'estoy', 'estás', 'está', 'estamos', 'estáis', 'están', 'esté', 'estés', 'estemos', 'estéis', 'estén', 'estaré', 'estarás', 'estará', 'estaremos', 'estaréis', 'estarán', 'estaría', 'estarías', 'estaríamos', 'estaríais', 'estarían', 'estaba', 'estabas', 'estábamos', 'estabais', 'estaban', 'estuve', 'estuviste', 'estuvo', 'estuvimos', 'estuvisteis', 'estuvieron', 'estuviera', 'estuvieras', 'estuviéramos', 'estuvierais', 'estuvieran', 'estuviese', 'estuvieses', 'estuviésemos', 'estuvieseis', 'estuviesen', 'estando', 'estado', 'estada', 'estados', 'estadas', 'estad', 'he', 'has', 'ha', 'hemos', 'habéis', 'han', 'haya', 'hayas', 'hayamos', 'hayáis', 'hayan', 'habré', 'habrás', 'habrá', 'habremos', 'habréis', 'habrán', 'habría', 'habrías', 'habríamos', 'habríais', 'habrían', 'había', 'habías', 'habíamos', 'habíais', 'habían', 'hube', 'hubiste', 'hubo', 'hubimos', 'hubisteis', 'hubieron', 'hubiera', 'hubieras', 'hubiéramos', 'hubierais', 'hubieran', 'hubiese', 'hubieses', 'hubiésemos', 'hubieseis', 'hubiesen', 'habiendo', 'habido', 'habida', 'habidos', 'habidas', 'soy', 'eres', 'es', 'somos', 'sois', 'son', 'sea', 'seas', 'seamos', 'seáis', 'sean', 'seré', 'serás', 'será', 'seremos', 'seréis', 'serán', 'sería', 'serías', 'seríamos', 'seríais', 'serían', 'era', 'eras', 'éramos', 'erais', 'eran', 'fui', 'fuiste', 'fue', 'fuimos', 'fuisteis', 'fueron', 'fuera', 'fueras', 'fuéramos', 'fuerais', 'fueran', 'fuese', 'fueses', 'fuésemos', 'fueseis', 'fuesen', 'sintiendo', 'sentido', 'sentida', 'sentidos', 'sentidas', 'siente', 'sentid', 'tengo', 'tienes', 'tiene', 'tenemos', 'tenéis', 'tienen', 'tenga', 'tengas', 'tengamos', 'tengáis', 'tengan', 'tendré', 'tendrás', 'tendrá', 'tendremos', 'tendréis', 'tendrán', 'tendría', 'tendrías', 'tendríamos', 'tendríais', 'tendrían', 'tenía', 'tenías', 'teníamos', 'teníais', 'tenían', 'tuve', 'tuviste', 'tuvo', 'tuvimos', 'tuvisteis', 'tuvieron', 'tuviera', 'tuvieras', 'tuviéramos', 'tuvierais', 'tuvieran', 'tuviese', 'tuvieses', 'tuviésemos', 'tuvieseis', 'tuviesen', 'teniendo', 'tenido', 'tenida', 'tenidos', 'tenidas', 'tened']\n"
     ]
    }
   ],
   "source": [
    "print(stopwords.words('spanish'))"
   ]
  },
  {
   "cell_type": "code",
   "execution_count": 67,
   "metadata": {},
   "outputs": [
    {
     "name": "stdout",
     "output_type": "stream",
     "text": [
      "['i', 'me', 'my', 'myself', 'we', 'our', 'ours', 'ourselves', 'you', \"you're\", \"you've\", \"you'll\", \"you'd\", 'your', 'yours', 'yourself', 'yourselves', 'he', 'him', 'his', 'himself', 'she', \"she's\", 'her', 'hers', 'herself', 'it', \"it's\", 'its', 'itself', 'they', 'them', 'their', 'theirs', 'themselves', 'what', 'which', 'who', 'whom', 'this', 'that', \"that'll\", 'these', 'those', 'am', 'is', 'are', 'was', 'were', 'be', 'been', 'being', 'have', 'has', 'had', 'having', 'do', 'does', 'did', 'doing', 'a', 'an', 'the', 'and', 'but', 'if', 'or', 'because', 'as', 'until', 'while', 'of', 'at', 'by', 'for', 'with', 'about', 'against', 'between', 'into', 'through', 'during', 'before', 'after', 'above', 'below', 'to', 'from', 'up', 'down', 'in', 'out', 'on', 'off', 'over', 'under', 'again', 'further', 'then', 'once', 'here', 'there', 'when', 'where', 'why', 'how', 'all', 'any', 'both', 'each', 'few', 'more', 'most', 'other', 'some', 'such', 'no', 'nor', 'not', 'only', 'own', 'same', 'so', 'than', 'too', 'very', 's', 't', 'can', 'will', 'just', 'don', \"don't\", 'should', \"should've\", 'now', 'd', 'll', 'm', 'o', 're', 've', 'y', 'ain', 'aren', \"aren't\", 'couldn', \"couldn't\", 'didn', \"didn't\", 'doesn', \"doesn't\", 'hadn', \"hadn't\", 'hasn', \"hasn't\", 'haven', \"haven't\", 'isn', \"isn't\", 'ma', 'mightn', \"mightn't\", 'mustn', \"mustn't\", 'needn', \"needn't\", 'shan', \"shan't\", 'shouldn', \"shouldn't\", 'wasn', \"wasn't\", 'weren', \"weren't\", 'won', \"won't\", 'wouldn', \"wouldn't\"]\n"
     ]
    }
   ],
   "source": [
    "print(stopwords.words('english'))"
   ]
  },
  {
   "cell_type": "code",
   "execution_count": 68,
   "metadata": {},
   "outputs": [
    {
     "data": {
      "text/plain": [
       "'!\"#$%&\\'()*+,-./:;<=>?@[\\\\]^_`{|}~'"
      ]
     },
     "execution_count": 68,
     "metadata": {},
     "output_type": "execute_result"
    }
   ],
   "source": [
    "from string import punctuation\n",
    "punctuation"
   ]
  },
  {
   "cell_type": "code",
   "execution_count": 69,
   "metadata": {},
   "outputs": [],
   "source": [
    "noise = stopwords.words('russian') + list(punctuation)"
   ]
  },
  {
   "cell_type": "code",
   "execution_count": 70,
   "metadata": {},
   "outputs": [
    {
     "data": {
      "text/plain": [
       "['и',\n",
       " 'в',\n",
       " 'во',\n",
       " 'не',\n",
       " 'что',\n",
       " 'он',\n",
       " 'на',\n",
       " 'я',\n",
       " 'с',\n",
       " 'со',\n",
       " 'как',\n",
       " 'а',\n",
       " 'то',\n",
       " 'все',\n",
       " 'она',\n",
       " 'так',\n",
       " 'его',\n",
       " 'но',\n",
       " 'да',\n",
       " 'ты',\n",
       " 'к',\n",
       " 'у',\n",
       " 'же',\n",
       " 'вы',\n",
       " 'за',\n",
       " 'бы',\n",
       " 'по',\n",
       " 'только',\n",
       " 'ее',\n",
       " 'мне',\n",
       " 'было',\n",
       " 'вот',\n",
       " 'от',\n",
       " 'меня',\n",
       " 'еще',\n",
       " 'нет',\n",
       " 'о',\n",
       " 'из',\n",
       " 'ему',\n",
       " 'теперь',\n",
       " 'когда',\n",
       " 'даже',\n",
       " 'ну',\n",
       " 'вдруг',\n",
       " 'ли',\n",
       " 'если',\n",
       " 'уже',\n",
       " 'или',\n",
       " 'ни',\n",
       " 'быть',\n",
       " 'был',\n",
       " 'него',\n",
       " 'до',\n",
       " 'вас',\n",
       " 'нибудь',\n",
       " 'опять',\n",
       " 'уж',\n",
       " 'вам',\n",
       " 'ведь',\n",
       " 'там',\n",
       " 'потом',\n",
       " 'себя',\n",
       " 'ничего',\n",
       " 'ей',\n",
       " 'может',\n",
       " 'они',\n",
       " 'тут',\n",
       " 'где',\n",
       " 'есть',\n",
       " 'надо',\n",
       " 'ней',\n",
       " 'для',\n",
       " 'мы',\n",
       " 'тебя',\n",
       " 'их',\n",
       " 'чем',\n",
       " 'была',\n",
       " 'сам',\n",
       " 'чтоб',\n",
       " 'без',\n",
       " 'будто',\n",
       " 'чего',\n",
       " 'раз',\n",
       " 'тоже',\n",
       " 'себе',\n",
       " 'под',\n",
       " 'будет',\n",
       " 'ж',\n",
       " 'тогда',\n",
       " 'кто',\n",
       " 'этот',\n",
       " 'того',\n",
       " 'потому',\n",
       " 'этого',\n",
       " 'какой',\n",
       " 'совсем',\n",
       " 'ним',\n",
       " 'здесь',\n",
       " 'этом',\n",
       " 'один',\n",
       " 'почти',\n",
       " 'мой',\n",
       " 'тем',\n",
       " 'чтобы',\n",
       " 'нее',\n",
       " 'сейчас',\n",
       " 'были',\n",
       " 'куда',\n",
       " 'зачем',\n",
       " 'всех',\n",
       " 'никогда',\n",
       " 'можно',\n",
       " 'при',\n",
       " 'наконец',\n",
       " 'два',\n",
       " 'об',\n",
       " 'другой',\n",
       " 'хоть',\n",
       " 'после',\n",
       " 'над',\n",
       " 'больше',\n",
       " 'тот',\n",
       " 'через',\n",
       " 'эти',\n",
       " 'нас',\n",
       " 'про',\n",
       " 'всего',\n",
       " 'них',\n",
       " 'какая',\n",
       " 'много',\n",
       " 'разве',\n",
       " 'три',\n",
       " 'эту',\n",
       " 'моя',\n",
       " 'впрочем',\n",
       " 'хорошо',\n",
       " 'свою',\n",
       " 'этой',\n",
       " 'перед',\n",
       " 'иногда',\n",
       " 'лучше',\n",
       " 'чуть',\n",
       " 'том',\n",
       " 'нельзя',\n",
       " 'такой',\n",
       " 'им',\n",
       " 'более',\n",
       " 'всегда',\n",
       " 'конечно',\n",
       " 'всю',\n",
       " 'между',\n",
       " '!',\n",
       " '\"',\n",
       " '#',\n",
       " '$',\n",
       " '%',\n",
       " '&',\n",
       " \"'\",\n",
       " '(',\n",
       " ')',\n",
       " '*',\n",
       " '+',\n",
       " ',',\n",
       " '-',\n",
       " '.',\n",
       " '/',\n",
       " ':',\n",
       " ';',\n",
       " '<',\n",
       " '=',\n",
       " '>',\n",
       " '?',\n",
       " '@',\n",
       " '[',\n",
       " '\\\\',\n",
       " ']',\n",
       " '^',\n",
       " '_',\n",
       " '`',\n",
       " '{',\n",
       " '|',\n",
       " '}',\n",
       " '~']"
      ]
     },
     "execution_count": 70,
     "metadata": {},
     "output_type": "execute_result"
    }
   ],
   "source": [
    "noise"
   ]
  },
  {
   "cell_type": "markdown",
   "metadata": {},
   "source": [
    "## Лемматизация\n",
    "\n",
    "Лемматизация – это сведение разных форм одного слова к начальной форме – *лемме*. Почему это хорошо?\n",
    "* Во-первых, мы хотим рассматривать как отдельную фичу каждое *слово*, а не каждую его отдельную форму.\n",
    "* Во-вторых, некоторые стоп-слова стоят только в начальной форме, и без лематизации выкидываем мы только её.\n",
    "\n",
    "Для русского есть два хороших лемматизатора: mystem и pymorphy:\n",
    "\n",
    "### [Mystem](https://tech.yandex.ru/mystem/)\n",
    "Как с ним работать:\n",
    "* можно скачать mystem и запускать [из терминала с разными параметрами](https://yandex.ru/dev/mystem/?ysclid=m83e8gkero153283053)\n",
    "* [pymystem3](https://pythonhosted.org/pymystem3/pymystem3.html) - обертка для питона, работает медленнее, но это удобно"
   ]
  },
  {
   "cell_type": "code",
   "execution_count": 71,
   "metadata": {},
   "outputs": [],
   "source": [
    "#!pip install pymystem3"
   ]
  },
  {
   "cell_type": "code",
   "execution_count": 72,
   "metadata": {},
   "outputs": [],
   "source": [
    "from pymystem3 import Mystem\n",
    "mystem_analyzer = Mystem()"
   ]
  },
  {
   "cell_type": "markdown",
   "metadata": {},
   "source": [
    "Мы инициализировали Mystem c дефолтными параметрами. А вообще параметры есть такие:\n",
    "* mystem_bin - путь к `mystem`, если их несколько\n",
    "* grammar_info - нужна ли грамматическая информация или только леммы (по дефолту нужна)\n",
    "* disambiguation - нужно ли снятие омонимии - дизамбигуация (по дефолту нужна)\n",
    "* entire_input - нужно ли сохранять в выводе все (пробелы всякие, например), или можно выкинуть (по дефолту оставляется все)\n",
    "\n",
    "Методы Mystem принимают строку, токенизатор вшит внутри. Можно, конечно, и пословно анализировать, но тогда он не сможет учитывать контекст.\n",
    "\n",
    "Можно просто лемматизировать текст:"
   ]
  },
  {
   "cell_type": "code",
   "execution_count": null,
   "metadata": {},
   "outputs": [],
   "source": [
    "print(mystem_analyzer.lemmatize(example))"
   ]
  },
  {
   "cell_type": "markdown",
   "metadata": {},
   "source": [
    "А можно получить грамматическую информацию:"
   ]
  },
  {
   "cell_type": "code",
   "execution_count": null,
   "metadata": {},
   "outputs": [],
   "source": [
    "mystem_analyzer.analyze(example)"
   ]
  },
  {
   "cell_type": "code",
   "execution_count": 74,
   "metadata": {},
   "outputs": [],
   "source": [
    "import re\n",
    "def my_preproc(text):\n",
    "    text = re.sub('[{}]'.format(punctuation), '', text)\n",
    "    text = mystem_analyzer.lemmatize(text)\n",
    "    return [word for word in text if word not in stopwords.words('russian') + [' ', '\\n']]"
   ]
  },
  {
   "cell_type": "markdown",
   "metadata": {
    "id": "5EgGg0R2bX6H"
   },
   "source": [
    "# Word2Vec\n"
   ]
  },
  {
   "cell_type": "code",
   "execution_count": 75,
   "metadata": {
    "id": "dFE93g29kiZ8"
   },
   "outputs": [],
   "source": [
    "from gensim.test.utils import common_texts #предоставляет инструменты для анализа текстовых данных, включая создание векторных представлений слов, моделирование тем и другие методы обработки текста\n",
    "from gensim.models import Word2Vec"
   ]
  },
  {
   "cell_type": "code",
   "execution_count": 76,
   "metadata": {},
   "outputs": [
    {
     "name": "stdout",
     "output_type": "stream",
     "text": [
      "Help on list object:\n",
      "\n",
      "class list(object)\n",
      " |  list(iterable=(), /)\n",
      " |  \n",
      " |  Built-in mutable sequence.\n",
      " |  \n",
      " |  If no argument is given, the constructor creates a new empty list.\n",
      " |  The argument must be an iterable if specified.\n",
      " |  \n",
      " |  Methods defined here:\n",
      " |  \n",
      " |  __add__(self, value, /)\n",
      " |      Return self+value.\n",
      " |  \n",
      " |  __contains__(self, key, /)\n",
      " |      Return key in self.\n",
      " |  \n",
      " |  __delitem__(self, key, /)\n",
      " |      Delete self[key].\n",
      " |  \n",
      " |  __eq__(self, value, /)\n",
      " |      Return self==value.\n",
      " |  \n",
      " |  __ge__(self, value, /)\n",
      " |      Return self>=value.\n",
      " |  \n",
      " |  __getattribute__(self, name, /)\n",
      " |      Return getattr(self, name).\n",
      " |  \n",
      " |  __getitem__(...)\n",
      " |      x.__getitem__(y) <==> x[y]\n",
      " |  \n",
      " |  __gt__(self, value, /)\n",
      " |      Return self>value.\n",
      " |  \n",
      " |  __iadd__(self, value, /)\n",
      " |      Implement self+=value.\n",
      " |  \n",
      " |  __imul__(self, value, /)\n",
      " |      Implement self*=value.\n",
      " |  \n",
      " |  __init__(self, /, *args, **kwargs)\n",
      " |      Initialize self.  See help(type(self)) for accurate signature.\n",
      " |  \n",
      " |  __iter__(self, /)\n",
      " |      Implement iter(self).\n",
      " |  \n",
      " |  __le__(self, value, /)\n",
      " |      Return self<=value.\n",
      " |  \n",
      " |  __len__(self, /)\n",
      " |      Return len(self).\n",
      " |  \n",
      " |  __lt__(self, value, /)\n",
      " |      Return self<value.\n",
      " |  \n",
      " |  __mul__(self, value, /)\n",
      " |      Return self*value.\n",
      " |  \n",
      " |  __ne__(self, value, /)\n",
      " |      Return self!=value.\n",
      " |  \n",
      " |  __repr__(self, /)\n",
      " |      Return repr(self).\n",
      " |  \n",
      " |  __reversed__(self, /)\n",
      " |      Return a reverse iterator over the list.\n",
      " |  \n",
      " |  __rmul__(self, value, /)\n",
      " |      Return value*self.\n",
      " |  \n",
      " |  __setitem__(self, key, value, /)\n",
      " |      Set self[key] to value.\n",
      " |  \n",
      " |  __sizeof__(self, /)\n",
      " |      Return the size of the list in memory, in bytes.\n",
      " |  \n",
      " |  append(self, object, /)\n",
      " |      Append object to the end of the list.\n",
      " |  \n",
      " |  clear(self, /)\n",
      " |      Remove all items from list.\n",
      " |  \n",
      " |  copy(self, /)\n",
      " |      Return a shallow copy of the list.\n",
      " |  \n",
      " |  count(self, value, /)\n",
      " |      Return number of occurrences of value.\n",
      " |  \n",
      " |  extend(self, iterable, /)\n",
      " |      Extend list by appending elements from the iterable.\n",
      " |  \n",
      " |  index(self, value, start=0, stop=9223372036854775807, /)\n",
      " |      Return first index of value.\n",
      " |      \n",
      " |      Raises ValueError if the value is not present.\n",
      " |  \n",
      " |  insert(self, index, object, /)\n",
      " |      Insert object before index.\n",
      " |  \n",
      " |  pop(self, index=-1, /)\n",
      " |      Remove and return item at index (default last).\n",
      " |      \n",
      " |      Raises IndexError if list is empty or index is out of range.\n",
      " |  \n",
      " |  remove(self, value, /)\n",
      " |      Remove first occurrence of value.\n",
      " |      \n",
      " |      Raises ValueError if the value is not present.\n",
      " |  \n",
      " |  reverse(self, /)\n",
      " |      Reverse *IN PLACE*.\n",
      " |  \n",
      " |  sort(self, /, *, key=None, reverse=False)\n",
      " |      Sort the list in ascending order and return None.\n",
      " |      \n",
      " |      The sort is in-place (i.e. the list itself is modified) and stable (i.e. the\n",
      " |      order of two equal elements is maintained).\n",
      " |      \n",
      " |      If a key function is given, apply it once to each list item and sort them,\n",
      " |      ascending or descending, according to their function values.\n",
      " |      \n",
      " |      The reverse flag can be set to sort in descending order.\n",
      " |  \n",
      " |  ----------------------------------------------------------------------\n",
      " |  Class methods defined here:\n",
      " |  \n",
      " |  __class_getitem__(...) from builtins.type\n",
      " |      See PEP 585\n",
      " |  \n",
      " |  ----------------------------------------------------------------------\n",
      " |  Static methods defined here:\n",
      " |  \n",
      " |  __new__(*args, **kwargs) from builtins.type\n",
      " |      Create and return a new object.  See help(type) for accurate signature.\n",
      " |  \n",
      " |  ----------------------------------------------------------------------\n",
      " |  Data and other attributes defined here:\n",
      " |  \n",
      " |  __hash__ = None\n",
      "\n"
     ]
    }
   ],
   "source": [
    "help(common_texts)"
   ]
  },
  {
   "cell_type": "code",
   "execution_count": 77,
   "metadata": {
    "colab": {
     "base_uri": "https://localhost:8080/"
    },
    "id": "vQw25TENle8k",
    "outputId": "15c02d9d-e8a8-4b28-cbb8-f3093d082f5b"
   },
   "outputs": [
    {
     "data": {
      "text/plain": [
       "[['human', 'interface', 'computer'],\n",
       " ['survey', 'user', 'computer', 'system', 'response', 'time'],\n",
       " ['eps', 'user', 'interface', 'system'],\n",
       " ['system', 'human', 'system', 'eps'],\n",
       " ['user', 'response', 'time'],\n",
       " ['trees'],\n",
       " ['graph', 'trees'],\n",
       " ['graph', 'minors', 'trees'],\n",
       " ['graph', 'minors', 'survey']]"
      ]
     },
     "execution_count": 77,
     "metadata": {},
     "output_type": "execute_result"
    }
   ],
   "source": [
    "common_texts"
   ]
  },
  {
   "cell_type": "code",
   "execution_count": 78,
   "metadata": {
    "id": "VZcXBPKZ2b_e"
   },
   "outputs": [],
   "source": [
    "skipgram = 1 # Этот параметр указывает, что мы хотим использовать модель Skip-gram для обучения векторных представлений слов. Если бы это значение было 0, использовалась бы модель Continuous Bag of Words (CBOW).\n",
    "negative_sampling = 5 #Этот параметр задает количество отрицательных примеров, которые будут использоваться для обучения модели. В данном случае для каждого положительного примера будет 5 отрицательных.\n",
    "w2v_model = Word2Vec(sentences = common_texts, #Модель будет обучена на наборе данных common_texts, который мы импортировали ранее из библиотеки Gensim\n",
    "                     vector_size = 100, #Указывает размерность векторных представлений слов. В данном случае каждое слово будет представлено вектором размером 100\n",
    "                     window = 5, #Определяет размер окна контекста. Это означает, что при обучении модели будут учитываться 5 слов слева и 5 слов справа от целевого слова\n",
    "                     min_count = 1, #Этот параметр указывает, что слова, встречающиеся реже 1 раза, будут игнорироваться. В данном случае все слова будут включены в модель, так как минимальная частота равна 1\n",
    "                     workers = 4, #Определяет количество потоков, которые будут использоваться для обучения модели. В данном случае модель будет использовать 4 потока для ускорения процесса обучения\n",
    "                     sg = skipgram, #Указывает, какую модель использовать для обучения. Если skipgram равно 1, будет использоваться модель Skip-gram, если 0 — модель CBOW.\n",
    "                     negative = negative_sampling) #Указывает количество отрицательных выборок для каждого положительного примера\n",
    "\n",
    "w2v_model.save(\"word2vec.model\") #Этот метод сохраняет обученную модель в файл с именем \"word2vec.model\". Это позволяет впоследствии загрузить модель и использовать её без повторного обучения"
   ]
  },
  {
   "cell_type": "code",
   "execution_count": 79,
   "metadata": {
    "colab": {
     "base_uri": "https://localhost:8080/"
    },
    "id": "fHct_uASwkWf",
    "outputId": "e3c89dab-f234-44c0-aebc-75c5c5b95439"
   },
   "outputs": [
    {
     "data": {
      "text/plain": [
       "array([-0.00515774, -0.00667028, -0.0077791 ,  0.00831315, -0.00198292,\n",
       "       -0.00685696, -0.0041556 ,  0.00514562, -0.00286997, -0.00375075,\n",
       "        0.0016219 , -0.0027771 , -0.00158482,  0.0010748 , -0.00297881,\n",
       "        0.00852176,  0.00391207, -0.00996176,  0.00626142, -0.00675622,\n",
       "        0.00076966,  0.00440552, -0.00510486, -0.00211128,  0.00809783,\n",
       "       -0.00424503, -0.00763848,  0.00926061, -0.00215612, -0.00472081,\n",
       "        0.00857329,  0.00428459,  0.0043261 ,  0.00928722, -0.00845554,\n",
       "        0.00525685,  0.00203994,  0.0041895 ,  0.00169839,  0.00446543,\n",
       "        0.0044876 ,  0.0061063 , -0.00320303, -0.00457706, -0.00042664,\n",
       "        0.00253447, -0.00326412,  0.00605948,  0.00415534,  0.00776685,\n",
       "        0.00257002,  0.00811905, -0.00138761,  0.00808028,  0.0037181 ,\n",
       "       -0.00804967, -0.00393476, -0.0024726 ,  0.00489447, -0.00087241,\n",
       "       -0.00283173,  0.00783599,  0.00932561, -0.0016154 , -0.00516075,\n",
       "       -0.00470313, -0.00484746, -0.00960562,  0.00137242, -0.00422615,\n",
       "        0.00252744,  0.00561612, -0.00406709, -0.00959937,  0.00154715,\n",
       "       -0.00670207,  0.0024959 , -0.00378173,  0.00708048,  0.00064041,\n",
       "        0.00356198, -0.00273993, -0.00171105,  0.00765502,  0.00140809,\n",
       "       -0.00585215, -0.00783678,  0.00123305,  0.00645651,  0.00555797,\n",
       "       -0.00897966,  0.00859466,  0.00404816,  0.00747178,  0.00974917,\n",
       "       -0.0072917 , -0.00904259,  0.0058377 ,  0.00939395,  0.00350795],\n",
       "      dtype=float32)"
      ]
     },
     "execution_count": 79,
     "metadata": {},
     "output_type": "execute_result"
    }
   ],
   "source": [
    "vector = w2v_model.wv['computer']  # Здесь мы используем модель w2v_model, чтобы получить вектор, представляющий слово \"computer\".\n",
    "vector"
   ]
  },
  {
   "cell_type": "code",
   "execution_count": 80,
   "metadata": {},
   "outputs": [
    {
     "data": {
      "text/plain": [
       "(100,)"
      ]
     },
     "execution_count": 80,
     "metadata": {},
     "output_type": "execute_result"
    }
   ],
   "source": [
    "vector.shape"
   ]
  },
  {
   "cell_type": "code",
   "execution_count": 82,
   "metadata": {},
   "outputs": [
    {
     "data": {
      "text/plain": [
       "array([ 9.7702928e-03,  8.1651136e-03,  1.2809718e-03,  5.0975787e-03,\n",
       "        1.4081288e-03, -6.4551616e-03, -1.4280510e-03,  6.4491653e-03,\n",
       "       -4.6173059e-03, -3.9930656e-03,  4.9244044e-03,  2.7130984e-03,\n",
       "       -1.8479753e-03, -2.8769434e-03,  6.0107317e-03, -5.7167388e-03,\n",
       "       -3.2367026e-03, -6.4878250e-03, -4.2346325e-03, -8.5809948e-03,\n",
       "       -4.4697891e-03, -8.5112294e-03,  1.4037776e-03, -8.6181965e-03,\n",
       "       -9.9166557e-03, -8.2016252e-03, -6.7726658e-03,  6.6805850e-03,\n",
       "        3.7845564e-03,  3.5616636e-04, -2.9579818e-03, -7.4283206e-03,\n",
       "        5.3341867e-04,  4.9989222e-04,  1.9561886e-04,  8.5259555e-04,\n",
       "        7.8633073e-04, -6.8160298e-05, -8.0070542e-03, -5.8702733e-03,\n",
       "       -8.3829118e-03, -1.3120425e-03,  1.8206370e-03,  7.4171280e-03,\n",
       "       -1.9634271e-03, -2.3252917e-03,  9.4871549e-03,  7.9704521e-05,\n",
       "       -2.4045217e-03,  8.6048469e-03,  2.6870037e-03, -5.3439722e-03,\n",
       "        6.5881060e-03,  4.5101536e-03, -7.0544672e-03, -3.2317400e-04,\n",
       "        8.3448651e-04,  5.7473574e-03, -1.7176545e-03, -2.8065301e-03,\n",
       "        1.7484308e-03,  8.4717153e-04,  1.1928272e-03, -2.6342822e-03,\n",
       "       -5.9857843e-03,  7.3229838e-03,  7.5873756e-03,  8.2963575e-03,\n",
       "       -8.5988473e-03,  2.6364254e-03, -3.5599626e-03,  9.6204039e-03,\n",
       "        2.9037679e-03,  4.6411133e-03,  2.3856151e-03,  6.6084778e-03,\n",
       "       -5.7432903e-03,  7.8944126e-03, -2.4109220e-03, -4.5618857e-03,\n",
       "       -2.0609903e-03,  9.7335577e-03, -6.8565905e-03, -2.1917201e-03,\n",
       "        7.0009995e-03, -5.5749417e-05, -6.2949671e-03, -6.3935257e-03,\n",
       "        8.9403950e-03,  6.4295758e-03,  4.7735930e-03, -3.2620477e-03,\n",
       "       -9.2676198e-03,  3.7868882e-03,  7.1605504e-03, -5.6328895e-03,\n",
       "       -7.8650126e-03, -2.9727400e-03, -4.9318983e-03, -2.3151112e-03],\n",
       "      dtype=float32)"
      ]
     },
     "execution_count": 82,
     "metadata": {},
     "output_type": "execute_result"
    }
   ],
   "source": [
    "w2v_model.wv['human']"
   ]
  },
  {
   "cell_type": "code",
   "execution_count": 83,
   "metadata": {},
   "outputs": [
    {
     "data": {
      "text/plain": [
       "[('system', 0.21617141366004944),\n",
       " ('survey', 0.04468922317028046),\n",
       " ('interface', 0.015203384682536125),\n",
       " ('time', 0.0019510771380737424),\n",
       " ('trees', -0.03284314274787903),\n",
       " ('human', -0.07424270361661911),\n",
       " ('response', -0.09324456751346588),\n",
       " ('graph', -0.09575342386960983),\n",
       " ('eps', -0.10513808578252792),\n",
       " ('user', -0.1690933257341385)]"
      ]
     },
     "execution_count": 83,
     "metadata": {},
     "output_type": "execute_result"
    }
   ],
   "source": [
    "sims = w2v_model.wv.most_similar('computer', topn = 10)  # Метод most_similar возвращает список кортежей, каждый из которых содержит слово и его схожесть (или косинусное расстояние) с заданным словом. Параметр topn=10 указывает, что мы хотим получить 10 наиболее похожих слов\n",
    "sims"
   ]
  },
  {
   "cell_type": "code",
   "execution_count": 84,
   "metadata": {
    "colab": {
     "base_uri": "https://localhost:8080/"
    },
    "id": "bXR4k1bFw9aE",
    "outputId": "802e1568-33fa-4fd8-fb97-4bbe934b688b"
   },
   "outputs": [
    {
     "data": {
      "text/plain": [
       "<gensim.models.word2vec.Word2Vec at 0x2a2e65850>"
      ]
     },
     "execution_count": 84,
     "metadata": {},
     "output_type": "execute_result"
    }
   ],
   "source": [
    "w2v_model"
   ]
  },
  {
   "cell_type": "code",
   "execution_count": 85,
   "metadata": {
    "colab": {
     "base_uri": "https://localhost:8080/"
    },
    "id": "8vdixtLyHdUE",
    "outputId": "81b3a093-c5b0-4bae-d74f-38080c3a70ea"
   },
   "outputs": [
    {
     "data": {
      "text/plain": [
       "(100,)"
      ]
     },
     "execution_count": 85,
     "metadata": {},
     "output_type": "execute_result"
    }
   ],
   "source": [
    "w2v_model.wv['human'].shape #используется для получения формы (размерности) вектора, представляющего слово \"human\" в модели Word2Vec"
   ]
  },
  {
   "cell_type": "code",
   "execution_count": 86,
   "metadata": {},
   "outputs": [
    {
     "data": {
      "text/plain": [
       "array([ 9.7702928e-03,  8.1651136e-03,  1.2809718e-03,  5.0975787e-03,\n",
       "        1.4081288e-03, -6.4551616e-03, -1.4280510e-03,  6.4491653e-03,\n",
       "       -4.6173059e-03, -3.9930656e-03,  4.9244044e-03,  2.7130984e-03,\n",
       "       -1.8479753e-03, -2.8769434e-03,  6.0107317e-03, -5.7167388e-03,\n",
       "       -3.2367026e-03, -6.4878250e-03, -4.2346325e-03, -8.5809948e-03,\n",
       "       -4.4697891e-03, -8.5112294e-03,  1.4037776e-03, -8.6181965e-03,\n",
       "       -9.9166557e-03, -8.2016252e-03, -6.7726658e-03,  6.6805850e-03,\n",
       "        3.7845564e-03,  3.5616636e-04, -2.9579818e-03, -7.4283206e-03,\n",
       "        5.3341867e-04,  4.9989222e-04,  1.9561886e-04,  8.5259555e-04,\n",
       "        7.8633073e-04, -6.8160298e-05, -8.0070542e-03, -5.8702733e-03,\n",
       "       -8.3829118e-03, -1.3120425e-03,  1.8206370e-03,  7.4171280e-03,\n",
       "       -1.9634271e-03, -2.3252917e-03,  9.4871549e-03,  7.9704521e-05,\n",
       "       -2.4045217e-03,  8.6048469e-03,  2.6870037e-03, -5.3439722e-03,\n",
       "        6.5881060e-03,  4.5101536e-03, -7.0544672e-03, -3.2317400e-04,\n",
       "        8.3448651e-04,  5.7473574e-03, -1.7176545e-03, -2.8065301e-03,\n",
       "        1.7484308e-03,  8.4717153e-04,  1.1928272e-03, -2.6342822e-03,\n",
       "       -5.9857843e-03,  7.3229838e-03,  7.5873756e-03,  8.2963575e-03,\n",
       "       -8.5988473e-03,  2.6364254e-03, -3.5599626e-03,  9.6204039e-03,\n",
       "        2.9037679e-03,  4.6411133e-03,  2.3856151e-03,  6.6084778e-03,\n",
       "       -5.7432903e-03,  7.8944126e-03, -2.4109220e-03, -4.5618857e-03,\n",
       "       -2.0609903e-03,  9.7335577e-03, -6.8565905e-03, -2.1917201e-03,\n",
       "        7.0009995e-03, -5.5749417e-05, -6.2949671e-03, -6.3935257e-03,\n",
       "        8.9403950e-03,  6.4295758e-03,  4.7735930e-03, -3.2620477e-03,\n",
       "       -9.2676198e-03,  3.7868882e-03,  7.1605504e-03, -5.6328895e-03,\n",
       "       -7.8650126e-03, -2.9727400e-03, -4.9318983e-03, -2.3151112e-03],\n",
       "      dtype=float32)"
      ]
     },
     "execution_count": 86,
     "metadata": {},
     "output_type": "execute_result"
    }
   ],
   "source": [
    "w2v_model.wv['human']"
   ]
  },
  {
   "cell_type": "code",
   "execution_count": 87,
   "metadata": {
    "colab": {
     "base_uri": "https://localhost:8080/"
    },
    "id": "iRFiOVuUEgz6",
    "outputId": "f65ff833-af85-4a4a-ab45-33c592e45a9f"
   },
   "outputs": [
    {
     "name": "stdout",
     "output_type": "stream",
     "text": [
      "[('response', 0.17535406351089478)]\n"
     ]
    }
   ],
   "source": [
    "result = w2v_model.wv.most_similar(positive = ['human', 'system'], negative = ['computer'], topn = 1) \n",
    "\n",
    "'''\n",
    "используется метод most_similar для получения слов, \n",
    "которые наиболее похожи на комбинацию слов \"human\" и \"system\", \n",
    "при этом исключая слово \"computer\".\n",
    "\n",
    "positive=['human', 'system']: Это список слов, которые мы хотим учесть при поиске схожих слов. В данном случае мы ищем слова, которые похожи на оба слова \"human\" и \"system\".\n",
    "negative=['computer']: Это слово, которое мы хотим исключить из результатов. То есть, \n",
    "мы ищем слова, которые похожи на \"human\" и \"system\", но не похожи на \"computer\".\n",
    "topn = 1: Указывает, что мы хотим получить только одно слово, наиболее похожее на заданную комбинацию.\n",
    "'''\n",
    "\n",
    "print(result)"
   ]
  },
  {
   "cell_type": "code",
   "execution_count": 88,
   "metadata": {},
   "outputs": [
    {
     "data": {
      "text/plain": [
       "[('response', 0.17535406351089478),\n",
       " ('eps', 0.125144824385643),\n",
       " ('interface', 0.09263758361339569),\n",
       " ('trees', 0.09036029130220413),\n",
       " ('minors', 0.08231795579195023)]"
      ]
     },
     "execution_count": 88,
     "metadata": {},
     "output_type": "execute_result"
    }
   ],
   "source": [
    "w2v_model.wv.most_similar(positive = ['human', 'system'], negative = ['computer'], topn = 5)"
   ]
  },
  {
   "cell_type": "code",
   "execution_count": 89,
   "metadata": {},
   "outputs": [
    {
     "name": "stdout",
     "output_type": "stream",
     "text": [
      "[('interface', 0.16055169701576233)]\n"
     ]
    }
   ],
   "source": [
    "result = w2v_model.wv.most_similar(positive = ['human', 'system'], negative = ['trees'], topn = 1) \n",
    "print(result)"
   ]
  },
  {
   "cell_type": "code",
   "execution_count": 90,
   "metadata": {},
   "outputs": [
    {
     "data": {
      "text/plain": [
       "[('minors', 0.1889941543340683),\n",
       " ('response', 0.11202939599752426),\n",
       " ('time', 0.10834681987762451),\n",
       " ('human', 0.10668007284402847),\n",
       " ('eps', 0.00276385061442852)]"
      ]
     },
     "execution_count": 90,
     "metadata": {},
     "output_type": "execute_result"
    }
   ],
   "source": [
    "w2v_model.wv.most_similar(positive = ['trees'], negative = ['survey'], topn = 5)"
   ]
  },
  {
   "cell_type": "markdown",
   "metadata": {
    "id": "2gGbNwLuEiN6"
   },
   "source": [
    "### Предобученные эмбеддинги"
   ]
  },
  {
   "cell_type": "code",
   "execution_count": null,
   "metadata": {
    "colab": {
     "base_uri": "https://localhost:8080/"
    },
    "id": "AjzooJYsDfXT",
    "outputId": "a9a3649e-55f0-495c-9bb9-2fc3f7fe2bfe"
   },
   "outputs": [],
   "source": [
    "#!wget http://nlp.stanford.edu/data/glove.6B.zip"
   ]
  },
  {
   "cell_type": "code",
   "execution_count": null,
   "metadata": {
    "colab": {
     "base_uri": "https://localhost:8080/"
    },
    "id": "k0PAWJ07DhE4",
    "outputId": "a68b199e-8e23-4f9c-98cd-03a0dbc85ab5"
   },
   "outputs": [],
   "source": [
    "#!unzip glove.6B.zip"
   ]
  },
  {
   "cell_type": "code",
   "execution_count": 91,
   "metadata": {
    "colab": {
     "base_uri": "https://localhost:8080/"
    },
    "id": "ktwlibr0EXst",
    "outputId": "96b5b289-43e3-4743-d0ba-5cac317523a4"
   },
   "outputs": [
    {
     "name": "stderr",
     "output_type": "stream",
     "text": [
      "/var/folders/7t/_ywngh7s4vzflssy506tj1m40000gn/T/ipykernel_74801/1259735528.py:2: DeprecationWarning: Call to deprecated `glove2word2vec` (KeyedVectors.load_word2vec_format(.., binary=False, no_header=True) loads GLoVE text vectors.).\n",
      "  glove2word2vec('glove.6B.100d.txt', 'glove.6B.100d.txt.word2vec') #для преобразования модели GloVe (Global Vectors for Word Representation) в формат, совместимый с библиотекой Gensim, который позволяет загружать и использовать векторные представления слов.\n"
     ]
    },
    {
     "data": {
      "text/plain": [
       "(400000, 100)"
      ]
     },
     "execution_count": 91,
     "metadata": {},
     "output_type": "execute_result"
    }
   ],
   "source": [
    "from gensim.scripts.glove2word2vec import glove2word2vec\n",
    "glove2word2vec('glove.6B.100d.txt', 'glove.6B.100d.txt.word2vec') #для преобразования модели GloVe (Global Vectors for Word Representation) в формат, совместимый с библиотекой Gensim, который позволяет загружать и использовать векторные представления слов. "
   ]
  },
  {
   "cell_type": "code",
   "execution_count": 92,
   "metadata": {
    "colab": {
     "base_uri": "https://localhost:8080/"
    },
    "id": "-gkHSCnz5cY5",
    "outputId": "3efd988a-f812-4ca8-cbb8-4e08b2897053"
   },
   "outputs": [
    {
     "name": "stdout",
     "output_type": "stream",
     "text": [
      "[('queen', 0.7698541283607483)]\n"
     ]
    }
   ],
   "source": [
    "from gensim.models import KeyedVectors\n",
    "# load the Stanford GloVe model\n",
    "filename = 'glove.6B.100d.txt.word2vec' #путь к файлу, в котором сохранены векторные представления слов в формате Word2Vec.\n",
    "glove_model = KeyedVectors.load_word2vec_format(filename, binary = False) #Загружает модель из указанного файла. Параметр binary=False указывает, что файл не в двоичном формате, а в текстовом.\n",
    "# calculate: (king - man) + woman = ?\n",
    "result = glove_model.most_similar(positive = ['woman', 'king'], negative = ['man'], topn = 1)\n",
    "\n",
    "'''\n",
    "Вычисляем вектор, который получается из выражения (king−man)+woman.\n",
    "positive=['woman', 'king']: Это список слов, которые мы хотим учесть при вычислении. Мы ищем слова, которые семантически похожи на \"woman\" и \"king\".\n",
    "negative=['man']: Это слово, которое мы хотим исключить из результата. Мы ищем слова, которые похожи на \"king\" и \"woman\", но не похожи на \"man\".\n",
    "topn=1: Указывает, что мы хотим получить только одно слово, наиболее похожее на результат.\n",
    "'''\n",
    "\n",
    "print(result)"
   ]
  },
  {
   "cell_type": "code",
   "execution_count": 93,
   "metadata": {},
   "outputs": [
    {
     "data": {
      "text/plain": [
       "[('queen', 0.7698541283607483)]"
      ]
     },
     "execution_count": 93,
     "metadata": {},
     "output_type": "execute_result"
    }
   ],
   "source": [
    "glove_model.most_similar(positive = ['woman', 'king'], negative = ['man'], topn = 1)"
   ]
  },
  {
   "cell_type": "code",
   "execution_count": 94,
   "metadata": {},
   "outputs": [
    {
     "data": {
      "text/plain": [
       "[('motorcycle', 0.8456250429153442)]"
      ]
     },
     "execution_count": 94,
     "metadata": {},
     "output_type": "execute_result"
    }
   ],
   "source": [
    "glove_model.most_similar(positive = ['car', 'bicycle'], topn = 1)"
   ]
  },
  {
   "cell_type": "code",
   "execution_count": 95,
   "metadata": {},
   "outputs": [
    {
     "data": {
      "text/plain": [
       "[('bus', 0.7515897154808044)]"
      ]
     },
     "execution_count": 95,
     "metadata": {},
     "output_type": "execute_result"
    }
   ],
   "source": [
    "glove_model.most_similar(positive = ['car', 'bicycle'], negative = ['motorcycle'], topn = 1)"
   ]
  },
  {
   "cell_type": "code",
   "execution_count": 96,
   "metadata": {},
   "outputs": [
    {
     "data": {
      "text/plain": [
       "[('mother', 0.7773604989051819)]"
      ]
     },
     "execution_count": 96,
     "metadata": {},
     "output_type": "execute_result"
    }
   ],
   "source": [
    "glove_model.most_similar(positive = ['woman', 'king'], \n",
    "                         negative = ['crown'], topn = 1)"
   ]
  },
  {
   "cell_type": "code",
   "execution_count": 97,
   "metadata": {},
   "outputs": [
    {
     "data": {
      "text/plain": [
       "[('girl', 0.7711177468299866)]"
      ]
     },
     "execution_count": 97,
     "metadata": {},
     "output_type": "execute_result"
    }
   ],
   "source": [
    "glove_model.most_similar(positive = ['woman', 'cat'], \n",
    "                         negative = ['animal'], topn = 1)"
   ]
  },
  {
   "cell_type": "code",
   "execution_count": 98,
   "metadata": {},
   "outputs": [
    {
     "data": {
      "text/plain": [
       "[('puppy', 0.6911072731018066)]"
      ]
     },
     "execution_count": 98,
     "metadata": {},
     "output_type": "execute_result"
    }
   ],
   "source": [
    "glove_model.most_similar(positive = ['dog', 'cat'], \n",
    "                         negative = ['animal'], topn = 1)"
   ]
  },
  {
   "cell_type": "code",
   "execution_count": 99,
   "metadata": {},
   "outputs": [
    {
     "data": {
      "text/plain": [
       "[('bushes', 0.6633507013320923)]"
      ]
     },
     "execution_count": 99,
     "metadata": {},
     "output_type": "execute_result"
    }
   ],
   "source": [
    "glove_model.most_similar(positive = ['house', 'trees'], \n",
    "                         negative = ['human'], topn = 1)"
   ]
  },
  {
   "cell_type": "code",
   "execution_count": 100,
   "metadata": {},
   "outputs": [
    {
     "data": {
      "text/plain": [
       "[('outcropping', 0.5520431399345398)]"
      ]
     },
     "execution_count": 100,
     "metadata": {},
     "output_type": "execute_result"
    }
   ],
   "source": [
    "glove_model.most_similar(positive = ['rock'], \n",
    "                         negative = ['music'], topn = 1)"
   ]
  },
  {
   "cell_type": "code",
   "execution_count": 103,
   "metadata": {},
   "outputs": [
    {
     "data": {
      "text/plain": [
       "[('band', 0.8304225206375122)]"
      ]
     },
     "execution_count": 103,
     "metadata": {},
     "output_type": "execute_result"
    }
   ],
   "source": [
    "glove_model.most_similar(positive = ['rock', 'guitar'], topn = 1)"
   ]
  },
  {
   "cell_type": "code",
   "execution_count": 104,
   "metadata": {},
   "outputs": [
    {
     "data": {
      "text/plain": [
       "[('guitars', 0.5721947550773621)]"
      ]
     },
     "execution_count": 104,
     "metadata": {},
     "output_type": "execute_result"
    }
   ],
   "source": [
    "glove_model.most_similar(positive = ['rock', 'guitar'], \n",
    "                         negative = ['music', 'woman'], topn = 1)"
   ]
  },
  {
   "cell_type": "code",
   "execution_count": 105,
   "metadata": {},
   "outputs": [
    {
     "data": {
      "text/plain": [
       "[('man', 0.7345726490020752)]"
      ]
     },
     "execution_count": 105,
     "metadata": {},
     "output_type": "execute_result"
    }
   ],
   "source": [
    "glove_model.most_similar(positive = ['rock', 'guitar', 'woman'], \n",
    "                         negative = ['music'], topn = 1)"
   ]
  },
  {
   "cell_type": "markdown",
   "metadata": {
    "id": "_0A31kUdbX3h"
   },
   "source": [
    "# [FastText](https://github.com/facebookresearch/fastText)\n",
    "\n",
    "[supervised-tutorial](https://fasttext.cc/docs/en/supervised-tutorial.html)\n",
    "\n",
    "[unsupervised-tutorial](https://fasttext.cc/docs/en/unsupervised-tutorial.html)\n",
    "\n",
    "[help](https://fasttext.cc/docs/en/python-module.html)\n",
    "\n",
    "[python reimplementation](http://christopher5106.github.io/deep/learning/2020/04/02/fasttext_pretrained_embeddings_subword_word_representations.html)\n",
    "\n",
    "```\n",
    "word_emb = word_emb + sum( subword_embeddings )\n",
    "```"
   ]
  },
  {
   "cell_type": "code",
   "execution_count": 113,
   "metadata": {
    "colab": {
     "base_uri": "https://localhost:8080/",
     "height": 313
    },
    "id": "nkkAwYnw5dh6",
    "outputId": "641933dd-6ecb-4997-9477-4faab6935219"
   },
   "outputs": [
    {
     "ename": "KeyError",
     "evalue": "\"Key 'abracadabra' not present\"",
     "output_type": "error",
     "traceback": [
      "\u001b[0;31m---------------------------------------------------------------------------\u001b[0m",
      "\u001b[0;31mKeyError\u001b[0m                                  Traceback (most recent call last)",
      "Cell \u001b[0;32mIn[113], line 2\u001b[0m\n\u001b[1;32m      1\u001b[0m \u001b[38;5;66;03m#Проверим OOV\u001b[39;00m\n\u001b[0;32m----> 2\u001b[0m \u001b[43mw2v_model\u001b[49m\u001b[38;5;241;43m.\u001b[39;49m\u001b[43mwv\u001b[49m\u001b[43m[\u001b[49m\u001b[38;5;124;43m'\u001b[39;49m\u001b[38;5;124;43mabracadabra\u001b[39;49m\u001b[38;5;124;43m'\u001b[39;49m\u001b[43m]\u001b[49m\n",
      "File \u001b[0;32m/Library/Frameworks/Python.framework/Versions/3.11/lib/python3.11/site-packages/gensim/models/keyedvectors.py:403\u001b[0m, in \u001b[0;36mKeyedVectors.__getitem__\u001b[0;34m(self, key_or_keys)\u001b[0m\n\u001b[1;32m    389\u001b[0m \u001b[38;5;250m\u001b[39m\u001b[38;5;124;03m\"\"\"Get vector representation of `key_or_keys`.\u001b[39;00m\n\u001b[1;32m    390\u001b[0m \n\u001b[1;32m    391\u001b[0m \u001b[38;5;124;03mParameters\u001b[39;00m\n\u001b[0;32m   (...)\u001b[0m\n\u001b[1;32m    400\u001b[0m \n\u001b[1;32m    401\u001b[0m \u001b[38;5;124;03m\"\"\"\u001b[39;00m\n\u001b[1;32m    402\u001b[0m \u001b[38;5;28;01mif\u001b[39;00m \u001b[38;5;28misinstance\u001b[39m(key_or_keys, _KEY_TYPES):\n\u001b[0;32m--> 403\u001b[0m     \u001b[38;5;28;01mreturn\u001b[39;00m \u001b[38;5;28;43mself\u001b[39;49m\u001b[38;5;241;43m.\u001b[39;49m\u001b[43mget_vector\u001b[49m\u001b[43m(\u001b[49m\u001b[43mkey_or_keys\u001b[49m\u001b[43m)\u001b[49m\n\u001b[1;32m    405\u001b[0m \u001b[38;5;28;01mreturn\u001b[39;00m vstack([\u001b[38;5;28mself\u001b[39m\u001b[38;5;241m.\u001b[39mget_vector(key) \u001b[38;5;28;01mfor\u001b[39;00m key \u001b[38;5;129;01min\u001b[39;00m key_or_keys])\n",
      "File \u001b[0;32m/Library/Frameworks/Python.framework/Versions/3.11/lib/python3.11/site-packages/gensim/models/keyedvectors.py:446\u001b[0m, in \u001b[0;36mKeyedVectors.get_vector\u001b[0;34m(self, key, norm)\u001b[0m\n\u001b[1;32m    422\u001b[0m \u001b[38;5;28;01mdef\u001b[39;00m \u001b[38;5;21mget_vector\u001b[39m(\u001b[38;5;28mself\u001b[39m, key, norm\u001b[38;5;241m=\u001b[39m\u001b[38;5;28;01mFalse\u001b[39;00m):\n\u001b[1;32m    423\u001b[0m \u001b[38;5;250m    \u001b[39m\u001b[38;5;124;03m\"\"\"Get the key's vector, as a 1D numpy array.\u001b[39;00m\n\u001b[1;32m    424\u001b[0m \n\u001b[1;32m    425\u001b[0m \u001b[38;5;124;03m    Parameters\u001b[39;00m\n\u001b[0;32m   (...)\u001b[0m\n\u001b[1;32m    444\u001b[0m \n\u001b[1;32m    445\u001b[0m \u001b[38;5;124;03m    \"\"\"\u001b[39;00m\n\u001b[0;32m--> 446\u001b[0m     index \u001b[38;5;241m=\u001b[39m \u001b[38;5;28;43mself\u001b[39;49m\u001b[38;5;241;43m.\u001b[39;49m\u001b[43mget_index\u001b[49m\u001b[43m(\u001b[49m\u001b[43mkey\u001b[49m\u001b[43m)\u001b[49m\n\u001b[1;32m    447\u001b[0m     \u001b[38;5;28;01mif\u001b[39;00m norm:\n\u001b[1;32m    448\u001b[0m         \u001b[38;5;28mself\u001b[39m\u001b[38;5;241m.\u001b[39mfill_norms()\n",
      "File \u001b[0;32m/Library/Frameworks/Python.framework/Versions/3.11/lib/python3.11/site-packages/gensim/models/keyedvectors.py:420\u001b[0m, in \u001b[0;36mKeyedVectors.get_index\u001b[0;34m(self, key, default)\u001b[0m\n\u001b[1;32m    418\u001b[0m     \u001b[38;5;28;01mreturn\u001b[39;00m default\n\u001b[1;32m    419\u001b[0m \u001b[38;5;28;01melse\u001b[39;00m:\n\u001b[0;32m--> 420\u001b[0m     \u001b[38;5;28;01mraise\u001b[39;00m \u001b[38;5;167;01mKeyError\u001b[39;00m(\u001b[38;5;124mf\u001b[39m\u001b[38;5;124m\"\u001b[39m\u001b[38;5;124mKey \u001b[39m\u001b[38;5;124m'\u001b[39m\u001b[38;5;132;01m{\u001b[39;00mkey\u001b[38;5;132;01m}\u001b[39;00m\u001b[38;5;124m'\u001b[39m\u001b[38;5;124m not present\u001b[39m\u001b[38;5;124m\"\u001b[39m)\n",
      "\u001b[0;31mKeyError\u001b[0m: \"Key 'abracadabra' not present\""
     ]
    }
   ],
   "source": [
    "#Проверим OOV\n",
    "w2v_model.wv['abracadabra']"
   ]
  },
  {
   "cell_type": "code",
   "execution_count": 114,
   "metadata": {
    "colab": {
     "base_uri": "https://localhost:8080/"
    },
    "id": "FugotThZkmBA",
    "outputId": "aa358d63-77cb-4f32-94cd-be4399be6795"
   },
   "outputs": [
    {
     "name": "stdout",
     "output_type": "stream",
     "text": [
      "--2025-03-10 21:50:07--  https://dl.fbaipublicfiles.com/fasttext/data/cooking.stackexchange.tar.gz\n",
      "Resolving dl.fbaipublicfiles.com (dl.fbaipublicfiles.com)... 52.222.236.115, 52.222.236.74, 52.222.236.65, ...\n",
      "Connecting to dl.fbaipublicfiles.com (dl.fbaipublicfiles.com)|52.222.236.115|:443... connected.\n",
      "HTTP request sent, awaiting response... 200 OK\n",
      "Length: 457609 (447K) [application/x-tar]\n",
      "Saving to: ‘cooking.stackexchange.tar.gz.1’\n",
      "\n",
      "cooking.stackexchan 100%[===================>] 446.88K  2.04MB/s    in 0.2s    \n",
      "\n",
      "2025-03-10 21:50:08 (2.04 MB/s) - ‘cooking.stackexchange.tar.gz.1’ saved [457609/457609]\n",
      "\n",
      "x cooking.stackexchange.id\n",
      "x cooking.stackexchange.txt\n",
      "x readme.txt\n"
     ]
    }
   ],
   "source": [
    "!wget https://dl.fbaipublicfiles.com/fasttext/data/cooking.stackexchange.tar.gz && tar xvzf cooking.stackexchange.tar.gz"
   ]
  },
  {
   "cell_type": "code",
   "execution_count": 115,
   "metadata": {
    "colab": {
     "base_uri": "https://localhost:8080/"
    },
    "id": "Wy0_nVT9SlJr",
    "outputId": "8e00d94d-9cf2-45a2-f087-05dfcaf35760"
   },
   "outputs": [
    {
     "name": "stdout",
     "output_type": "stream",
     "text": [
      "__label__sauce __label__cheese How much does potato starch affect a cheese sauce recipe?\r\n",
      "__label__food-safety __label__acidity Dangerous pathogens capable of growing in acidic environments\r\n",
      "__label__cast-iron __label__stove How do I cover up the white spots on my cast iron stove?\r\n",
      "__label__restaurant Michelin Three Star Restaurant; but if the chef is not there\r\n",
      "__label__knife-skills __label__dicing Without knife skills, how can I quickly and accurately dice vegetables?\r\n",
      "__label__storage-method __label__equipment __label__bread What's the purpose of a bread box?\r\n",
      "__label__baking __label__food-safety __label__substitutions __label__peanuts how to seperate peanut oil from roasted peanuts at home?\r\n",
      "__label__chocolate American equivalent for British chocolate terms\r\n",
      "__label__baking __label__oven __label__convection Fan bake vs bake\r\n",
      "__label__sauce __label__storage-lifetime __label__acidity __label__mayonnaise Regulation and balancing of readymade packed mayonnaise and other sauces\r\n"
     ]
    }
   ],
   "source": [
    "! head cooking.stackexchange.txt"
   ]
  },
  {
   "cell_type": "code",
   "execution_count": 116,
   "metadata": {
    "id": "_lZ2RVNaSnWP"
   },
   "outputs": [],
   "source": [
    "! head -n 12404 cooking.stackexchange.txt > cooking.train\n",
    "! tail -n 3000 cooking.stackexchange.txt > cooking.valid"
   ]
  },
  {
   "cell_type": "code",
   "execution_count": 117,
   "metadata": {
    "colab": {
     "base_uri": "https://localhost:8080/"
    },
    "id": "JbwEQ5AGS2KH",
    "outputId": "e6f240ce-bac3-47b0-bcd0-770a9a479bad"
   },
   "outputs": [],
   "source": [
    "#!pip install fasttext"
   ]
  },
  {
   "cell_type": "code",
   "execution_count": 118,
   "metadata": {
    "id": "nwNIMVQjSteo"
   },
   "outputs": [
    {
     "name": "stderr",
     "output_type": "stream",
     "text": [
      "Read 0M words\n",
      "Number of words:  14543\n",
      "Number of labels: 735\n",
      "Progress: 100.0% words/sec/thread:   57131 lr:  0.000000 avg.loss: 17.706287 ETA:   0h 0m 0s\n"
     ]
    },
    {
     "data": {
      "text/plain": [
       "'\\nфункция из библиотеки FastText, которая используется для обучения модели на размеченных данных. \\ninput=\"cooking.train\": Указывает файл, содержащий обучающие данные. Ожидается, что данные размечены, то есть каждая строка должна начинаться с метки класса (например, __label__positive), за которой следует текст.\\nminn=3: Минимальная длина подслов (n-грамм), которые будут использоваться при обучении. Здесь мы указываем, что будем учитывать подслова длиной не менее 3 символов. Это может помочь в работе с редкими словами или опечатками.\\nmaxn=6: Максимальная длина подслов (n-грамм). В данном случае мы учитываем подслова длиной до 6 символов. Это позволяет извлекать информацию из различных частей слов.\\ndim=100: Размерность векторов слов. Здесь мы указываем, что каждое слово будет представлено вектором размерностью 100. Это позволяет модели представлять слова в многомерном пространстве, что может улучшить качество классификации.\\n'"
      ]
     },
     "execution_count": 118,
     "metadata": {},
     "output_type": "execute_result"
    }
   ],
   "source": [
    "import fasttext\n",
    "\n",
    "ft_model = fasttext.train_supervised(input = \"cooking.train\", minn = 3, maxn = 6, dim = 100)\n",
    "\n",
    "'''\n",
    "функция из библиотеки FastText, которая используется для обучения модели на размеченных данных. \n",
    "input=\"cooking.train\": Указывает файл, содержащий обучающие данные. Ожидается, что данные размечены, то есть каждая строка должна начинаться с метки класса (например, __label__positive), за которой следует текст.\n",
    "minn=3: Минимальная длина подслов (n-грамм), которые будут использоваться при обучении. Здесь мы указываем, что будем учитывать подслова длиной не менее 3 символов. Это может помочь в работе с редкими словами или опечатками.\n",
    "maxn=6: Максимальная длина подслов (n-грамм). В данном случае мы учитываем подслова длиной до 6 символов. Это позволяет извлекать информацию из различных частей слов.\n",
    "dim=100: Размерность векторов слов. Здесь мы указываем, что каждое слово будет представлено вектором размерностью 100. Это позволяет модели представлять слова в многомерном пространстве, что может улучшить качество классификации.\n",
    "'''"
   ]
  },
  {
   "cell_type": "code",
   "execution_count": 119,
   "metadata": {
    "colab": {
     "base_uri": "https://localhost:8080/"
    },
    "id": "Rotk-RZnS9s9",
    "outputId": "e60b1088-0560-4741-9132-6a3b8e78771f"
   },
   "outputs": [
    {
     "data": {
      "text/plain": [
       "(('__label__baking',), array([0.00234059]))"
      ]
     },
     "execution_count": 119,
     "metadata": {},
     "output_type": "execute_result"
    }
   ],
   "source": [
    "ft_model.predict(\"Which baking dish is best to bake a banana bread ?\") #хотим узнать, к какому классу относится вопрос о лучшем блюде для выпекания бананового хлеба."
   ]
  },
  {
   "cell_type": "markdown",
   "metadata": {},
   "source": [
    "предсказанная метка класса, которая указывает, что текст, скорее всего, относится к категории \"выпечка\" (или подобной).\n",
    "array([0.95]): Это вероятность или уверенность модели в том, что текст действительно относится к этому классу. Значение 0.95 указывает на высокую степень уверенности в предсказании."
   ]
  },
  {
   "cell_type": "code",
   "execution_count": 120,
   "metadata": {
    "colab": {
     "base_uri": "https://localhost:8080/"
    },
    "id": "p_jrfC9fVO-n",
    "outputId": "a2585b07-c454-40a9-ef25-4f18b38ac50c"
   },
   "outputs": [
    {
     "data": {
      "text/plain": [
       "(3000, 0.096, 0.04151650569410408)"
      ]
     },
     "execution_count": 120,
     "metadata": {},
     "output_type": "execute_result"
    }
   ],
   "source": [
    "ft_model.test(\"cooking.valid\") # N, P@1, R@1 возвращает различные метрики, такие как точность (precision), полнота (recall)"
   ]
  },
  {
   "cell_type": "code",
   "execution_count": 121,
   "metadata": {
    "colab": {
     "base_uri": "https://localhost:8080/"
    },
    "id": "nV-YHtV-Twci",
    "outputId": "57d34540-a62c-419a-bf43-4a29b4e9a2d1"
   },
   "outputs": [
    {
     "name": "stdout",
     "output_type": "stream",
     "text": [
      "0\r\n"
     ]
    }
   ],
   "source": [
    "!grep -c abracadabra cooking.train"
   ]
  },
  {
   "cell_type": "code",
   "execution_count": 122,
   "metadata": {},
   "outputs": [
    {
     "name": "stdout",
     "output_type": "stream",
     "text": [
      "5\r\n"
     ]
    }
   ],
   "source": [
    "!grep -c dab cooking.train"
   ]
  },
  {
   "cell_type": "code",
   "execution_count": 123,
   "metadata": {
    "colab": {
     "base_uri": "https://localhost:8080/"
    },
    "id": "gL9zH-kncUBS",
    "outputId": "651e5676-252e-4c37-aa14-ae5dd3c86408"
   },
   "outputs": [
    {
     "data": {
      "text/plain": [
       "array([ 0.00241528,  0.00011075, -0.00344657,  0.00193653, -0.00238883,\n",
       "        0.00753212,  0.00127734,  0.00226638, -0.0001921 ,  0.00028715,\n",
       "       -0.00270718,  0.00253145, -0.00068597,  0.00084609,  0.00094201,\n",
       "       -0.00038019,  0.0011821 ,  0.00100929, -0.00094331, -0.001145  ,\n",
       "        0.00108136, -0.00041254, -0.00075946,  0.00332045,  0.00158646,\n",
       "       -0.00181916,  0.00245557,  0.0002749 , -0.00037654,  0.00104468,\n",
       "       -0.00295334,  0.00098996,  0.00195894,  0.00014739, -0.0010598 ,\n",
       "        0.000339  , -0.00178733, -0.00351899, -0.00063939,  0.00332984,\n",
       "       -0.00225978, -0.00223477,  0.00193415,  0.00169285, -0.00166854,\n",
       "       -0.00068177,  0.000603  ,  0.00376054, -0.00038313, -0.00349011,\n",
       "       -0.00358377, -0.00152836,  0.00058225, -0.00247342,  0.00012714,\n",
       "       -0.00171258,  0.00075425, -0.00126473, -0.00089008, -0.00154104,\n",
       "        0.00237972,  0.00776135, -0.00275523, -0.00468802, -0.00090628,\n",
       "        0.00206848, -0.00102436,  0.0003075 , -0.00273707, -0.00276217,\n",
       "        0.00147567,  0.00219119, -0.00143999, -0.00235389, -0.00024154,\n",
       "        0.00496194, -0.00048097,  0.00273673,  0.00259129,  0.00198854,\n",
       "       -0.00039663, -0.00127556,  0.00090747, -0.00103334, -0.00230939,\n",
       "       -0.0011539 , -0.0007296 , -0.00293267,  0.00196364,  0.00054501,\n",
       "        0.00287435, -0.00375225,  0.00171181, -0.00039571,  0.00294546,\n",
       "       -0.00107287, -0.0003434 ,  0.00277427, -0.00424024, -0.00455866],\n",
       "      dtype=float32)"
      ]
     },
     "execution_count": 123,
     "metadata": {},
     "output_type": "execute_result"
    }
   ],
   "source": [
    "ft_model['dab'] #для получения векторного представления слова \"dab\" из обученной модели FastText"
   ]
  },
  {
   "cell_type": "code",
   "execution_count": 124,
   "metadata": {},
   "outputs": [
    {
     "data": {
      "text/plain": [
       "(100,)"
      ]
     },
     "execution_count": 124,
     "metadata": {},
     "output_type": "execute_result"
    }
   ],
   "source": [
    "ft_model['dab'].shape"
   ]
  },
  {
   "cell_type": "code",
   "execution_count": 125,
   "metadata": {},
   "outputs": [
    {
     "data": {
      "text/plain": [
       "array([-0.00058729,  0.00801541,  0.00175325, -0.00054688, -0.00056295,\n",
       "        0.00150915,  0.00373238,  0.00173439, -0.00150119, -0.00433631,\n",
       "       -0.01025561,  0.00408587,  0.00096795,  0.00730789, -0.00578626,\n",
       "       -0.00493016,  0.00147616, -0.00456403, -0.00061496, -0.0068842 ,\n",
       "        0.0005822 ,  0.00608527, -0.00522345, -0.00173671, -0.00406188,\n",
       "       -0.00708255,  0.01084005, -0.00249864, -0.00326958,  0.00744343,\n",
       "       -0.01566453, -0.00564552, -0.00258505, -0.00826659, -0.00697535,\n",
       "        0.00282978, -0.00159634, -0.00821917, -0.00124766, -0.00127879,\n",
       "       -0.00173755, -0.00318517,  0.01049074, -0.00066838, -0.00251072,\n",
       "       -0.00013481,  0.01274682, -0.0023669 , -0.00925872, -0.00427883,\n",
       "       -0.00553639,  0.01003629, -0.0005701 ,  0.00036826,  0.00423464,\n",
       "       -0.00025239, -0.0107419 , -0.01304134,  0.00049763, -0.00444198,\n",
       "       -0.00044602,  0.00029972, -0.00029685, -0.00092989,  0.00357121,\n",
       "        0.00171814, -0.00551132,  0.00810732, -0.00097486,  0.00114646,\n",
       "       -0.00448844,  0.00238318, -0.0107122 , -0.00496766, -0.00945844,\n",
       "        0.00077558,  0.0028226 ,  0.0047752 ,  0.00459573,  0.00691616,\n",
       "        0.0001981 ,  0.00160941,  0.00144042, -0.00527209,  0.00355482,\n",
       "       -0.01184702, -0.00273476,  0.00198213, -0.00520737, -0.00154639,\n",
       "        0.01226648,  0.0046711 ,  0.00740158,  0.00336026, -0.00085695,\n",
       "       -0.00311348,  0.00508328,  0.00662232,  0.00314196, -0.00658243],\n",
       "      dtype=float32)"
      ]
     },
     "execution_count": 125,
     "metadata": {},
     "output_type": "execute_result"
    }
   ],
   "source": [
    "ft_model['bra']"
   ]
  },
  {
   "cell_type": "code",
   "execution_count": 127,
   "metadata": {
    "colab": {
     "base_uri": "https://localhost:8080/"
    },
    "id": "ptbOo3ppWlY-",
    "outputId": "ad40280b-b4b6-4e6b-c94e-7342f3530d08"
   },
   "outputs": [
    {
     "data": {
      "text/plain": [
       "['</s>',\n",
       " 'to',\n",
       " 'a',\n",
       " 'the',\n",
       " 'How',\n",
       " 'I',\n",
       " 'in',\n",
       " 'of',\n",
       " 'for',\n",
       " 'What',\n",
       " 'is',\n",
       " 'and',\n",
       " 'do',\n",
       " 'can',\n",
       " 'with',\n",
       " 'my',\n",
       " 'Why',\n",
       " 'make',\n",
       " 'Is',\n",
       " 'it',\n",
       " 'Can',\n",
       " 'be',\n",
       " 'or',\n",
       " 'from',\n",
       " 'when',\n",
       " 'you',\n",
       " 'on',\n",
       " 'use',\n",
       " 'are',\n",
       " 'does',\n",
       " 'that',\n",
       " 'should',\n",
       " 'chicken',\n",
       " 'there',\n",
       " 'long',\n",
       " 'without',\n",
       " 'cooking',\n",
       " 'cook',\n",
       " 'bread',\n",
       " 'an',\n",
       " '-',\n",
       " 'between',\n",
       " 'Does',\n",
       " 'way',\n",
       " 'at',\n",
       " 'food',\n",
       " 'substitute',\n",
       " 'meat',\n",
       " 'as',\n",
       " 'how',\n",
       " 'out',\n",
       " 'oil',\n",
       " 'safe',\n",
       " 'have',\n",
       " 'after',\n",
       " 'get',\n",
       " 'cream',\n",
       " 'this',\n",
       " 'making',\n",
       " 'sauce',\n",
       " 'difference',\n",
       " 'baking',\n",
       " 'recipe',\n",
       " 'not',\n",
       " 'cake',\n",
       " 'Are',\n",
       " 'milk',\n",
       " 'what',\n",
       " 'if',\n",
       " 'used',\n",
       " 'water',\n",
       " 'chocolate',\n",
       " 'oven',\n",
       " 'best',\n",
       " 'rice',\n",
       " 'using',\n",
       " 'dough',\n",
       " 'store',\n",
       " 'before',\n",
       " 'keep',\n",
       " 'good',\n",
       " 'temperature',\n",
       " \"What's\",\n",
       " 'much',\n",
       " 'sugar',\n",
       " 'butter',\n",
       " 'pan',\n",
       " 'Do',\n",
       " 'cheese',\n",
       " 'cooked',\n",
       " 'taste',\n",
       " 'frozen',\n",
       " 'beef',\n",
       " 'need',\n",
       " 'salt',\n",
       " 'flour',\n",
       " 'fresh',\n",
       " 'Should',\n",
       " 'eggs',\n",
       " 'too']"
      ]
     },
     "execution_count": 127,
     "metadata": {},
     "output_type": "execute_result"
    }
   ],
   "source": [
    "ft_model.get_words()[:100] #используется для получения списка всех слов, на которых была обучена модель FastText, и извлечения первых десяти из них"
   ]
  },
  {
   "cell_type": "code",
   "execution_count": 128,
   "metadata": {
    "colab": {
     "base_uri": "https://localhost:8080/"
    },
    "id": "KDxewALOY0k3",
    "outputId": "da8278a1-9542-4e12-d770-adb5fda6b4d3"
   },
   "outputs": [
    {
     "data": {
      "text/plain": [
       "(['<ab',\n",
       "  '<abr',\n",
       "  '<abra',\n",
       "  '<abrac',\n",
       "  'abr',\n",
       "  'abra',\n",
       "  'abrac',\n",
       "  'abraca',\n",
       "  'bra',\n",
       "  'brac',\n",
       "  'braca',\n",
       "  'bracad',\n",
       "  'rac',\n",
       "  'raca',\n",
       "  'racad',\n",
       "  'racada',\n",
       "  'aca',\n",
       "  'acad',\n",
       "  'acada',\n",
       "  'acadab',\n",
       "  'cad',\n",
       "  'cada',\n",
       "  'cadab',\n",
       "  'cadabr',\n",
       "  'ada',\n",
       "  'adab',\n",
       "  'adabr',\n",
       "  'adabra',\n",
       "  'dab',\n",
       "  'dabr',\n",
       "  'dabra',\n",
       "  'dabra>',\n",
       "  'abr',\n",
       "  'abra',\n",
       "  'abra>',\n",
       "  'bra',\n",
       "  'bra>',\n",
       "  'ra>'],\n",
       " array([ 224051,  725489, 1353288,  435133,  599159,  974266, 1098983,\n",
       "         864970,   77835,  937436, 1164499,  324207,  356924, 1794739,\n",
       "        1431503,  437506,  631491, 1342847,  853586, 1335810,  828966,\n",
       "         356177,  853615, 1596005, 1277706, 1647850, 1036698, 1568237,\n",
       "         293931,  827321, 1215264,  353548,  599159,  974266, 2008350,\n",
       "          77835,  618869, 1005653]))"
      ]
     },
     "execution_count": 128,
     "metadata": {},
     "output_type": "execute_result"
    }
   ],
   "source": [
    "ft_model.get_subwords(\"abracadabra\")"
   ]
  },
  {
   "cell_type": "markdown",
   "metadata": {
    "id": "fbXAym7o1IGp"
   },
   "source": [
    "ing, er, "
   ]
  },
  {
   "cell_type": "code",
   "execution_count": 129,
   "metadata": {
    "colab": {
     "base_uri": "https://localhost:8080/"
    },
    "id": "ddWUvv5FYfmE",
    "outputId": "e48c14a0-7e4e-4caa-8dbb-63f1e3f30aef"
   },
   "outputs": [
    {
     "data": {
      "text/plain": [
       "array([ 9.7161159e-05, -3.1949370e-04,  1.1811299e-03, -2.7637716e-04,\n",
       "       -5.2049122e-04,  1.4715745e-03,  1.3299146e-03,  1.1960274e-03,\n",
       "       -4.3339949e-04, -9.9536974e-04, -2.5000905e-03, -5.4808229e-04,\n",
       "        1.3905544e-03, -5.7053537e-04,  8.8302058e-04, -8.6783705e-04,\n",
       "        2.3200640e-03,  1.2635442e-03,  7.7013770e-04,  1.1619733e-03,\n",
       "        1.2642660e-03, -1.7137657e-03, -3.3611551e-04,  6.0025312e-04,\n",
       "        1.0662315e-03, -1.1609019e-03, -5.6642159e-05, -1.2295574e-03,\n",
       "        5.0579163e-04,  1.6264323e-05,  6.7947432e-04, -1.0900268e-03,\n",
       "       -4.3482374e-04,  2.3288153e-04, -3.3750859e-04,  1.0330232e-04,\n",
       "        6.3698455e-05, -2.1360964e-03,  1.3750534e-03,  1.9271513e-03,\n",
       "        3.9840743e-04, -6.3452476e-06,  8.9133426e-04, -1.5757566e-03,\n",
       "        1.1771508e-03, -1.3872380e-04, -3.1687439e-04,  6.5388624e-05,\n",
       "       -6.0160986e-05,  5.8684684e-04, -7.5995253e-04,  1.1400729e-03,\n",
       "        1.2402032e-03, -4.4395795e-04, -4.4350818e-04, -5.8625254e-04,\n",
       "        5.7320656e-05, -4.4549801e-04, -5.6461978e-04,  7.7040360e-04,\n",
       "        1.9267829e-03, -1.7622929e-03, -1.5324170e-03,  4.3826021e-04,\n",
       "        1.2745409e-03,  5.4201507e-04,  8.5477572e-04,  2.2649264e-03,\n",
       "        2.2318464e-04, -2.0788366e-04, -1.2635937e-03, -6.0203645e-05,\n",
       "        9.9452729e-05,  1.6632285e-04, -1.6389461e-03,  3.3192761e-04,\n",
       "        2.7639902e-05,  5.8095657e-06, -4.6660114e-04,  1.2799717e-03,\n",
       "        1.3510711e-03,  7.5546361e-04,  3.8204384e-05,  2.1752153e-04,\n",
       "        7.3025830e-04,  1.4281116e-04,  6.2298961e-04, -1.1339119e-03,\n",
       "        6.3914247e-04,  1.0650312e-03,  1.0248610e-03,  8.9349336e-04,\n",
       "        4.1483072e-04, -2.3567880e-04,  1.6620200e-03,  3.0532273e-04,\n",
       "        1.1821672e-03,  5.3848128e-04,  1.6208590e-04,  1.0143409e-03],\n",
       "      dtype=float32)"
      ]
     },
     "execution_count": 129,
     "metadata": {},
     "output_type": "execute_result"
    }
   ],
   "source": [
    "ft_model.get_word_vector(\"abracadabra\")"
   ]
  },
  {
   "cell_type": "code",
   "execution_count": 130,
   "metadata": {},
   "outputs": [
    {
     "data": {
      "text/plain": [
       "(100,)"
      ]
     },
     "execution_count": 130,
     "metadata": {},
     "output_type": "execute_result"
    }
   ],
   "source": [
    "ft_model.get_word_vector(\"abracadabra\").shape"
   ]
  },
  {
   "cell_type": "markdown",
   "metadata": {
    "id": "jNog-Rz4e4I_"
   },
   "source": [
    "# [nn.Embeddings](https://pytorch.org/docs/stable/generated/torch.nn.Embedding.html)"
   ]
  },
  {
   "cell_type": "markdown",
   "metadata": {
    "id": "sCTmHoEd1nw3"
   },
   "source": [
    "Словарь\n",
    "\n",
    "```\n",
    "1 A\n",
    "2 And\n",
    "3 But\n",
    "4 Me\n",
    "5 He\n",
    "6 She\n",
    "\n",
    "...\n",
    "\n",
    "10000 ...\n",
    "```"
   ]
  },
  {
   "cell_type": "code",
   "execution_count": 131,
   "metadata": {
    "id": "eFYMBqVD13wD"
   },
   "outputs": [],
   "source": [
    "# [ \"Happy\", \"new\", \"year\" ] -> [ 300, 601, 902 ]\n",
    "# 50 ~ 300\n",
    "# "
   ]
  },
  {
   "cell_type": "code",
   "execution_count": 132,
   "metadata": {
    "id": "LpRXfXzYklsO"
   },
   "outputs": [
    {
     "data": {
      "text/plain": [
       "'\\nnn.Embedding — это слой, который отвечает за преобразование целочисленных индексов (например, индексов символов) в плотные векторные представления (эмбеддинги).\\nnum_embeddings=len(ascii_lowercase): Это количество уникальных символов, которое будет равно 26 (количество букв в английском алфавите).\\nembedding_dim=100: Это размерность векторов эмбеддингов. В данном случае каждый символ будет представлен вектором размерности 100.\\n'"
      ]
     },
     "execution_count": 132,
     "metadata": {},
     "output_type": "execute_result"
    }
   ],
   "source": [
    "# свой nn.Embeddings\n",
    "import torch.nn as nn\n",
    "import torch\n",
    "\n",
    "import string\n",
    "\n",
    "ascii_lowercase = string.ascii_lowercase #возвращает строку, содержащую все строчные буквы английского алфавита: 'abcdefghijklmnopqrstuvwxyz'. Это будет использоваться для определения количества эмбеддингов. \n",
    "\n",
    "nn_embeddings = nn.Embedding(num_embeddings = len(ascii_lowercase), embedding_dim = 100)\n",
    "\n",
    "\"\"\"\n",
    "nn.Embedding — это слой, который отвечает за преобразование целочисленных индексов (например, индексов символов) в плотные векторные представления (эмбеддинги).\n",
    "num_embeddings=len(ascii_lowercase): Это количество уникальных символов, которое будет равно 26 (количество букв в английском алфавите).\n",
    "embedding_dim=100: Это размерность векторов эмбеддингов. В данном случае каждый символ будет представлен вектором размерности 100.\n",
    "\"\"\""
   ]
  },
  {
   "cell_type": "code",
   "execution_count": 133,
   "metadata": {},
   "outputs": [
    {
     "data": {
      "text/plain": [
       "'abcdefghijklmnopqrstuvwxyz'"
      ]
     },
     "execution_count": 133,
     "metadata": {},
     "output_type": "execute_result"
    }
   ],
   "source": [
    "ascii_lowercase"
   ]
  },
  {
   "cell_type": "code",
   "execution_count": 134,
   "metadata": {
    "colab": {
     "base_uri": "https://localhost:8080/"
    },
    "id": "xlU6BZZPeCcl",
    "outputId": "d5697e6e-0946-465f-cf1f-7c2cab5f9405"
   },
   "outputs": [
    {
     "data": {
      "text/plain": [
       "torch.Size([26, 100])"
      ]
     },
     "execution_count": 134,
     "metadata": {},
     "output_type": "execute_result"
    }
   ],
   "source": [
    "nn_embeddings.weight.shape #используется для получения размерности весов слоя эмбеддингов, созданного с помощью nn.Embedding в PyTorch"
   ]
  },
  {
   "cell_type": "code",
   "execution_count": 135,
   "metadata": {
    "colab": {
     "base_uri": "https://localhost:8080/",
     "height": 35
    },
    "id": "V-wF-ph72y5H",
    "outputId": "10e4d9b2-d391-4ed8-8725-d91d327357cd"
   },
   "outputs": [
    {
     "data": {
      "text/plain": [
       "'i'"
      ]
     },
     "execution_count": 135,
     "metadata": {},
     "output_type": "execute_result"
    }
   ],
   "source": [
    "string.ascii_lowercase[8]"
   ]
  },
  {
   "cell_type": "code",
   "execution_count": 136,
   "metadata": {
    "id": "EqRPyKSIdh5t"
   },
   "outputs": [],
   "source": [
    "with torch.no_grad(): #отключает автоматическое вычисление градиентов в PyTorch, что полезно, когда вы хотите выполнять операции, не требующие обновления весов модели. Это также может ускорить вычисления и уменьшить использование памяти.\n",
    "    token_id = 0 #Здесь задается переменная token_id, которая указывает на индекс токена, для которого мы хотим получить эмбеддинг. В данном случае это первый токен, индексируемый как 0.\n",
    "    token_ids_t = torch.LongTensor([ token_id ]) #Создание тензора token_ids_t, содержащего один элемент — индекс токена (0). Этот тензор будет использоваться для получения эмбеддинга из слоя.\n",
    "    zero_idx_embedding = nn_embeddings( token_ids_t) #Здесь мы вызываем слой эмбеддингов nn_embeddings с тензором token_ids_t в качестве входных данных. Это возвращает векторное представление (эмбеддинг) для токена с индексом 0, и результат сохраняется в переменной zero_idx_embedding.\n",
    "    hands_embeddings = nn_embeddings.weight[ token_id, : ] #Эта строка получает эмбеддинг для токена с индексом 0 напрямую из весов слоя эмбеддингов. nn_embeddings.weight — это тензор, содержащий все эмбеддинги, и мы извлекаем строку с индексом 0, что соответствует эмбеддингу для этого токена.\n",
    "    assert (zero_idx_embedding == hands_embeddings).all() #Здесь выполняется проверка, равны ли два полученных эмбеддинга: один — из вызова слоя эмбеддингов, а другой — из весов. Если они равны, то утверждение проходит, и код продолжается. Если нет, будет вызвано исключение AssertionError"
   ]
  },
  {
   "cell_type": "code",
   "execution_count": 137,
   "metadata": {
    "colab": {
     "base_uri": "https://localhost:8080/"
    },
    "id": "2_hZLxFb20-5",
    "outputId": "e3387315-8378-4031-9539-75375814e86e"
   },
   "outputs": [
    {
     "data": {
      "text/plain": [
       "torch.Size([1, 100])"
      ]
     },
     "execution_count": 137,
     "metadata": {},
     "output_type": "execute_result"
    }
   ],
   "source": [
    "zero_idx_embedding.shape #используется для получения размерности тензора, который хранит эмбеддинг для токена с индексом 0\n",
    "#1: Это размер батча, который равен 1, так как мы получили эмбеддинг для одного токена.\n",
    "#100: Это размерность вектора эмбеддинга, установленная вами при создании слоя"
   ]
  },
  {
   "cell_type": "code",
   "execution_count": 138,
   "metadata": {
    "id": "F3w9W6MOgLMk"
   },
   "outputs": [],
   "source": [
    "class MyEmbedding(nn.Module):\n",
    "    def __init__(self, num_embeddings, embedding_dim):\n",
    "        super().__init__()\n",
    "        self.num_embeddings = num_embeddings\n",
    "        self.embedding_dim = embedding_dim\n",
    "        self.weight = nn.Parameter( torch.Tensor( size=( num_embeddings, embedding_dim ) ) )\n",
    "        return\n",
    "\n",
    "    def forward(self, token_ids): # [ bs, seq_len, ... ] # LongTensor\n",
    "        token_ids_flat = token_ids.view(-1)\n",
    "        new_shape = (*(token_ids.shape), self.embedding_dim)\n",
    "        return self.weight[token_ids_flat, :].view( new_shape )"
   ]
  },
  {
   "cell_type": "markdown",
   "metadata": {},
   "source": [
    "nn.Module: класс наследует от nn.Module, что позволяет использовать его как компонент нейронной сети.\n",
    "__init__ метод: Здесь инициализируются параметры слоя:\n",
    "\n",
    "    num_embeddings: общее количество уникальных токенов (например, слов или символов).\n",
    "    embedding_dim: размерность эмбеддингов для каждого токена.\n",
    "    self.weight: создается тензор весов (эмбеддингов), который будет обновляться во время обучения. Он инициализируется случайными значениями, так как мы не вызываем явную инициализацию.\n",
    "    \n",
    "forward метод: Это основной метод, который вызывается при прямом проходе через слой. Он принимает тензор индексов токенов (в виде LongTensor).\n",
    "\n",
    "    token_ids_flat = token_ids.view(-1): Преобразует входные индексы токенов в одномерный тензор, чтобы можно было удобно индексировать веса.\n",
    "    new_shape: Здесь создается новая форма тензора, чтобы вернуть результат в исходных размерах батча и последовательности, добавляя размерность эмбеддинга.\n",
    "    self.weight[token_ids_flat, :]: Извлекает эмбеддинги для токенов, используя их индексы.\n",
    "    view(new_shape): Преобразует результат обратно в многомерный тензор с сохранением размерностей батча и последовательности."
   ]
  },
  {
   "cell_type": "code",
   "execution_count": 139,
   "metadata": {
    "colab": {
     "base_uri": "https://localhost:8080/"
    },
    "id": "5VnNw7tZhhKk",
    "outputId": "2bfe9b5a-08c7-4e32-cb0c-2ccb70b5d124"
   },
   "outputs": [
    {
     "data": {
      "text/plain": [
       "torch.Size([6, 13])"
      ]
     },
     "execution_count": 139,
     "metadata": {},
     "output_type": "execute_result"
    }
   ],
   "source": [
    "# tokens ids\n",
    "tokens_batch = torch.arange(26).view(2,13).repeat(3, 1)\n",
    "\n",
    "tokens_batch.shape # [ bs, seq_len ]"
   ]
  },
  {
   "cell_type": "markdown",
   "metadata": {},
   "source": [
    "torch.arange(26): Эта функция создает одномерный тензор, содержащий последовательность целых чисел от 0 до 25\n",
    "\n",
    ".view(2, 13): Преобразует одномерный тензор в двумерный размером [2, 13]\n",
    "\n",
    ".repeat(3, 1): Эта функция дублирует (повторяет) тензор по заданным осям. Здесь мы указываем 3 для первой оси и 1 для второй, что означает, что мы хотим получить 3 копии первой размерности и оставить вторую размерность без изменений.\n",
    "\n"
   ]
  },
  {
   "cell_type": "code",
   "execution_count": 140,
   "metadata": {
    "colab": {
     "base_uri": "https://localhost:8080/"
    },
    "id": "s7zMEBCxh_YX",
    "outputId": "0f5d72ce-0f03-40c2-ee52-ba659bc9b420"
   },
   "outputs": [
    {
     "data": {
      "text/plain": [
       "torch.Size([6, 13, 100])"
      ]
     },
     "execution_count": 140,
     "metadata": {},
     "output_type": "execute_result"
    }
   ],
   "source": [
    "nn_embeddings = nn.Embedding(num_embeddings = len(ascii_lowercase), embedding_dim = 100) \n",
    "\n",
    "tokens_batch_embedded = nn_embeddings(tokens_batch)\n",
    "tokens_batch_embedded.shape"
   ]
  },
  {
   "cell_type": "markdown",
   "metadata": {},
   "source": [
    "nn.Embedding: Здесь создается слой эмбеддингов, который будет преобразовывать индексы токенов в векторные представления.\n",
    "num_embeddings=len(ascii_lowercase): Количество уникальных токенов (в вашем случае это 26, так как вы используете буквы английского алфавита).\n",
    "embedding_dim=100: Размерность векторов эмбеддингов, т.е. каждый токен будет представлен вектором размером 100.\n",
    "    \n",
    "Здесь мы передаем tokens_batch в слой эмбеддингов, который возвращает эмбеддинги для каждого токена в батче.\n",
    "tokens_batch имеет размерность [6, 13], где 6 — это количество последовательностей, а 13 — длина каждой последовательности.\n",
    "\n",
    "tokens_batch_embedded теперь будет содержать эмбеддинги для каждого токена в tokens_batch. Поскольку каждый токен преобразуется в вектор размерности 100, размерность tokens_batch_embedded будет [6, 13, 100]."
   ]
  },
  {
   "cell_type": "code",
   "execution_count": 141,
   "metadata": {},
   "outputs": [
    {
     "data": {
      "text/plain": [
       "tensor([[[ 1.9215, -1.3595,  0.2844,  ..., -1.1873, -0.5644,  1.5836],\n",
       "         [ 2.0546, -1.1110, -0.7238,  ...,  0.2760, -0.6949, -0.7463],\n",
       "         [-0.2882, -0.4103,  0.5597,  ..., -1.2116,  1.2794, -0.0170],\n",
       "         ...,\n",
       "         [ 1.9400, -1.1430, -1.2143,  ...,  1.1830, -0.2337, -1.1455],\n",
       "         [-0.6202, -1.0208,  0.2926,  ...,  1.3763,  0.2069,  0.2626],\n",
       "         [ 0.0100,  0.4335,  0.4363,  ..., -2.1335, -1.0642, -0.7642]],\n",
       "\n",
       "        [[ 0.1314,  0.4412, -1.6286,  ..., -0.0819,  0.7478, -0.4631],\n",
       "         [ 0.9794, -1.2042,  0.4454,  ...,  0.5231,  1.4464,  0.4494],\n",
       "         [-2.1286,  0.2740, -0.2918,  ...,  0.7868, -0.0655,  0.3916],\n",
       "         ...,\n",
       "         [ 1.5940,  0.2168, -0.7423,  ..., -0.1356, -0.3590, -0.3600],\n",
       "         [-0.0595, -0.7047, -1.1460,  ...,  1.3265,  1.1516,  0.4023],\n",
       "         [ 1.5446, -1.2199, -0.5939,  ..., -2.8150, -1.4222, -0.2132]],\n",
       "\n",
       "        [[ 1.9215, -1.3595,  0.2844,  ..., -1.1873, -0.5644,  1.5836],\n",
       "         [ 2.0546, -1.1110, -0.7238,  ...,  0.2760, -0.6949, -0.7463],\n",
       "         [-0.2882, -0.4103,  0.5597,  ..., -1.2116,  1.2794, -0.0170],\n",
       "         ...,\n",
       "         [ 1.9400, -1.1430, -1.2143,  ...,  1.1830, -0.2337, -1.1455],\n",
       "         [-0.6202, -1.0208,  0.2926,  ...,  1.3763,  0.2069,  0.2626],\n",
       "         [ 0.0100,  0.4335,  0.4363,  ..., -2.1335, -1.0642, -0.7642]],\n",
       "\n",
       "        [[ 0.1314,  0.4412, -1.6286,  ..., -0.0819,  0.7478, -0.4631],\n",
       "         [ 0.9794, -1.2042,  0.4454,  ...,  0.5231,  1.4464,  0.4494],\n",
       "         [-2.1286,  0.2740, -0.2918,  ...,  0.7868, -0.0655,  0.3916],\n",
       "         ...,\n",
       "         [ 1.5940,  0.2168, -0.7423,  ..., -0.1356, -0.3590, -0.3600],\n",
       "         [-0.0595, -0.7047, -1.1460,  ...,  1.3265,  1.1516,  0.4023],\n",
       "         [ 1.5446, -1.2199, -0.5939,  ..., -2.8150, -1.4222, -0.2132]],\n",
       "\n",
       "        [[ 1.9215, -1.3595,  0.2844,  ..., -1.1873, -0.5644,  1.5836],\n",
       "         [ 2.0546, -1.1110, -0.7238,  ...,  0.2760, -0.6949, -0.7463],\n",
       "         [-0.2882, -0.4103,  0.5597,  ..., -1.2116,  1.2794, -0.0170],\n",
       "         ...,\n",
       "         [ 1.9400, -1.1430, -1.2143,  ...,  1.1830, -0.2337, -1.1455],\n",
       "         [-0.6202, -1.0208,  0.2926,  ...,  1.3763,  0.2069,  0.2626],\n",
       "         [ 0.0100,  0.4335,  0.4363,  ..., -2.1335, -1.0642, -0.7642]],\n",
       "\n",
       "        [[ 0.1314,  0.4412, -1.6286,  ..., -0.0819,  0.7478, -0.4631],\n",
       "         [ 0.9794, -1.2042,  0.4454,  ...,  0.5231,  1.4464,  0.4494],\n",
       "         [-2.1286,  0.2740, -0.2918,  ...,  0.7868, -0.0655,  0.3916],\n",
       "         ...,\n",
       "         [ 1.5940,  0.2168, -0.7423,  ..., -0.1356, -0.3590, -0.3600],\n",
       "         [-0.0595, -0.7047, -1.1460,  ...,  1.3265,  1.1516,  0.4023],\n",
       "         [ 1.5446, -1.2199, -0.5939,  ..., -2.8150, -1.4222, -0.2132]]],\n",
       "       grad_fn=<EmbeddingBackward0>)"
      ]
     },
     "execution_count": 141,
     "metadata": {},
     "output_type": "execute_result"
    }
   ],
   "source": [
    "tokens_batch_embedded"
   ]
  },
  {
   "cell_type": "code",
   "execution_count": 142,
   "metadata": {
    "colab": {
     "base_uri": "https://localhost:8080/"
    },
    "id": "SaBxW_SRhAZk",
    "outputId": "9e23dee4-9afe-41b8-d952-1ae1a3bf95f5"
   },
   "outputs": [
    {
     "data": {
      "text/plain": [
       "torch.Size([6, 13, 100])"
      ]
     },
     "execution_count": 142,
     "metadata": {},
     "output_type": "execute_result"
    }
   ],
   "source": [
    "my_embeddings = MyEmbedding(num_embeddings = len(ascii_lowercase), embedding_dim = 100)\n",
    "\n",
    "my_tokens_batch_embedded = my_embeddings(tokens_batch)\n",
    "my_tokens_batch_embedded.shape"
   ]
  },
  {
   "cell_type": "code",
   "execution_count": null,
   "metadata": {
    "id": "xXqL0-aVmYVb"
   },
   "outputs": [],
   "source": [
    "class PyTorchWord2Vec(nn.Module):\n",
    "    def __init__(self, vocab_size, embedding_dim):\n",
    "\n",
    "        self.word_embedding = nn.Embedding(vocab_size, embedding_dim)\n",
    "        self.context_embedding = nn.Embedding(vocab_size, embedding_dim)\n",
    "\n",
    "        return\n",
    "\n",
    "    def forward(self, sentence):\n",
    "        # ...\n",
    "        return \n",
    "\n",
    "    def get_token_embedding(self, token_id):\n",
    "        # only word_embedding used\n",
    "        return self.word_embedding(token_id)"
   ]
  },
  {
   "cell_type": "markdown",
   "metadata": {
    "id": "XcMMRzRPtCqT"
   },
   "source": [
    "# Другие эмбэддинги"
   ]
  },
  {
   "cell_type": "markdown",
   "metadata": {
    "id": "D8cy4Ji-tE7b"
   },
   "source": [
    "## navec\n",
    "\n",
    "https://github.com/natasha/navec"
   ]
  },
  {
   "cell_type": "code",
   "execution_count": null,
   "metadata": {
    "colab": {
     "base_uri": "https://localhost:8080/"
    },
    "id": "188iAXn2tPWY",
    "outputId": "086e5348-3cee-4927-f8c3-1ad4ab383d0f"
   },
   "outputs": [],
   "source": [
    "#!pip install navec"
   ]
  },
  {
   "cell_type": "code",
   "execution_count": null,
   "metadata": {
    "colab": {
     "base_uri": "https://localhost:8080/"
    },
    "id": "bPooO9Witd_z",
    "outputId": "ee72e814-40a1-42f4-a6f4-977c5e5932ff"
   },
   "outputs": [],
   "source": [
    "#!wget https://storage.yandexcloud.net/natasha-navec/packs/navec_hudlit_v1_12B_500K_300d_100q.tar"
   ]
  },
  {
   "cell_type": "code",
   "execution_count": null,
   "metadata": {
    "id": "MByt3lNVtLJA"
   },
   "outputs": [],
   "source": [
    "from navec import Navec\n",
    "\n",
    "path = 'navec_hudlit_v1_12B_500K_300d_100q.tar'\n",
    "navec = Navec.load(path)"
   ]
  },
  {
   "cell_type": "code",
   "execution_count": null,
   "metadata": {
    "colab": {
     "base_uri": "https://localhost:8080/"
    },
    "id": "00Zi9T3mtkpn",
    "outputId": "4f802889-5e0d-4394-848a-a2bef9c6923d"
   },
   "outputs": [],
   "source": [
    "navec['вечер'].shape"
   ]
  },
  {
   "cell_type": "code",
   "execution_count": null,
   "metadata": {},
   "outputs": [],
   "source": [
    "navec['вечер']"
   ]
  },
  {
   "cell_type": "code",
   "execution_count": null,
   "metadata": {},
   "outputs": [],
   "source": [
    "navec['дома']"
   ]
  },
  {
   "cell_type": "code",
   "execution_count": null,
   "metadata": {},
   "outputs": [],
   "source": [
    "navec['дом']"
   ]
  },
  {
   "cell_type": "markdown",
   "metadata": {
    "id": "k77KBgaQs_fc"
   },
   "source": [
    "# nltk"
   ]
  },
  {
   "cell_type": "code",
   "execution_count": null,
   "metadata": {},
   "outputs": [],
   "source": [
    "from nltk.tokenize import word_tokenize\n",
    "import nltk\n",
    "nltk.download('punkt')"
   ]
  },
  {
   "cell_type": "code",
   "execution_count": null,
   "metadata": {},
   "outputs": [],
   "source": [
    "sentence = \"\"\"At eight o'clock on Thursday morning Arthur didn't feel very good.\"\"\"\n",
    "tokens = nltk.word_tokenize(sentence)\n",
    "tokens"
   ]
  },
  {
   "cell_type": "markdown",
   "metadata": {
    "id": "tD2ws-4R20W5"
   },
   "source": [
    "![image.png](data:image/png;base64,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)"
   ]
  },
  {
   "cell_type": "code",
   "execution_count": null,
   "metadata": {},
   "outputs": [],
   "source": [
    "nltk.download('averaged_perceptron_tagger')\n",
    "\n",
    "tagged = nltk.pos_tag(tokens)\n",
    "tagged"
   ]
  },
  {
   "cell_type": "code",
   "execution_count": null,
   "metadata": {
    "id": "qJfUtKS2kclX"
   },
   "outputs": [],
   "source": []
  }
 ],
 "metadata": {
  "colab": {
   "provenance": [],
   "toc_visible": true
  },
  "kernelspec": {
   "display_name": "Python 3 (ipykernel)",
   "language": "python",
   "name": "python3"
  },
  "language_info": {
   "codemirror_mode": {
    "name": "ipython",
    "version": 3
   },
   "file_extension": ".py",
   "mimetype": "text/x-python",
   "name": "python",
   "nbconvert_exporter": "python",
   "pygments_lexer": "ipython3",
   "version": "3.11.4"
  }
 },
 "nbformat": 4,
 "nbformat_minor": 1
}
